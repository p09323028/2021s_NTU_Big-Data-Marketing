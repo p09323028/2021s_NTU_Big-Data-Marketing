{
  "nbformat": 4,
  "nbformat_minor": 0,
  "metadata": {
    "colab": {
      "name": "07_物以類聚人以分群顧客的分群與複製_作業.ipynb",
      "provenance": [],
      "collapsed_sections": [],
      "toc_visible": true,
      "authorship_tag": "ABX9TyNi6sAvz5Ux4Wyw3iPcOdz9",
      "include_colab_link": true
    },
    "kernelspec": {
      "name": "python3",
      "display_name": "Python 3"
    },
    "language_info": {
      "name": "python"
    }
  },
  "cells": [
    {
      "cell_type": "markdown",
      "metadata": {
        "id": "view-in-github",
        "colab_type": "text"
      },
      "source": [
        "<a href=\"https://colab.research.google.com/github/p09323028/2021s_NTU_Big-Data-Marketing/blob/main/Homework/07_%E7%89%A9%E4%BB%A5%E9%A1%9E%E8%81%9A%E4%BA%BA%E4%BB%A5%E5%88%86%E7%BE%A4%E9%A1%A7%E5%AE%A2%E7%9A%84%E5%88%86%E7%BE%A4%E8%88%87%E8%A4%87%E8%A3%BD_%E4%BD%9C%E6%A5%AD.ipynb\" target=\"_parent\"><img src=\"https://colab.research.google.com/assets/colab-badge.svg\" alt=\"Open In Colab\"/></a>"
      ]
    },
    {
      "cell_type": "markdown",
      "metadata": {
        "id": "VnwRInZ08_Gx"
      },
      "source": [
        "Author: Jinze Wu\n",
        "\n",
        "Student Number: p09323028"
      ]
    },
    {
      "cell_type": "code",
      "metadata": {
        "id": "OaPxL-QJ9FrE",
        "colab": {
          "base_uri": "https://localhost:8080/"
        },
        "outputId": "85955dd5-ab3c-442a-984b-9c579aa88fb9"
      },
      "source": [
        "import numpy as np\n",
        "import pandas as pd\n",
        "import matplotlib\n",
        "import matplotlib.pyplot as plt\n",
        "import seaborn as sns\n",
        "import datetime as dt\n",
        "import scipy.cluster.hierarchy as sch\n",
        "from sklearn.cluster import KMeans\n",
        "from scipy.stats import chi2_contingency, f_oneway\n",
        "from statsmodels.stats.multicomp import pairwise_tukeyhsd\n",
        "from statsmodels.stats.multicomp import MultiComparison\n",
        "import warnings\n",
        "warnings.filterwarnings('ignore')"
      ],
      "execution_count": null,
      "outputs": [
        {
          "output_type": "stream",
          "text": [
            "/usr/local/lib/python3.7/dist-packages/statsmodels/tools/_testing.py:19: FutureWarning: pandas.util.testing is deprecated. Use the functions in the public API at pandas.testing instead.\n",
            "  import pandas.util.testing as tm\n"
          ],
          "name": "stderr"
        }
      ]
    },
    {
      "cell_type": "markdown",
      "metadata": {
        "id": "doQ6MWxS9HlF"
      },
      "source": [
        "# **Download data**\n",
        "Download data from google cloud"
      ]
    },
    {
      "cell_type": "code",
      "metadata": {
        "id": "VbXFZviL9Kta",
        "colab": {
          "base_uri": "https://localhost:8080/"
        },
        "outputId": "199994b8-50d5-408b-d428-783f858e58fa"
      },
      "source": [
        "!gdown --id '1sQxXcpgeHbsoUoktBpetFWNZHcttvGxy' --output customers.xlsx"
      ],
      "execution_count": null,
      "outputs": [
        {
          "output_type": "stream",
          "text": [
            "Downloading...\n",
            "From: https://drive.google.com/uc?id=1sQxXcpgeHbsoUoktBpetFWNZHcttvGxy\n",
            "To: /content/customers.xlsx\n",
            "\r  0% 0.00/66.1k [00:00<?, ?B/s]\r100% 66.1k/66.1k [00:00<00:00, 51.5MB/s]\n"
          ],
          "name": "stdout"
        }
      ]
    },
    {
      "cell_type": "markdown",
      "metadata": {
        "id": "uttO1nyOPauh"
      },
      "source": [
        "# **Customers DataFrame**"
      ]
    },
    {
      "cell_type": "code",
      "metadata": {
        "id": "Bob_5VfwPHzy"
      },
      "source": [
        "customers = pd.read_excel('customers.xlsx')"
      ],
      "execution_count": null,
      "outputs": []
    },
    {
      "cell_type": "code",
      "metadata": {
        "id": "XuVSjF4kH9L2"
      },
      "source": [
        "def get_constellation(month, date):\n",
        "    dates = (21, 20, 21, 21, 22, 22, 23, 24, 24, 24, 23, 22)\n",
        "    constellations = ('摩羯座', '水瓶座', '雙魚座', '牡羊座', '金牛座', '雙子座', '巨蟹座', '獅子座', '處女座', '天秤座', '天蝎座', '射手座', '魔羯座')\n",
        "    if date < dates[month-1]:\n",
        "        return constellations[month-1]\n",
        "    else:\n",
        "        return constellations[month]\n",
        "def constellation_type(z):\n",
        "    if z in ['牡羊座', '獅子座', '射手座']:\n",
        "        return '火象'\n",
        "    if z in ['金牛座', '處女座', '魔羯座']:\n",
        "        return '土象'\n",
        "    if z in ['水瓶座', '雙子座', '天秤座']:\n",
        "        return '風象'\n",
        "    else:\n",
        "        return '水象'"
      ],
      "execution_count": null,
      "outputs": []
    },
    {
      "cell_type": "code",
      "metadata": {
        "colab": {
          "base_uri": "https://localhost:8080/",
          "height": 287
        },
        "id": "Wf32gOk2H-LX",
        "outputId": "2fb8ce91-981d-491a-cc90-67ff81a59ddc"
      },
      "source": [
        "customers['birthdate'] = pd.to_datetime(customers['生日'])\n",
        "customers['zodiac'] = customers['birthdate'].apply(lambda x: get_constellation(x.month, x.day))\n",
        "customers['zodiac_type'] = customers['zodiac'].apply(lambda x: constellation_type(x))\n",
        "customers.head(1)"
      ],
      "execution_count": null,
      "outputs": [
        {
          "output_type": "execute_result",
          "data": {
            "text/html": [
              "<div>\n",
              "<style scoped>\n",
              "    .dataframe tbody tr th:only-of-type {\n",
              "        vertical-align: middle;\n",
              "    }\n",
              "\n",
              "    .dataframe tbody tr th {\n",
              "        vertical-align: top;\n",
              "    }\n",
              "\n",
              "    .dataframe thead th {\n",
              "        text-align: right;\n",
              "    }\n",
              "</style>\n",
              "<table border=\"1\" class=\"dataframe\">\n",
              "  <thead>\n",
              "    <tr style=\"text-align: right;\">\n",
              "      <th></th>\n",
              "      <th>客戶ID</th>\n",
              "      <th>年齡</th>\n",
              "      <th>生日</th>\n",
              "      <th>居住地</th>\n",
              "      <th>教育程度</th>\n",
              "      <th>性別</th>\n",
              "      <th>婚姻狀況</th>\n",
              "      <th>職業</th>\n",
              "      <th>辦第一張信用卡的時間</th>\n",
              "      <th>R</th>\n",
              "      <th>F</th>\n",
              "      <th>M_mean</th>\n",
              "      <th>BS_Score</th>\n",
              "      <th>M_sum</th>\n",
              "      <th>CAI</th>\n",
              "      <th>CRI</th>\n",
              "      <th>Basket1</th>\n",
              "      <th>Basket2</th>\n",
              "      <th>Basket3</th>\n",
              "      <th>Basket4</th>\n",
              "      <th>Basket5</th>\n",
              "      <th>首次辦卡年齡</th>\n",
              "      <th>年齡層</th>\n",
              "      <th>首辦年齡層</th>\n",
              "      <th>持卡年數</th>\n",
              "      <th>持卡數</th>\n",
              "      <th>曾分期付款</th>\n",
              "      <th>曾國外消費</th>\n",
              "      <th>02_學費/教育</th>\n",
              "      <th>03_保險</th>\n",
              "      <th>05_捐贈</th>\n",
              "      <th>06_公用事業</th>\n",
              "      <th>07_百貨</th>\n",
              "      <th>08_精品</th>\n",
              "      <th>09_餐飲</th>\n",
              "      <th>10_藥妝</th>\n",
              "      <th>11_3C居家電信</th>\n",
              "      <th>12_量販超市</th>\n",
              "      <th>13_交通(含加值)</th>\n",
              "      <th>14_旅遊</th>\n",
              "      <th>15_休閒文化</th>\n",
              "      <th>16_無店舖</th>\n",
              "      <th>X2.中信錢加值</th>\n",
              "      <th>月初</th>\n",
              "      <th>月中</th>\n",
              "      <th>月底</th>\n",
              "      <th>週一</th>\n",
              "      <th>週二</th>\n",
              "      <th>週三</th>\n",
              "      <th>週四</th>\n",
              "      <th>週五</th>\n",
              "      <th>週六</th>\n",
              "      <th>週日</th>\n",
              "      <th>最常消費產業</th>\n",
              "      <th>最常消費月時點</th>\n",
              "      <th>最常消費週時點</th>\n",
              "      <th>birthdate</th>\n",
              "      <th>zodiac</th>\n",
              "      <th>zodiac_type</th>\n",
              "    </tr>\n",
              "  </thead>\n",
              "  <tbody>\n",
              "    <tr>\n",
              "      <th>0</th>\n",
              "      <td>89</td>\n",
              "      <td>59</td>\n",
              "      <td>1953-09-21</td>\n",
              "      <td>大台北地區</td>\n",
              "      <td>學士</td>\n",
              "      <td>1:男</td>\n",
              "      <td>已婚</td>\n",
              "      <td>白領主管</td>\n",
              "      <td>2003-11-27</td>\n",
              "      <td>19</td>\n",
              "      <td>85</td>\n",
              "      <td>1772.717647</td>\n",
              "      <td>369.909059</td>\n",
              "      <td>150681</td>\n",
              "      <td>-0.125625</td>\n",
              "      <td>0.364911</td>\n",
              "      <td>0.17653</td>\n",
              "      <td>-0.81513</td>\n",
              "      <td>-0.05315</td>\n",
              "      <td>-0.00061</td>\n",
              "      <td>0.36438</td>\n",
              "      <td>50</td>\n",
              "      <td>50歲以上</td>\n",
              "      <td>41-50歲</td>\n",
              "      <td>9</td>\n",
              "      <td>2</td>\n",
              "      <td>False</td>\n",
              "      <td>False</td>\n",
              "      <td>0.0</td>\n",
              "      <td>0.0</td>\n",
              "      <td>0.0</td>\n",
              "      <td>0.0</td>\n",
              "      <td>0.199023</td>\n",
              "      <td>0.0</td>\n",
              "      <td>0.092693</td>\n",
              "      <td>0.0</td>\n",
              "      <td>0.0</td>\n",
              "      <td>0.285829</td>\n",
              "      <td>0.361134</td>\n",
              "      <td>0.061322</td>\n",
              "      <td>0.0</td>\n",
              "      <td>0.0</td>\n",
              "      <td>0.0</td>\n",
              "      <td>0.207564</td>\n",
              "      <td>0.503262</td>\n",
              "      <td>0.289174</td>\n",
              "      <td>0.429809</td>\n",
              "      <td>0.121422</td>\n",
              "      <td>0.346334</td>\n",
              "      <td>0.049681</td>\n",
              "      <td>0.052754</td>\n",
              "      <td>0.0</td>\n",
              "      <td>0</td>\n",
              "      <td>13_交通(含加值)</td>\n",
              "      <td>月中</td>\n",
              "      <td>週一</td>\n",
              "      <td>1953-09-21</td>\n",
              "      <td>處女座</td>\n",
              "      <td>土象</td>\n",
              "    </tr>\n",
              "  </tbody>\n",
              "</table>\n",
              "</div>"
            ],
            "text/plain": [
              "   客戶ID  年齡         生日    居住地  ... 最常消費週時點  birthdate zodiac zodiac_type\n",
              "0    89  59 1953-09-21  大台北地區  ...      週一 1953-09-21    處女座          土象\n",
              "\n",
              "[1 rows x 59 columns]"
            ]
          },
          "metadata": {
            "tags": []
          },
          "execution_count": 5
        }
      ]
    },
    {
      "cell_type": "markdown",
      "metadata": {
        "id": "lRfhUplD_Igx"
      },
      "source": [
        "## **Check Distribution**\n",
        "```\n",
        "for i in customers.columns.to_list():\n",
        "    plt.hist(customers[str(i)])\n",
        "    plt.title(str(i))\n",
        "    plt.show()\n",
        "```"
      ]
    },
    {
      "cell_type": "markdown",
      "metadata": {
        "id": "XnrX-dSo_R0H"
      },
      "source": [
        "## **Natural logarithm**"
      ]
    },
    {
      "cell_type": "code",
      "metadata": {
        "id": "wNhCalwUYPsN",
        "colab": {
          "base_uri": "https://localhost:8080/",
          "height": 304
        },
        "outputId": "602ecf7d-2674-4c66-bbcc-018ccab6e724"
      },
      "source": [
        "customers['ln_R'] = np.log(customers.R)\n",
        "customers.ln_R = (customers.ln_R - customers.ln_R.mean()) / customers.ln_R.std()\n",
        "customers['ln_F'] = np.log(customers.F)\n",
        "customers.ln_F = (customers.ln_F - customers.ln_F.mean()) / customers.ln_F.std()\n",
        "customers['ln_M'] = np.log(customers.M_mean)\n",
        "customers.ln_M = (customers.ln_M - customers.ln_M.mean()) / customers.ln_M.std()\n",
        "customers['ln_BS_Score'] = np.log(customers.BS_Score)\n",
        "customers.ln_BS_Score = (customers.ln_BS_Score - customers.ln_BS_Score.mean()) / customers.ln_BS_Score.std()\n",
        "customers.CAI = (customers.CAI - customers.CAI.mean()) / customers.CAI.std()\n",
        "\n",
        "customers = customers.dropna()\n",
        "print(customers.shape)\n",
        "customers.head(1)"
      ],
      "execution_count": null,
      "outputs": [
        {
          "output_type": "stream",
          "text": [
            "(99, 63)\n"
          ],
          "name": "stdout"
        },
        {
          "output_type": "execute_result",
          "data": {
            "text/html": [
              "<div>\n",
              "<style scoped>\n",
              "    .dataframe tbody tr th:only-of-type {\n",
              "        vertical-align: middle;\n",
              "    }\n",
              "\n",
              "    .dataframe tbody tr th {\n",
              "        vertical-align: top;\n",
              "    }\n",
              "\n",
              "    .dataframe thead th {\n",
              "        text-align: right;\n",
              "    }\n",
              "</style>\n",
              "<table border=\"1\" class=\"dataframe\">\n",
              "  <thead>\n",
              "    <tr style=\"text-align: right;\">\n",
              "      <th></th>\n",
              "      <th>客戶ID</th>\n",
              "      <th>年齡</th>\n",
              "      <th>生日</th>\n",
              "      <th>居住地</th>\n",
              "      <th>教育程度</th>\n",
              "      <th>性別</th>\n",
              "      <th>婚姻狀況</th>\n",
              "      <th>職業</th>\n",
              "      <th>辦第一張信用卡的時間</th>\n",
              "      <th>R</th>\n",
              "      <th>F</th>\n",
              "      <th>M_mean</th>\n",
              "      <th>BS_Score</th>\n",
              "      <th>M_sum</th>\n",
              "      <th>CAI</th>\n",
              "      <th>CRI</th>\n",
              "      <th>Basket1</th>\n",
              "      <th>Basket2</th>\n",
              "      <th>Basket3</th>\n",
              "      <th>Basket4</th>\n",
              "      <th>Basket5</th>\n",
              "      <th>首次辦卡年齡</th>\n",
              "      <th>年齡層</th>\n",
              "      <th>首辦年齡層</th>\n",
              "      <th>持卡年數</th>\n",
              "      <th>持卡數</th>\n",
              "      <th>曾分期付款</th>\n",
              "      <th>曾國外消費</th>\n",
              "      <th>02_學費/教育</th>\n",
              "      <th>03_保險</th>\n",
              "      <th>05_捐贈</th>\n",
              "      <th>06_公用事業</th>\n",
              "      <th>07_百貨</th>\n",
              "      <th>08_精品</th>\n",
              "      <th>09_餐飲</th>\n",
              "      <th>10_藥妝</th>\n",
              "      <th>11_3C居家電信</th>\n",
              "      <th>12_量販超市</th>\n",
              "      <th>13_交通(含加值)</th>\n",
              "      <th>14_旅遊</th>\n",
              "      <th>15_休閒文化</th>\n",
              "      <th>16_無店舖</th>\n",
              "      <th>X2.中信錢加值</th>\n",
              "      <th>月初</th>\n",
              "      <th>月中</th>\n",
              "      <th>月底</th>\n",
              "      <th>週一</th>\n",
              "      <th>週二</th>\n",
              "      <th>週三</th>\n",
              "      <th>週四</th>\n",
              "      <th>週五</th>\n",
              "      <th>週六</th>\n",
              "      <th>週日</th>\n",
              "      <th>最常消費產業</th>\n",
              "      <th>最常消費月時點</th>\n",
              "      <th>最常消費週時點</th>\n",
              "      <th>birthdate</th>\n",
              "      <th>zodiac</th>\n",
              "      <th>zodiac_type</th>\n",
              "      <th>ln_R</th>\n",
              "      <th>ln_F</th>\n",
              "      <th>ln_M</th>\n",
              "      <th>ln_BS_Score</th>\n",
              "    </tr>\n",
              "  </thead>\n",
              "  <tbody>\n",
              "    <tr>\n",
              "      <th>0</th>\n",
              "      <td>89</td>\n",
              "      <td>59</td>\n",
              "      <td>1953-09-21</td>\n",
              "      <td>大台北地區</td>\n",
              "      <td>學士</td>\n",
              "      <td>1:男</td>\n",
              "      <td>已婚</td>\n",
              "      <td>白領主管</td>\n",
              "      <td>2003-11-27</td>\n",
              "      <td>19</td>\n",
              "      <td>85</td>\n",
              "      <td>1772.717647</td>\n",
              "      <td>369.909059</td>\n",
              "      <td>150681</td>\n",
              "      <td>-0.802598</td>\n",
              "      <td>0.364911</td>\n",
              "      <td>0.17653</td>\n",
              "      <td>-0.81513</td>\n",
              "      <td>-0.05315</td>\n",
              "      <td>-0.00061</td>\n",
              "      <td>0.36438</td>\n",
              "      <td>50</td>\n",
              "      <td>50歲以上</td>\n",
              "      <td>41-50歲</td>\n",
              "      <td>9</td>\n",
              "      <td>2</td>\n",
              "      <td>False</td>\n",
              "      <td>False</td>\n",
              "      <td>0.0</td>\n",
              "      <td>0.0</td>\n",
              "      <td>0.0</td>\n",
              "      <td>0.0</td>\n",
              "      <td>0.199023</td>\n",
              "      <td>0.0</td>\n",
              "      <td>0.092693</td>\n",
              "      <td>0.0</td>\n",
              "      <td>0.0</td>\n",
              "      <td>0.285829</td>\n",
              "      <td>0.361134</td>\n",
              "      <td>0.061322</td>\n",
              "      <td>0.0</td>\n",
              "      <td>0.0</td>\n",
              "      <td>0.0</td>\n",
              "      <td>0.207564</td>\n",
              "      <td>0.503262</td>\n",
              "      <td>0.289174</td>\n",
              "      <td>0.429809</td>\n",
              "      <td>0.121422</td>\n",
              "      <td>0.346334</td>\n",
              "      <td>0.049681</td>\n",
              "      <td>0.052754</td>\n",
              "      <td>0.0</td>\n",
              "      <td>0</td>\n",
              "      <td>13_交通(含加值)</td>\n",
              "      <td>月中</td>\n",
              "      <td>週一</td>\n",
              "      <td>1953-09-21</td>\n",
              "      <td>處女座</td>\n",
              "      <td>土象</td>\n",
              "      <td>0.096628</td>\n",
              "      <td>0.663452</td>\n",
              "      <td>0.018199</td>\n",
              "      <td>0.642222</td>\n",
              "    </tr>\n",
              "  </tbody>\n",
              "</table>\n",
              "</div>"
            ],
            "text/plain": [
              "   客戶ID  年齡         生日    居住地  ...      ln_R      ln_F      ln_M ln_BS_Score\n",
              "0    89  59 1953-09-21  大台北地區  ...  0.096628  0.663452  0.018199    0.642222\n",
              "\n",
              "[1 rows x 63 columns]"
            ]
          },
          "metadata": {
            "tags": []
          },
          "execution_count": 6
        }
      ]
    },
    {
      "cell_type": "markdown",
      "metadata": {
        "id": "Q7nmzzLxT_Zc"
      },
      "source": [
        "# **Cluster Analysis**"
      ]
    },
    {
      "cell_type": "markdown",
      "metadata": {
        "id": "zrQLIBHA_zI2"
      },
      "source": [
        "## **Hierarchical Cluster (Ward)**"
      ]
    },
    {
      "cell_type": "code",
      "metadata": {
        "colab": {
          "base_uri": "https://localhost:8080/",
          "height": 279
        },
        "id": "hYjaIeDP_zYg",
        "outputId": "57b7cd51-b0a2-46bf-9871-f3ae351b6e6f"
      },
      "source": [
        "h_cluster = sch.linkage(customers[['CAI','ln_BS_Score']], metric='euclidean', method='ward')\n",
        "dendogram = sch.dendrogram(h_cluster)\n",
        "h_cluster = sch.fcluster(h_cluster, 3, criterion='maxclust')\n",
        "# plt.title('Dendograms')\n",
        "plt.figure(dpi=200)\n",
        "dendogram.keys()\n",
        "plt.show()\n"
      ],
      "execution_count": null,
      "outputs": [
        {
          "output_type": "display_data",
          "data": {
            "image/png": "[encoded data removed]",
            "text/plain": [
              "<Figure size 432x288 with 1 Axes>"
            ]
          },
          "metadata": {
            "tags": [],
            "needs_background": "light"
          }
        },
        {
          "output_type": "display_data",
          "data": {
            "text/plain": [
              "<Figure size 1200x800 with 0 Axes>"
            ]
          },
          "metadata": {
            "tags": []
          }
        }
      ]
    },
    {
      "cell_type": "code",
      "metadata": {
        "id": "6y09A2TM_8gG"
      },
      "source": [
        "customers['h_cluster'] = h_cluster\n",
        "# customers.h_cluster.value_counts()"
      ],
      "execution_count": null,
      "outputs": []
    },
    {
      "cell_type": "markdown",
      "metadata": {
        "id": "GoxRZWUVAICH"
      },
      "source": [
        "## **K-means**"
      ]
    },
    {
      "cell_type": "code",
      "metadata": {
        "colab": {
          "base_uri": "https://localhost:8080/"
        },
        "id": "Nt5v6nQSALqg",
        "outputId": "d089a248-ad63-436e-c05e-a566d1986d9a"
      },
      "source": [
        "kmeans = KMeans(n_clusters=3, max_iter=50, random_state=0)\n",
        "kmeans.fit(customers[['CAI','ln_BS_Score']])\n",
        "k_means = kmeans.predict(customers[['CAI','ln_BS_Score']])\n",
        "customers['k_means'] = k_means\n",
        "customers.k_means.value_counts()"
      ],
      "execution_count": null,
      "outputs": [
        {
          "output_type": "execute_result",
          "data": {
            "text/plain": [
              "1    41\n",
              "0    32\n",
              "2    26\n",
              "Name: k_means, dtype: int64"
            ]
          },
          "metadata": {
            "tags": []
          },
          "execution_count": 9
        }
      ]
    },
    {
      "cell_type": "markdown",
      "metadata": {
        "id": "ceXme0EDAVbk"
      },
      "source": [
        "## **Scatter Matrix**"
      ]
    },
    {
      "cell_type": "code",
      "metadata": {
        "colab": {
          "base_uri": "https://localhost:8080/",
          "height": 372
        },
        "id": "Sqq2lpUJAVkK",
        "outputId": "f9140fd0-2547-4864-9809-087a64857409"
      },
      "source": [
        "sns.set_theme(style='ticks')\n",
        "sns.pairplot(customers[['CAI','ln_BS_Score','k_means']], hue='k_means')\n",
        "plt.show()"
      ],
      "execution_count": null,
      "outputs": [
        {
          "output_type": "display_data",
          "data": {
            "image/png": "[encoded data removed]",
            "text/plain": [
              "<Figure size 422.425x360 with 6 Axes>"
            ]
          },
          "metadata": {
            "tags": []
          }
        }
      ]
    },
    {
      "cell_type": "code",
      "metadata": {
        "id": "ezrBQOLrAalf"
      },
      "source": [
        "# plt.scatter(x=customers.CAI, y=customers.ln_BS_Score, c=customers.k_means)"
      ],
      "execution_count": null,
      "outputs": []
    },
    {
      "cell_type": "markdown",
      "metadata": {
        "id": "aGyXccxKAd9r"
      },
      "source": [
        "## **Cluster property**"
      ]
    },
    {
      "cell_type": "code",
      "metadata": {
        "colab": {
          "base_uri": "https://localhost:8080/",
          "height": 173
        },
        "id": "FsamAdK2AmpU",
        "outputId": "f90775a7-1448-4dc8-d3fa-2629f0a0d375"
      },
      "source": [
        "customers.groupby(by='k_means').mean()[['R','F','M_mean','BS_Score','CAI']]"
      ],
      "execution_count": null,
      "outputs": [
        {
          "output_type": "execute_result",
          "data": {
            "text/html": [
              "<div>\n",
              "<style scoped>\n",
              "    .dataframe tbody tr th:only-of-type {\n",
              "        vertical-align: middle;\n",
              "    }\n",
              "\n",
              "    .dataframe tbody tr th {\n",
              "        vertical-align: top;\n",
              "    }\n",
              "\n",
              "    .dataframe thead th {\n",
              "        text-align: right;\n",
              "    }\n",
              "</style>\n",
              "<table border=\"1\" class=\"dataframe\">\n",
              "  <thead>\n",
              "    <tr style=\"text-align: right;\">\n",
              "      <th></th>\n",
              "      <th>R</th>\n",
              "      <th>F</th>\n",
              "      <th>M_mean</th>\n",
              "      <th>BS_Score</th>\n",
              "      <th>CAI</th>\n",
              "    </tr>\n",
              "    <tr>\n",
              "      <th>k_means</th>\n",
              "      <th></th>\n",
              "      <th></th>\n",
              "      <th></th>\n",
              "      <th></th>\n",
              "      <th></th>\n",
              "    </tr>\n",
              "  </thead>\n",
              "  <tbody>\n",
              "    <tr>\n",
              "      <th>0</th>\n",
              "      <td>100.343750</td>\n",
              "      <td>16.187500</td>\n",
              "      <td>2402.808824</td>\n",
              "      <td>88.495723</td>\n",
              "      <td>0.794920</td>\n",
              "    </tr>\n",
              "    <tr>\n",
              "      <th>1</th>\n",
              "      <td>7.878049</td>\n",
              "      <td>157.731707</td>\n",
              "      <td>2251.764124</td>\n",
              "      <td>660.536858</td>\n",
              "      <td>0.111424</td>\n",
              "    </tr>\n",
              "    <tr>\n",
              "      <th>2</th>\n",
              "      <td>143.153846</td>\n",
              "      <td>29.923077</td>\n",
              "      <td>2877.874063</td>\n",
              "      <td>142.257687</td>\n",
              "      <td>-1.154071</td>\n",
              "    </tr>\n",
              "  </tbody>\n",
              "</table>\n",
              "</div>"
            ],
            "text/plain": [
              "                  R           F       M_mean    BS_Score       CAI\n",
              "k_means                                                           \n",
              "0        100.343750   16.187500  2402.808824   88.495723  0.794920\n",
              "1          7.878049  157.731707  2251.764124  660.536858  0.111424\n",
              "2        143.153846   29.923077  2877.874063  142.257687 -1.154071"
            ]
          },
          "metadata": {
            "tags": []
          },
          "execution_count": 12
        }
      ]
    },
    {
      "cell_type": "markdown",
      "metadata": {
        "id": "qSpo8uL9ahYh"
      },
      "source": [
        "- 0 發展群\n",
        "- 1 主力群\n",
        "- 2 離失群"
      ]
    },
    {
      "cell_type": "code",
      "metadata": {
        "id": "JhpQz-W_aaHG"
      },
      "source": [
        "def clusterporperty(x):\n",
        "    if x == 0:\n",
        "        return '發展群'\n",
        "    if x == 1:\n",
        "        return '主力群'\n",
        "    else:\n",
        "        return '離失群'"
      ],
      "execution_count": null,
      "outputs": []
    },
    {
      "cell_type": "code",
      "metadata": {
        "id": "MtAhuPS_aa00"
      },
      "source": [
        "customers['ClusterName'] = customers.k_means.apply(clusterporperty)"
      ],
      "execution_count": null,
      "outputs": []
    },
    {
      "cell_type": "markdown",
      "metadata": {
        "id": "Ikf4BzRwowXL"
      },
      "source": [
        "# **Chi-Squared Test**"
      ]
    },
    {
      "cell_type": "code",
      "metadata": {
        "colab": {
          "base_uri": "https://localhost:8080/",
          "height": 287
        },
        "id": "hUV9wOD1tEDj",
        "outputId": "63ce3fad-c276-46be-f99a-227eed625905"
      },
      "source": [
        "df = customers.copy()\n",
        "df.head(1)"
      ],
      "execution_count": null,
      "outputs": [
        {
          "output_type": "execute_result",
          "data": {
            "text/html": [
              "<div>\n",
              "<style scoped>\n",
              "    .dataframe tbody tr th:only-of-type {\n",
              "        vertical-align: middle;\n",
              "    }\n",
              "\n",
              "    .dataframe tbody tr th {\n",
              "        vertical-align: top;\n",
              "    }\n",
              "\n",
              "    .dataframe thead th {\n",
              "        text-align: right;\n",
              "    }\n",
              "</style>\n",
              "<table border=\"1\" class=\"dataframe\">\n",
              "  <thead>\n",
              "    <tr style=\"text-align: right;\">\n",
              "      <th></th>\n",
              "      <th>客戶ID</th>\n",
              "      <th>年齡</th>\n",
              "      <th>生日</th>\n",
              "      <th>居住地</th>\n",
              "      <th>教育程度</th>\n",
              "      <th>性別</th>\n",
              "      <th>婚姻狀況</th>\n",
              "      <th>職業</th>\n",
              "      <th>辦第一張信用卡的時間</th>\n",
              "      <th>R</th>\n",
              "      <th>F</th>\n",
              "      <th>M_mean</th>\n",
              "      <th>BS_Score</th>\n",
              "      <th>M_sum</th>\n",
              "      <th>CAI</th>\n",
              "      <th>CRI</th>\n",
              "      <th>Basket1</th>\n",
              "      <th>Basket2</th>\n",
              "      <th>Basket3</th>\n",
              "      <th>Basket4</th>\n",
              "      <th>Basket5</th>\n",
              "      <th>首次辦卡年齡</th>\n",
              "      <th>年齡層</th>\n",
              "      <th>首辦年齡層</th>\n",
              "      <th>持卡年數</th>\n",
              "      <th>持卡數</th>\n",
              "      <th>曾分期付款</th>\n",
              "      <th>曾國外消費</th>\n",
              "      <th>02_學費/教育</th>\n",
              "      <th>03_保險</th>\n",
              "      <th>05_捐贈</th>\n",
              "      <th>06_公用事業</th>\n",
              "      <th>07_百貨</th>\n",
              "      <th>08_精品</th>\n",
              "      <th>09_餐飲</th>\n",
              "      <th>10_藥妝</th>\n",
              "      <th>11_3C居家電信</th>\n",
              "      <th>12_量販超市</th>\n",
              "      <th>13_交通(含加值)</th>\n",
              "      <th>14_旅遊</th>\n",
              "      <th>15_休閒文化</th>\n",
              "      <th>16_無店舖</th>\n",
              "      <th>X2.中信錢加值</th>\n",
              "      <th>月初</th>\n",
              "      <th>月中</th>\n",
              "      <th>月底</th>\n",
              "      <th>週一</th>\n",
              "      <th>週二</th>\n",
              "      <th>週三</th>\n",
              "      <th>週四</th>\n",
              "      <th>週五</th>\n",
              "      <th>週六</th>\n",
              "      <th>週日</th>\n",
              "      <th>最常消費產業</th>\n",
              "      <th>最常消費月時點</th>\n",
              "      <th>最常消費週時點</th>\n",
              "      <th>birthdate</th>\n",
              "      <th>zodiac</th>\n",
              "      <th>zodiac_type</th>\n",
              "      <th>ln_R</th>\n",
              "      <th>ln_F</th>\n",
              "      <th>ln_M</th>\n",
              "      <th>ln_BS_Score</th>\n",
              "      <th>h_cluster</th>\n",
              "      <th>k_means</th>\n",
              "      <th>ClusterName</th>\n",
              "    </tr>\n",
              "  </thead>\n",
              "  <tbody>\n",
              "    <tr>\n",
              "      <th>0</th>\n",
              "      <td>89</td>\n",
              "      <td>59</td>\n",
              "      <td>1953-09-21</td>\n",
              "      <td>大台北地區</td>\n",
              "      <td>學士</td>\n",
              "      <td>1:男</td>\n",
              "      <td>已婚</td>\n",
              "      <td>白領主管</td>\n",
              "      <td>2003-11-27</td>\n",
              "      <td>19</td>\n",
              "      <td>85</td>\n",
              "      <td>1772.717647</td>\n",
              "      <td>369.909059</td>\n",
              "      <td>150681</td>\n",
              "      <td>-0.802598</td>\n",
              "      <td>0.364911</td>\n",
              "      <td>0.17653</td>\n",
              "      <td>-0.81513</td>\n",
              "      <td>-0.05315</td>\n",
              "      <td>-0.00061</td>\n",
              "      <td>0.36438</td>\n",
              "      <td>50</td>\n",
              "      <td>50歲以上</td>\n",
              "      <td>41-50歲</td>\n",
              "      <td>9</td>\n",
              "      <td>2</td>\n",
              "      <td>False</td>\n",
              "      <td>False</td>\n",
              "      <td>0.0</td>\n",
              "      <td>0.0</td>\n",
              "      <td>0.0</td>\n",
              "      <td>0.0</td>\n",
              "      <td>0.199023</td>\n",
              "      <td>0.0</td>\n",
              "      <td>0.092693</td>\n",
              "      <td>0.0</td>\n",
              "      <td>0.0</td>\n",
              "      <td>0.285829</td>\n",
              "      <td>0.361134</td>\n",
              "      <td>0.061322</td>\n",
              "      <td>0.0</td>\n",
              "      <td>0.0</td>\n",
              "      <td>0.0</td>\n",
              "      <td>0.207564</td>\n",
              "      <td>0.503262</td>\n",
              "      <td>0.289174</td>\n",
              "      <td>0.429809</td>\n",
              "      <td>0.121422</td>\n",
              "      <td>0.346334</td>\n",
              "      <td>0.049681</td>\n",
              "      <td>0.052754</td>\n",
              "      <td>0.0</td>\n",
              "      <td>0</td>\n",
              "      <td>13_交通(含加值)</td>\n",
              "      <td>月中</td>\n",
              "      <td>週一</td>\n",
              "      <td>1953-09-21</td>\n",
              "      <td>處女座</td>\n",
              "      <td>土象</td>\n",
              "      <td>0.096628</td>\n",
              "      <td>0.663452</td>\n",
              "      <td>0.018199</td>\n",
              "      <td>0.642222</td>\n",
              "      <td>1</td>\n",
              "      <td>1</td>\n",
              "      <td>主力群</td>\n",
              "    </tr>\n",
              "  </tbody>\n",
              "</table>\n",
              "</div>"
            ],
            "text/plain": [
              "   客戶ID  年齡         生日    居住地  ... ln_BS_Score h_cluster k_means ClusterName\n",
              "0    89  59 1953-09-21  大台北地區  ...    0.642222         1       1         主力群\n",
              "\n",
              "[1 rows x 66 columns]"
            ]
          },
          "metadata": {
            "tags": []
          },
          "execution_count": 15
        }
      ]
    },
    {
      "cell_type": "markdown",
      "metadata": {
        "id": "p42rPNAlhxzE"
      },
      "source": [
        "## **Location_Test**"
      ]
    },
    {
      "cell_type": "code",
      "metadata": {
        "colab": {
          "base_uri": "https://localhost:8080/",
          "height": 238
        },
        "id": "chLumMXyhxzF",
        "outputId": "2987d867-43c9-4b7c-a03c-ee47c1cb667a"
      },
      "source": [
        "contigency = pd.crosstab(df['居住地'], df.ClusterName)\n",
        "c, p, dof, expected = chi2_contingency(contigency)\n",
        "display((contigency.T/contigency.sum(axis=1)).T)\n",
        "print('Chi-square is {:.2f}'.format(c))\n",
        "print('p_value is {:.2f}'.format(p))"
      ],
      "execution_count": null,
      "outputs": [
        {
          "output_type": "display_data",
          "data": {
            "text/html": [
              "<div>\n",
              "<style scoped>\n",
              "    .dataframe tbody tr th:only-of-type {\n",
              "        vertical-align: middle;\n",
              "    }\n",
              "\n",
              "    .dataframe tbody tr th {\n",
              "        vertical-align: top;\n",
              "    }\n",
              "\n",
              "    .dataframe thead th {\n",
              "        text-align: right;\n",
              "    }\n",
              "</style>\n",
              "<table border=\"1\" class=\"dataframe\">\n",
              "  <thead>\n",
              "    <tr style=\"text-align: right;\">\n",
              "      <th>ClusterName</th>\n",
              "      <th>主力群</th>\n",
              "      <th>發展群</th>\n",
              "      <th>離失群</th>\n",
              "    </tr>\n",
              "    <tr>\n",
              "      <th>居住地</th>\n",
              "      <th></th>\n",
              "      <th></th>\n",
              "      <th></th>\n",
              "    </tr>\n",
              "  </thead>\n",
              "  <tbody>\n",
              "    <tr>\n",
              "      <th>台中地區</th>\n",
              "      <td>0.352941</td>\n",
              "      <td>0.294118</td>\n",
              "      <td>0.352941</td>\n",
              "    </tr>\n",
              "    <tr>\n",
              "      <th>嘉南地區</th>\n",
              "      <td>0.333333</td>\n",
              "      <td>0.444444</td>\n",
              "      <td>0.222222</td>\n",
              "    </tr>\n",
              "    <tr>\n",
              "      <th>大台北地區</th>\n",
              "      <td>0.442308</td>\n",
              "      <td>0.307692</td>\n",
              "      <td>0.250000</td>\n",
              "    </tr>\n",
              "    <tr>\n",
              "      <th>高屏地區</th>\n",
              "      <td>0.428571</td>\n",
              "      <td>0.333333</td>\n",
              "      <td>0.238095</td>\n",
              "    </tr>\n",
              "  </tbody>\n",
              "</table>\n",
              "</div>"
            ],
            "text/plain": [
              "ClusterName       主力群       發展群       離失群\n",
              "居住地                                      \n",
              "台中地區         0.352941  0.294118  0.352941\n",
              "嘉南地區         0.333333  0.444444  0.222222\n",
              "大台北地區        0.442308  0.307692  0.250000\n",
              "高屏地區         0.428571  0.333333  0.238095"
            ]
          },
          "metadata": {
            "tags": []
          }
        },
        {
          "output_type": "stream",
          "text": [
            "Chi-square is 1.57\n",
            "p_value is 0.95\n"
          ],
          "name": "stdout"
        }
      ]
    },
    {
      "cell_type": "markdown",
      "metadata": {
        "id": "cERsTKhn588N"
      },
      "source": [
        "## **Education_Test**"
      ]
    },
    {
      "cell_type": "code",
      "metadata": {
        "colab": {
          "base_uri": "https://localhost:8080/",
          "height": 300
        },
        "id": "PlBkStfC58jQ",
        "outputId": "9e737dcc-6d73-4411-e44d-a949f54f00c4"
      },
      "source": [
        "contigency = pd.crosstab(df['教育程度'], df.ClusterName)\n",
        "c, p, dof, expected = chi2_contingency(contigency)\n",
        "display((contigency.T/contigency.sum(axis=1)).T)\n",
        "print('Chi-square is {:.2f}'.format(c))\n",
        "print('p_value is {:.2f}'.format(p))"
      ],
      "execution_count": null,
      "outputs": [
        {
          "output_type": "display_data",
          "data": {
            "text/html": [
              "<div>\n",
              "<style scoped>\n",
              "    .dataframe tbody tr th:only-of-type {\n",
              "        vertical-align: middle;\n",
              "    }\n",
              "\n",
              "    .dataframe tbody tr th {\n",
              "        vertical-align: top;\n",
              "    }\n",
              "\n",
              "    .dataframe thead th {\n",
              "        text-align: right;\n",
              "    }\n",
              "</style>\n",
              "<table border=\"1\" class=\"dataframe\">\n",
              "  <thead>\n",
              "    <tr style=\"text-align: right;\">\n",
              "      <th>ClusterName</th>\n",
              "      <th>主力群</th>\n",
              "      <th>發展群</th>\n",
              "      <th>離失群</th>\n",
              "    </tr>\n",
              "    <tr>\n",
              "      <th>教育程度</th>\n",
              "      <th></th>\n",
              "      <th></th>\n",
              "      <th></th>\n",
              "    </tr>\n",
              "  </thead>\n",
              "  <tbody>\n",
              "    <tr>\n",
              "      <th>其他</th>\n",
              "      <td>0.000000</td>\n",
              "      <td>0.000000</td>\n",
              "      <td>1.000000</td>\n",
              "    </tr>\n",
              "    <tr>\n",
              "      <th>初中及初中以下</th>\n",
              "      <td>0.250000</td>\n",
              "      <td>0.500000</td>\n",
              "      <td>0.250000</td>\n",
              "    </tr>\n",
              "    <tr>\n",
              "      <th>學士</th>\n",
              "      <td>0.431818</td>\n",
              "      <td>0.250000</td>\n",
              "      <td>0.318182</td>\n",
              "    </tr>\n",
              "    <tr>\n",
              "      <th>專科</th>\n",
              "      <td>0.473684</td>\n",
              "      <td>0.368421</td>\n",
              "      <td>0.157895</td>\n",
              "    </tr>\n",
              "    <tr>\n",
              "      <th>研究所以上</th>\n",
              "      <td>0.500000</td>\n",
              "      <td>0.416667</td>\n",
              "      <td>0.083333</td>\n",
              "    </tr>\n",
              "    <tr>\n",
              "      <th>高中</th>\n",
              "      <td>0.315789</td>\n",
              "      <td>0.368421</td>\n",
              "      <td>0.315789</td>\n",
              "    </tr>\n",
              "  </tbody>\n",
              "</table>\n",
              "</div>"
            ],
            "text/plain": [
              "ClusterName       主力群       發展群       離失群\n",
              "教育程度                                     \n",
              "其他           0.000000  0.000000  1.000000\n",
              "初中及初中以下      0.250000  0.500000  0.250000\n",
              "學士           0.431818  0.250000  0.318182\n",
              "專科           0.473684  0.368421  0.157895\n",
              "研究所以上        0.500000  0.416667  0.083333\n",
              "高中           0.315789  0.368421  0.315789"
            ]
          },
          "metadata": {
            "tags": []
          }
        },
        {
          "output_type": "stream",
          "text": [
            "Chi-square is 8.59\n",
            "p_value is 0.57\n"
          ],
          "name": "stdout"
        }
      ]
    },
    {
      "cell_type": "markdown",
      "metadata": {
        "id": "muF2dBDM18aX"
      },
      "source": [
        "## **Sex_Test**"
      ]
    },
    {
      "cell_type": "code",
      "metadata": {
        "colab": {
          "base_uri": "https://localhost:8080/",
          "height": 176
        },
        "id": "hvhadzO53MvC",
        "outputId": "ce1a2ad5-2ced-448f-d526-269af62ac71f"
      },
      "source": [
        "contigency = pd.crosstab(df['性別'], df.ClusterName)\n",
        "c, p, dof, expected = chi2_contingency(contigency)\n",
        "display((contigency.T/contigency.sum(axis=1)).T)\n",
        "print('Chi-square is {:.2f}'.format(c))\n",
        "print('p_value is {:.2f}'.format(p))"
      ],
      "execution_count": null,
      "outputs": [
        {
          "output_type": "display_data",
          "data": {
            "text/html": [
              "<div>\n",
              "<style scoped>\n",
              "    .dataframe tbody tr th:only-of-type {\n",
              "        vertical-align: middle;\n",
              "    }\n",
              "\n",
              "    .dataframe tbody tr th {\n",
              "        vertical-align: top;\n",
              "    }\n",
              "\n",
              "    .dataframe thead th {\n",
              "        text-align: right;\n",
              "    }\n",
              "</style>\n",
              "<table border=\"1\" class=\"dataframe\">\n",
              "  <thead>\n",
              "    <tr style=\"text-align: right;\">\n",
              "      <th>ClusterName</th>\n",
              "      <th>主力群</th>\n",
              "      <th>發展群</th>\n",
              "      <th>離失群</th>\n",
              "    </tr>\n",
              "    <tr>\n",
              "      <th>性別</th>\n",
              "      <th></th>\n",
              "      <th></th>\n",
              "      <th></th>\n",
              "    </tr>\n",
              "  </thead>\n",
              "  <tbody>\n",
              "    <tr>\n",
              "      <th>1:男</th>\n",
              "      <td>0.431373</td>\n",
              "      <td>0.352941</td>\n",
              "      <td>0.215686</td>\n",
              "    </tr>\n",
              "    <tr>\n",
              "      <th>2:女</th>\n",
              "      <td>0.395833</td>\n",
              "      <td>0.291667</td>\n",
              "      <td>0.312500</td>\n",
              "    </tr>\n",
              "  </tbody>\n",
              "</table>\n",
              "</div>"
            ],
            "text/plain": [
              "ClusterName       主力群       發展群       離失群\n",
              "性別                                       \n",
              "1:男          0.431373  0.352941  0.215686\n",
              "2:女          0.395833  0.291667  0.312500"
            ]
          },
          "metadata": {
            "tags": []
          }
        },
        {
          "output_type": "stream",
          "text": [
            "Chi-square is 1.25\n",
            "p_value is 0.54\n"
          ],
          "name": "stdout"
        }
      ]
    },
    {
      "cell_type": "markdown",
      "metadata": {
        "id": "UVXnI7MP5bTB"
      },
      "source": [
        "## **Single_Test**"
      ]
    },
    {
      "cell_type": "code",
      "metadata": {
        "colab": {
          "base_uri": "https://localhost:8080/",
          "height": 176
        },
        "id": "WWHXuK7_2-fy",
        "outputId": "60adeb14-d758-48b8-dfd2-101195a8edcf"
      },
      "source": [
        "contigency = pd.crosstab(df['婚姻狀況'], df.ClusterName)\n",
        "c, p, dof, expected = chi2_contingency(contigency)\n",
        "display((contigency.T/contigency.sum(axis=1)).T)\n",
        "print('Chi-square is {:.2f}'.format(c))\n",
        "print('p_value is {:.2f}'.format(p))"
      ],
      "execution_count": null,
      "outputs": [
        {
          "output_type": "display_data",
          "data": {
            "text/html": [
              "<div>\n",
              "<style scoped>\n",
              "    .dataframe tbody tr th:only-of-type {\n",
              "        vertical-align: middle;\n",
              "    }\n",
              "\n",
              "    .dataframe tbody tr th {\n",
              "        vertical-align: top;\n",
              "    }\n",
              "\n",
              "    .dataframe thead th {\n",
              "        text-align: right;\n",
              "    }\n",
              "</style>\n",
              "<table border=\"1\" class=\"dataframe\">\n",
              "  <thead>\n",
              "    <tr style=\"text-align: right;\">\n",
              "      <th>ClusterName</th>\n",
              "      <th>主力群</th>\n",
              "      <th>發展群</th>\n",
              "      <th>離失群</th>\n",
              "    </tr>\n",
              "    <tr>\n",
              "      <th>婚姻狀況</th>\n",
              "      <th></th>\n",
              "      <th></th>\n",
              "      <th></th>\n",
              "    </tr>\n",
              "  </thead>\n",
              "  <tbody>\n",
              "    <tr>\n",
              "      <th>單身</th>\n",
              "      <td>0.486486</td>\n",
              "      <td>0.270270</td>\n",
              "      <td>0.243243</td>\n",
              "    </tr>\n",
              "    <tr>\n",
              "      <th>已婚</th>\n",
              "      <td>0.370968</td>\n",
              "      <td>0.354839</td>\n",
              "      <td>0.274194</td>\n",
              "    </tr>\n",
              "  </tbody>\n",
              "</table>\n",
              "</div>"
            ],
            "text/plain": [
              "ClusterName       主力群       發展群       離失群\n",
              "婚姻狀況                                     \n",
              "單身           0.486486  0.270270  0.243243\n",
              "已婚           0.370968  0.354839  0.274194"
            ]
          },
          "metadata": {
            "tags": []
          }
        },
        {
          "output_type": "stream",
          "text": [
            "Chi-square is 1.34\n",
            "p_value is 0.51\n"
          ],
          "name": "stdout"
        }
      ]
    },
    {
      "cell_type": "markdown",
      "metadata": {
        "id": "l_lCsuN06Sg8"
      },
      "source": [
        "## **Occupation_Test**"
      ]
    },
    {
      "cell_type": "code",
      "metadata": {
        "colab": {
          "base_uri": "https://localhost:8080/",
          "height": 517
        },
        "id": "mAs_m2fw6u1m",
        "outputId": "f86addeb-7f96-4b34-e135-0f1555283c18"
      },
      "source": [
        "contigency = pd.crosstab(df['職業'], df.ClusterName)\n",
        "c, p, dof, expected = chi2_contingency(contigency)\n",
        "display((contigency.T/contigency.sum(axis=1)).T)\n",
        "print('Chi-square is {:.2f}'.format(c))\n",
        "print('p_value is {:.2f}'.format(p))"
      ],
      "execution_count": null,
      "outputs": [
        {
          "output_type": "display_data",
          "data": {
            "text/html": [
              "<div>\n",
              "<style scoped>\n",
              "    .dataframe tbody tr th:only-of-type {\n",
              "        vertical-align: middle;\n",
              "    }\n",
              "\n",
              "    .dataframe tbody tr th {\n",
              "        vertical-align: top;\n",
              "    }\n",
              "\n",
              "    .dataframe thead th {\n",
              "        text-align: right;\n",
              "    }\n",
              "</style>\n",
              "<table border=\"1\" class=\"dataframe\">\n",
              "  <thead>\n",
              "    <tr style=\"text-align: right;\">\n",
              "      <th>ClusterName</th>\n",
              "      <th>主力群</th>\n",
              "      <th>發展群</th>\n",
              "      <th>離失群</th>\n",
              "    </tr>\n",
              "    <tr>\n",
              "      <th>職業</th>\n",
              "      <th></th>\n",
              "      <th></th>\n",
              "      <th></th>\n",
              "    </tr>\n",
              "  </thead>\n",
              "  <tbody>\n",
              "    <tr>\n",
              "      <th>一般服務從業人員</th>\n",
              "      <td>0.000000</td>\n",
              "      <td>1.000000</td>\n",
              "      <td>0.000000</td>\n",
              "    </tr>\n",
              "    <tr>\n",
              "      <th>公務員</th>\n",
              "      <td>0.400000</td>\n",
              "      <td>0.200000</td>\n",
              "      <td>0.400000</td>\n",
              "    </tr>\n",
              "    <tr>\n",
              "      <th>其他</th>\n",
              "      <td>0.000000</td>\n",
              "      <td>0.000000</td>\n",
              "      <td>1.000000</td>\n",
              "    </tr>\n",
              "    <tr>\n",
              "      <th>專業(技術)人員</th>\n",
              "      <td>1.000000</td>\n",
              "      <td>0.000000</td>\n",
              "      <td>0.000000</td>\n",
              "    </tr>\n",
              "    <tr>\n",
              "      <th>白領一般職員</th>\n",
              "      <td>0.368421</td>\n",
              "      <td>0.342105</td>\n",
              "      <td>0.289474</td>\n",
              "    </tr>\n",
              "    <tr>\n",
              "      <th>白領主管</th>\n",
              "      <td>0.500000</td>\n",
              "      <td>0.277778</td>\n",
              "      <td>0.222222</td>\n",
              "    </tr>\n",
              "    <tr>\n",
              "      <th>自營事業老闆</th>\n",
              "      <td>0.444444</td>\n",
              "      <td>0.444444</td>\n",
              "      <td>0.111111</td>\n",
              "    </tr>\n",
              "    <tr>\n",
              "      <th>自由業</th>\n",
              "      <td>0.333333</td>\n",
              "      <td>0.333333</td>\n",
              "      <td>0.333333</td>\n",
              "    </tr>\n",
              "    <tr>\n",
              "      <th>藍領(勞動工作或作業員)一般職員</th>\n",
              "      <td>0.333333</td>\n",
              "      <td>0.333333</td>\n",
              "      <td>0.333333</td>\n",
              "    </tr>\n",
              "    <tr>\n",
              "      <th>藍領(工廠及製造業)主管</th>\n",
              "      <td>0.000000</td>\n",
              "      <td>0.000000</td>\n",
              "      <td>1.000000</td>\n",
              "    </tr>\n",
              "    <tr>\n",
              "      <th>軍警</th>\n",
              "      <td>0.666667</td>\n",
              "      <td>0.000000</td>\n",
              "      <td>0.333333</td>\n",
              "    </tr>\n",
              "    <tr>\n",
              "      <th>農漁民</th>\n",
              "      <td>0.000000</td>\n",
              "      <td>1.000000</td>\n",
              "      <td>0.000000</td>\n",
              "    </tr>\n",
              "    <tr>\n",
              "      <th>退休或無業</th>\n",
              "      <td>0.666667</td>\n",
              "      <td>0.333333</td>\n",
              "      <td>0.000000</td>\n",
              "    </tr>\n",
              "  </tbody>\n",
              "</table>\n",
              "</div>"
            ],
            "text/plain": [
              "ClusterName            主力群       發展群       離失群\n",
              "職業                                            \n",
              "一般服務從業人員          0.000000  1.000000  0.000000\n",
              "公務員               0.400000  0.200000  0.400000\n",
              "其他                0.000000  0.000000  1.000000\n",
              "專業(技術)人員          1.000000  0.000000  0.000000\n",
              "白領一般職員            0.368421  0.342105  0.289474\n",
              "白領主管              0.500000  0.277778  0.222222\n",
              "自營事業老闆            0.444444  0.444444  0.111111\n",
              "自由業               0.333333  0.333333  0.333333\n",
              "藍領(勞動工作或作業員)一般職員  0.333333  0.333333  0.333333\n",
              "藍領(工廠及製造業)主管      0.000000  0.000000  1.000000\n",
              "軍警                0.666667  0.000000  0.333333\n",
              "農漁民               0.000000  1.000000  0.000000\n",
              "退休或無業             0.666667  0.333333  0.000000"
            ]
          },
          "metadata": {
            "tags": []
          }
        },
        {
          "output_type": "stream",
          "text": [
            "Chi-square is 18.43\n",
            "p_value is 0.78\n"
          ],
          "name": "stdout"
        }
      ]
    },
    {
      "cell_type": "markdown",
      "metadata": {
        "id": "Os-wl5Rm7Flk"
      },
      "source": [
        "## **Age_Test**"
      ]
    },
    {
      "cell_type": "code",
      "metadata": {
        "colab": {
          "base_uri": "https://localhost:8080/",
          "height": 238
        },
        "id": "mKg9X98R7Kat",
        "outputId": "d7a58e69-dfb5-4680-c13c-cb05af1df90a"
      },
      "source": [
        "contigency = pd.crosstab(df['年齡層'], df.ClusterName)\n",
        "c, p, dof, expected = chi2_contingency(contigency)\n",
        "display((contigency.T/contigency.sum(axis=1)).T)\n",
        "print('Chi-square is {:.2f}'.format(c))\n",
        "print('p_value is {:.2f}'.format(p))"
      ],
      "execution_count": null,
      "outputs": [
        {
          "output_type": "display_data",
          "data": {
            "text/html": [
              "<div>\n",
              "<style scoped>\n",
              "    .dataframe tbody tr th:only-of-type {\n",
              "        vertical-align: middle;\n",
              "    }\n",
              "\n",
              "    .dataframe tbody tr th {\n",
              "        vertical-align: top;\n",
              "    }\n",
              "\n",
              "    .dataframe thead th {\n",
              "        text-align: right;\n",
              "    }\n",
              "</style>\n",
              "<table border=\"1\" class=\"dataframe\">\n",
              "  <thead>\n",
              "    <tr style=\"text-align: right;\">\n",
              "      <th>ClusterName</th>\n",
              "      <th>主力群</th>\n",
              "      <th>發展群</th>\n",
              "      <th>離失群</th>\n",
              "    </tr>\n",
              "    <tr>\n",
              "      <th>年齡層</th>\n",
              "      <th></th>\n",
              "      <th></th>\n",
              "      <th></th>\n",
              "    </tr>\n",
              "  </thead>\n",
              "  <tbody>\n",
              "    <tr>\n",
              "      <th>30歲以下</th>\n",
              "      <td>0.333333</td>\n",
              "      <td>0.250000</td>\n",
              "      <td>0.416667</td>\n",
              "    </tr>\n",
              "    <tr>\n",
              "      <th>31-40歲</th>\n",
              "      <td>0.611111</td>\n",
              "      <td>0.222222</td>\n",
              "      <td>0.166667</td>\n",
              "    </tr>\n",
              "    <tr>\n",
              "      <th>41-50歲</th>\n",
              "      <td>0.480000</td>\n",
              "      <td>0.360000</td>\n",
              "      <td>0.160000</td>\n",
              "    </tr>\n",
              "    <tr>\n",
              "      <th>50歲以上</th>\n",
              "      <td>0.318182</td>\n",
              "      <td>0.363636</td>\n",
              "      <td>0.318182</td>\n",
              "    </tr>\n",
              "  </tbody>\n",
              "</table>\n",
              "</div>"
            ],
            "text/plain": [
              "ClusterName       主力群       發展群       離失群\n",
              "年齡層                                      \n",
              "30歲以下        0.333333  0.250000  0.416667\n",
              "31-40歲       0.611111  0.222222  0.166667\n",
              "41-50歲       0.480000  0.360000  0.160000\n",
              "50歲以上        0.318182  0.363636  0.318182"
            ]
          },
          "metadata": {
            "tags": []
          }
        },
        {
          "output_type": "stream",
          "text": [
            "Chi-square is 7.44\n",
            "p_value is 0.28\n"
          ],
          "name": "stdout"
        }
      ]
    },
    {
      "cell_type": "markdown",
      "metadata": {
        "id": "17pw2nRr7LA2"
      },
      "source": [
        "## **Fisrt_Age_Test**"
      ]
    },
    {
      "cell_type": "code",
      "metadata": {
        "colab": {
          "base_uri": "https://localhost:8080/",
          "height": 238
        },
        "id": "Bo6VgQiR7VYt",
        "outputId": "271da69d-1e53-4fc4-bf1c-85db01de5f8b"
      },
      "source": [
        "contigency = pd.crosstab(df['首辦年齡層'], df.ClusterName)\n",
        "c, p, dof, expected = chi2_contingency(contigency)\n",
        "display((contigency.T/contigency.sum(axis=1)).T)\n",
        "print('Chi-square is {:.2f}'.format(c))\n",
        "print('p_value is {:.2f}'.format(p))"
      ],
      "execution_count": null,
      "outputs": [
        {
          "output_type": "display_data",
          "data": {
            "text/html": [
              "<div>\n",
              "<style scoped>\n",
              "    .dataframe tbody tr th:only-of-type {\n",
              "        vertical-align: middle;\n",
              "    }\n",
              "\n",
              "    .dataframe tbody tr th {\n",
              "        vertical-align: top;\n",
              "    }\n",
              "\n",
              "    .dataframe thead th {\n",
              "        text-align: right;\n",
              "    }\n",
              "</style>\n",
              "<table border=\"1\" class=\"dataframe\">\n",
              "  <thead>\n",
              "    <tr style=\"text-align: right;\">\n",
              "      <th>ClusterName</th>\n",
              "      <th>主力群</th>\n",
              "      <th>發展群</th>\n",
              "      <th>離失群</th>\n",
              "    </tr>\n",
              "    <tr>\n",
              "      <th>首辦年齡層</th>\n",
              "      <th></th>\n",
              "      <th></th>\n",
              "      <th></th>\n",
              "    </tr>\n",
              "  </thead>\n",
              "  <tbody>\n",
              "    <tr>\n",
              "      <th>30歲以下</th>\n",
              "      <td>0.392857</td>\n",
              "      <td>0.321429</td>\n",
              "      <td>0.285714</td>\n",
              "    </tr>\n",
              "    <tr>\n",
              "      <th>31-40歲</th>\n",
              "      <td>0.600000</td>\n",
              "      <td>0.320000</td>\n",
              "      <td>0.080000</td>\n",
              "    </tr>\n",
              "    <tr>\n",
              "      <th>41-50歲</th>\n",
              "      <td>0.370370</td>\n",
              "      <td>0.333333</td>\n",
              "      <td>0.296296</td>\n",
              "    </tr>\n",
              "    <tr>\n",
              "      <th>50歲以上</th>\n",
              "      <td>0.263158</td>\n",
              "      <td>0.315789</td>\n",
              "      <td>0.421053</td>\n",
              "    </tr>\n",
              "  </tbody>\n",
              "</table>\n",
              "</div>"
            ],
            "text/plain": [
              "ClusterName       主力群       發展群       離失群\n",
              "首辦年齡層                                    \n",
              "30歲以下        0.392857  0.321429  0.285714\n",
              "31-40歲       0.600000  0.320000  0.080000\n",
              "41-50歲       0.370370  0.333333  0.296296\n",
              "50歲以上        0.263158  0.315789  0.421053"
            ]
          },
          "metadata": {
            "tags": []
          }
        },
        {
          "output_type": "stream",
          "text": [
            "Chi-square is 8.46\n",
            "p_value is 0.21\n"
          ],
          "name": "stdout"
        }
      ]
    },
    {
      "cell_type": "markdown",
      "metadata": {
        "id": "yDR_ihZ36VfJ"
      },
      "source": [
        "## **Installment_Test**"
      ]
    },
    {
      "cell_type": "code",
      "metadata": {
        "colab": {
          "base_uri": "https://localhost:8080/",
          "height": 176
        },
        "id": "Wo3orxot6lzb",
        "outputId": "7d58ed61-491f-4a0a-ad50-866648602266"
      },
      "source": [
        "contigency = pd.crosstab(df['曾分期付款'], df.ClusterName)\n",
        "c, p, dof, expected = chi2_contingency(contigency)\n",
        "display((contigency.T/contigency.sum(axis=1)).T)\n",
        "print('Chi-square is {:.2f}'.format(c))\n",
        "print('p_value is {:.2f}'.format(p))"
      ],
      "execution_count": null,
      "outputs": [
        {
          "output_type": "display_data",
          "data": {
            "text/html": [
              "<div>\n",
              "<style scoped>\n",
              "    .dataframe tbody tr th:only-of-type {\n",
              "        vertical-align: middle;\n",
              "    }\n",
              "\n",
              "    .dataframe tbody tr th {\n",
              "        vertical-align: top;\n",
              "    }\n",
              "\n",
              "    .dataframe thead th {\n",
              "        text-align: right;\n",
              "    }\n",
              "</style>\n",
              "<table border=\"1\" class=\"dataframe\">\n",
              "  <thead>\n",
              "    <tr style=\"text-align: right;\">\n",
              "      <th>ClusterName</th>\n",
              "      <th>主力群</th>\n",
              "      <th>發展群</th>\n",
              "      <th>離失群</th>\n",
              "    </tr>\n",
              "    <tr>\n",
              "      <th>曾分期付款</th>\n",
              "      <th></th>\n",
              "      <th></th>\n",
              "      <th></th>\n",
              "    </tr>\n",
              "  </thead>\n",
              "  <tbody>\n",
              "    <tr>\n",
              "      <th>False</th>\n",
              "      <td>0.394737</td>\n",
              "      <td>0.342105</td>\n",
              "      <td>0.263158</td>\n",
              "    </tr>\n",
              "    <tr>\n",
              "      <th>True</th>\n",
              "      <td>0.478261</td>\n",
              "      <td>0.260870</td>\n",
              "      <td>0.260870</td>\n",
              "    </tr>\n",
              "  </tbody>\n",
              "</table>\n",
              "</div>"
            ],
            "text/plain": [
              "ClusterName       主力群       發展群       離失群\n",
              "曾分期付款                                    \n",
              "False        0.394737  0.342105  0.263158\n",
              "True         0.478261  0.260870  0.260870"
            ]
          },
          "metadata": {
            "tags": []
          }
        },
        {
          "output_type": "stream",
          "text": [
            "Chi-square is 0.66\n",
            "p_value is 0.72\n"
          ],
          "name": "stdout"
        }
      ]
    },
    {
      "cell_type": "markdown",
      "metadata": {
        "id": "KLFbRTwU6VpB"
      },
      "source": [
        "## **Aboard_Test**"
      ]
    },
    {
      "cell_type": "code",
      "metadata": {
        "colab": {
          "base_uri": "https://localhost:8080/",
          "height": 176
        },
        "id": "1jyR3LWm6n17",
        "outputId": "4d3f10c8-6c7c-482d-8e59-57cfbcce42a8"
      },
      "source": [
        "contigency = pd.crosstab(df['曾國外消費'], df.ClusterName)\n",
        "c, p, dof, expected = chi2_contingency(contigency)\n",
        "display((contigency.T/contigency.sum(axis=1)).T)\n",
        "print('Chi-square is {:.2f}'.format(c))\n",
        "print('p_value is {:.2f}'.format(p))"
      ],
      "execution_count": null,
      "outputs": [
        {
          "output_type": "display_data",
          "data": {
            "text/html": [
              "<div>\n",
              "<style scoped>\n",
              "    .dataframe tbody tr th:only-of-type {\n",
              "        vertical-align: middle;\n",
              "    }\n",
              "\n",
              "    .dataframe tbody tr th {\n",
              "        vertical-align: top;\n",
              "    }\n",
              "\n",
              "    .dataframe thead th {\n",
              "        text-align: right;\n",
              "    }\n",
              "</style>\n",
              "<table border=\"1\" class=\"dataframe\">\n",
              "  <thead>\n",
              "    <tr style=\"text-align: right;\">\n",
              "      <th>ClusterName</th>\n",
              "      <th>主力群</th>\n",
              "      <th>發展群</th>\n",
              "      <th>離失群</th>\n",
              "    </tr>\n",
              "    <tr>\n",
              "      <th>曾國外消費</th>\n",
              "      <th></th>\n",
              "      <th></th>\n",
              "      <th></th>\n",
              "    </tr>\n",
              "  </thead>\n",
              "  <tbody>\n",
              "    <tr>\n",
              "      <th>False</th>\n",
              "      <td>0.350649</td>\n",
              "      <td>0.376623</td>\n",
              "      <td>0.272727</td>\n",
              "    </tr>\n",
              "    <tr>\n",
              "      <th>True</th>\n",
              "      <td>0.636364</td>\n",
              "      <td>0.136364</td>\n",
              "      <td>0.227273</td>\n",
              "    </tr>\n",
              "  </tbody>\n",
              "</table>\n",
              "</div>"
            ],
            "text/plain": [
              "ClusterName       主力群       發展群       離失群\n",
              "曾國外消費                                    \n",
              "False        0.350649  0.376623  0.272727\n",
              "True         0.636364  0.136364  0.227273"
            ]
          },
          "metadata": {
            "tags": []
          }
        },
        {
          "output_type": "stream",
          "text": [
            "Chi-square is 6.56\n",
            "p_value is 0.04\n"
          ],
          "name": "stdout"
        }
      ]
    },
    {
      "cell_type": "markdown",
      "metadata": {
        "id": "J6e_EE8uisI-"
      },
      "source": [
        "## **Industry_Test**"
      ]
    },
    {
      "cell_type": "code",
      "metadata": {
        "colab": {
          "base_uri": "https://localhost:8080/",
          "height": 548
        },
        "id": "9FCw3X0DisJT",
        "outputId": "44e3e12a-5b00-459d-d752-803864859426"
      },
      "source": [
        "contigency = pd.crosstab(df['最常消費產業'], df.ClusterName)\n",
        "c, p, dof, expected = chi2_contingency(contigency)\n",
        "display((contigency.T/contigency.sum(axis=1)).T)\n",
        "print('Chi-square is {:.2f}'.format(c))\n",
        "print('p_value is {:.2f}'.format(p))"
      ],
      "execution_count": null,
      "outputs": [
        {
          "output_type": "display_data",
          "data": {
            "text/html": [
              "<div>\n",
              "<style scoped>\n",
              "    .dataframe tbody tr th:only-of-type {\n",
              "        vertical-align: middle;\n",
              "    }\n",
              "\n",
              "    .dataframe tbody tr th {\n",
              "        vertical-align: top;\n",
              "    }\n",
              "\n",
              "    .dataframe thead th {\n",
              "        text-align: right;\n",
              "    }\n",
              "</style>\n",
              "<table border=\"1\" class=\"dataframe\">\n",
              "  <thead>\n",
              "    <tr style=\"text-align: right;\">\n",
              "      <th>ClusterName</th>\n",
              "      <th>主力群</th>\n",
              "      <th>發展群</th>\n",
              "      <th>離失群</th>\n",
              "    </tr>\n",
              "    <tr>\n",
              "      <th>最常消費產業</th>\n",
              "      <th></th>\n",
              "      <th></th>\n",
              "      <th></th>\n",
              "    </tr>\n",
              "  </thead>\n",
              "  <tbody>\n",
              "    <tr>\n",
              "      <th>02_學費/教育</th>\n",
              "      <td>0.500000</td>\n",
              "      <td>0.500000</td>\n",
              "      <td>0.000000</td>\n",
              "    </tr>\n",
              "    <tr>\n",
              "      <th>03_保險</th>\n",
              "      <td>1.000000</td>\n",
              "      <td>0.000000</td>\n",
              "      <td>0.000000</td>\n",
              "    </tr>\n",
              "    <tr>\n",
              "      <th>06_公用事業</th>\n",
              "      <td>0.500000</td>\n",
              "      <td>0.500000</td>\n",
              "      <td>0.000000</td>\n",
              "    </tr>\n",
              "    <tr>\n",
              "      <th>07_百貨</th>\n",
              "      <td>0.428571</td>\n",
              "      <td>0.357143</td>\n",
              "      <td>0.214286</td>\n",
              "    </tr>\n",
              "    <tr>\n",
              "      <th>08_精品</th>\n",
              "      <td>0.000000</td>\n",
              "      <td>0.000000</td>\n",
              "      <td>1.000000</td>\n",
              "    </tr>\n",
              "    <tr>\n",
              "      <th>09_餐飲</th>\n",
              "      <td>1.000000</td>\n",
              "      <td>0.000000</td>\n",
              "      <td>0.000000</td>\n",
              "    </tr>\n",
              "    <tr>\n",
              "      <th>10_藥妝</th>\n",
              "      <td>0.500000</td>\n",
              "      <td>0.500000</td>\n",
              "      <td>0.000000</td>\n",
              "    </tr>\n",
              "    <tr>\n",
              "      <th>11_3C居家電信</th>\n",
              "      <td>0.333333</td>\n",
              "      <td>0.416667</td>\n",
              "      <td>0.250000</td>\n",
              "    </tr>\n",
              "    <tr>\n",
              "      <th>12_量販超市</th>\n",
              "      <td>0.280000</td>\n",
              "      <td>0.480000</td>\n",
              "      <td>0.240000</td>\n",
              "    </tr>\n",
              "    <tr>\n",
              "      <th>13_交通(含加值)</th>\n",
              "      <td>0.533333</td>\n",
              "      <td>0.333333</td>\n",
              "      <td>0.133333</td>\n",
              "    </tr>\n",
              "    <tr>\n",
              "      <th>14_旅遊</th>\n",
              "      <td>0.533333</td>\n",
              "      <td>0.133333</td>\n",
              "      <td>0.333333</td>\n",
              "    </tr>\n",
              "    <tr>\n",
              "      <th>15_休閒文化</th>\n",
              "      <td>0.333333</td>\n",
              "      <td>0.000000</td>\n",
              "      <td>0.666667</td>\n",
              "    </tr>\n",
              "    <tr>\n",
              "      <th>16_無店舖</th>\n",
              "      <td>0.000000</td>\n",
              "      <td>0.000000</td>\n",
              "      <td>1.000000</td>\n",
              "    </tr>\n",
              "    <tr>\n",
              "      <th>X2.中信錢加值</th>\n",
              "      <td>0.000000</td>\n",
              "      <td>0.000000</td>\n",
              "      <td>1.000000</td>\n",
              "    </tr>\n",
              "  </tbody>\n",
              "</table>\n",
              "</div>"
            ],
            "text/plain": [
              "ClusterName       主力群       發展群       離失群\n",
              "最常消費產業                                   \n",
              "02_學費/教育     0.500000  0.500000  0.000000\n",
              "03_保險        1.000000  0.000000  0.000000\n",
              "06_公用事業      0.500000  0.500000  0.000000\n",
              "07_百貨        0.428571  0.357143  0.214286\n",
              "08_精品        0.000000  0.000000  1.000000\n",
              "09_餐飲        1.000000  0.000000  0.000000\n",
              "10_藥妝        0.500000  0.500000  0.000000\n",
              "11_3C居家電信    0.333333  0.416667  0.250000\n",
              "12_量販超市      0.280000  0.480000  0.240000\n",
              "13_交通(含加值)   0.533333  0.333333  0.133333\n",
              "14_旅遊        0.533333  0.133333  0.333333\n",
              "15_休閒文化      0.333333  0.000000  0.666667\n",
              "16_無店舖       0.000000  0.000000  1.000000\n",
              "X2.中信錢加值     0.000000  0.000000  1.000000"
            ]
          },
          "metadata": {
            "tags": []
          }
        },
        {
          "output_type": "stream",
          "text": [
            "Chi-square is 32.53\n",
            "p_value is 0.18\n"
          ],
          "name": "stdout"
        }
      ]
    },
    {
      "cell_type": "markdown",
      "metadata": {
        "id": "670ixiIxlrL5"
      },
      "source": [
        "## **Month_Test**"
      ]
    },
    {
      "cell_type": "code",
      "metadata": {
        "colab": {
          "base_uri": "https://localhost:8080/",
          "height": 207
        },
        "id": "FzNyRYYhlrMS",
        "outputId": "046b3c01-c230-41d1-acb6-32ae473ca43d"
      },
      "source": [
        "contigency = pd.crosstab(df['最常消費月時點'], df.ClusterName)\n",
        "c, p, dof, expected = chi2_contingency(contigency)\n",
        "display((contigency.T/contigency.sum(axis=1)).T)\n",
        "print('Chi-square is {:.2f}'.format(c))\n",
        "print('p_value is {:.2f}'.format(p))"
      ],
      "execution_count": null,
      "outputs": [
        {
          "output_type": "display_data",
          "data": {
            "text/html": [
              "<div>\n",
              "<style scoped>\n",
              "    .dataframe tbody tr th:only-of-type {\n",
              "        vertical-align: middle;\n",
              "    }\n",
              "\n",
              "    .dataframe tbody tr th {\n",
              "        vertical-align: top;\n",
              "    }\n",
              "\n",
              "    .dataframe thead th {\n",
              "        text-align: right;\n",
              "    }\n",
              "</style>\n",
              "<table border=\"1\" class=\"dataframe\">\n",
              "  <thead>\n",
              "    <tr style=\"text-align: right;\">\n",
              "      <th>ClusterName</th>\n",
              "      <th>主力群</th>\n",
              "      <th>發展群</th>\n",
              "      <th>離失群</th>\n",
              "    </tr>\n",
              "    <tr>\n",
              "      <th>最常消費月時點</th>\n",
              "      <th></th>\n",
              "      <th></th>\n",
              "      <th></th>\n",
              "    </tr>\n",
              "  </thead>\n",
              "  <tbody>\n",
              "    <tr>\n",
              "      <th>月中</th>\n",
              "      <td>0.484848</td>\n",
              "      <td>0.303030</td>\n",
              "      <td>0.212121</td>\n",
              "    </tr>\n",
              "    <tr>\n",
              "      <th>月初</th>\n",
              "      <td>0.440000</td>\n",
              "      <td>0.240000</td>\n",
              "      <td>0.320000</td>\n",
              "    </tr>\n",
              "    <tr>\n",
              "      <th>月底</th>\n",
              "      <td>0.341463</td>\n",
              "      <td>0.390244</td>\n",
              "      <td>0.268293</td>\n",
              "    </tr>\n",
              "  </tbody>\n",
              "</table>\n",
              "</div>"
            ],
            "text/plain": [
              "ClusterName       主力群       發展群       離失群\n",
              "最常消費月時點                                  \n",
              "月中           0.484848  0.303030  0.212121\n",
              "月初           0.440000  0.240000  0.320000\n",
              "月底           0.341463  0.390244  0.268293"
            ]
          },
          "metadata": {
            "tags": []
          }
        },
        {
          "output_type": "stream",
          "text": [
            "Chi-square is 2.75\n",
            "p_value is 0.60\n"
          ],
          "name": "stdout"
        }
      ]
    },
    {
      "cell_type": "markdown",
      "metadata": {
        "id": "6ZAfjeKNIP2l"
      },
      "source": [
        "## **Weekday_Test**"
      ]
    },
    {
      "cell_type": "code",
      "metadata": {
        "colab": {
          "base_uri": "https://localhost:8080/",
          "height": 269
        },
        "id": "8H59_uSWIP2l",
        "outputId": "05a8e07e-ab73-4daf-fa5b-24b50f6ab55e"
      },
      "source": [
        "contigency = pd.crosstab(df['最常消費週時點'], df.ClusterName)\n",
        "c, p, dof, expected = chi2_contingency(contigency)\n",
        "display((contigency.T/contigency.sum(axis=1)).T)\n",
        "print('Chi-square is {:.2f}'.format(c))\n",
        "print('p_value is {:.2f}'.format(p))"
      ],
      "execution_count": null,
      "outputs": [
        {
          "output_type": "display_data",
          "data": {
            "text/html": [
              "<div>\n",
              "<style scoped>\n",
              "    .dataframe tbody tr th:only-of-type {\n",
              "        vertical-align: middle;\n",
              "    }\n",
              "\n",
              "    .dataframe tbody tr th {\n",
              "        vertical-align: top;\n",
              "    }\n",
              "\n",
              "    .dataframe thead th {\n",
              "        text-align: right;\n",
              "    }\n",
              "</style>\n",
              "<table border=\"1\" class=\"dataframe\">\n",
              "  <thead>\n",
              "    <tr style=\"text-align: right;\">\n",
              "      <th>ClusterName</th>\n",
              "      <th>主力群</th>\n",
              "      <th>發展群</th>\n",
              "      <th>離失群</th>\n",
              "    </tr>\n",
              "    <tr>\n",
              "      <th>最常消費週時點</th>\n",
              "      <th></th>\n",
              "      <th></th>\n",
              "      <th></th>\n",
              "    </tr>\n",
              "  </thead>\n",
              "  <tbody>\n",
              "    <tr>\n",
              "      <th>週一</th>\n",
              "      <td>0.500000</td>\n",
              "      <td>0.239130</td>\n",
              "      <td>0.260870</td>\n",
              "    </tr>\n",
              "    <tr>\n",
              "      <th>週三</th>\n",
              "      <td>0.500000</td>\n",
              "      <td>0.318182</td>\n",
              "      <td>0.181818</td>\n",
              "    </tr>\n",
              "    <tr>\n",
              "      <th>週二</th>\n",
              "      <td>0.294118</td>\n",
              "      <td>0.352941</td>\n",
              "      <td>0.352941</td>\n",
              "    </tr>\n",
              "    <tr>\n",
              "      <th>週五</th>\n",
              "      <td>0.000000</td>\n",
              "      <td>0.666667</td>\n",
              "      <td>0.333333</td>\n",
              "    </tr>\n",
              "    <tr>\n",
              "      <th>週四</th>\n",
              "      <td>0.250000</td>\n",
              "      <td>0.500000</td>\n",
              "      <td>0.250000</td>\n",
              "    </tr>\n",
              "  </tbody>\n",
              "</table>\n",
              "</div>"
            ],
            "text/plain": [
              "ClusterName       主力群       發展群       離失群\n",
              "最常消費週時點                                  \n",
              "週一           0.500000  0.239130  0.260870\n",
              "週三           0.500000  0.318182  0.181818\n",
              "週二           0.294118  0.352941  0.352941\n",
              "週五           0.000000  0.666667  0.333333\n",
              "週四           0.250000  0.500000  0.250000"
            ]
          },
          "metadata": {
            "tags": []
          }
        },
        {
          "output_type": "stream",
          "text": [
            "Chi-square is 10.02\n",
            "p_value is 0.26\n"
          ],
          "name": "stdout"
        }
      ]
    },
    {
      "cell_type": "code",
      "metadata": {
        "colab": {
          "base_uri": "https://localhost:8080/",
          "height": 269
        },
        "id": "VYPOyk3GjI8E",
        "outputId": "1fe17c49-426a-4bb6-845f-ba85a09c96d2"
      },
      "source": [
        "contigency = pd.crosstab(df['最常消費週時點'], df.ClusterName)\n",
        "c, p, dof, expected = chi2_contingency(contigency)\n",
        "display((contigency.T/contigency.sum(axis=1)).T)\n",
        "print('Chi-square is {:.2f}'.format(c))\n",
        "print('p_value is {:.2f}'.format(p))"
      ],
      "execution_count": null,
      "outputs": [
        {
          "output_type": "display_data",
          "data": {
            "text/html": [
              "<div>\n",
              "<style scoped>\n",
              "    .dataframe tbody tr th:only-of-type {\n",
              "        vertical-align: middle;\n",
              "    }\n",
              "\n",
              "    .dataframe tbody tr th {\n",
              "        vertical-align: top;\n",
              "    }\n",
              "\n",
              "    .dataframe thead th {\n",
              "        text-align: right;\n",
              "    }\n",
              "</style>\n",
              "<table border=\"1\" class=\"dataframe\">\n",
              "  <thead>\n",
              "    <tr style=\"text-align: right;\">\n",
              "      <th>ClusterName</th>\n",
              "      <th>主力群</th>\n",
              "      <th>發展群</th>\n",
              "      <th>離失群</th>\n",
              "    </tr>\n",
              "    <tr>\n",
              "      <th>最常消費週時點</th>\n",
              "      <th></th>\n",
              "      <th></th>\n",
              "      <th></th>\n",
              "    </tr>\n",
              "  </thead>\n",
              "  <tbody>\n",
              "    <tr>\n",
              "      <th>週一</th>\n",
              "      <td>0.500000</td>\n",
              "      <td>0.239130</td>\n",
              "      <td>0.260870</td>\n",
              "    </tr>\n",
              "    <tr>\n",
              "      <th>週三</th>\n",
              "      <td>0.500000</td>\n",
              "      <td>0.318182</td>\n",
              "      <td>0.181818</td>\n",
              "    </tr>\n",
              "    <tr>\n",
              "      <th>週二</th>\n",
              "      <td>0.294118</td>\n",
              "      <td>0.352941</td>\n",
              "      <td>0.352941</td>\n",
              "    </tr>\n",
              "    <tr>\n",
              "      <th>週五</th>\n",
              "      <td>0.000000</td>\n",
              "      <td>0.666667</td>\n",
              "      <td>0.333333</td>\n",
              "    </tr>\n",
              "    <tr>\n",
              "      <th>週四</th>\n",
              "      <td>0.250000</td>\n",
              "      <td>0.500000</td>\n",
              "      <td>0.250000</td>\n",
              "    </tr>\n",
              "  </tbody>\n",
              "</table>\n",
              "</div>"
            ],
            "text/plain": [
              "ClusterName       主力群       發展群       離失群\n",
              "最常消費週時點                                  \n",
              "週一           0.500000  0.239130  0.260870\n",
              "週三           0.500000  0.318182  0.181818\n",
              "週二           0.294118  0.352941  0.352941\n",
              "週五           0.000000  0.666667  0.333333\n",
              "週四           0.250000  0.500000  0.250000"
            ]
          },
          "metadata": {
            "tags": []
          }
        },
        {
          "output_type": "stream",
          "text": [
            "Chi-square is 10.02\n",
            "p_value is 0.26\n"
          ],
          "name": "stdout"
        }
      ]
    },
    {
      "cell_type": "markdown",
      "metadata": {
        "id": "rOUOKCVAjGcD"
      },
      "source": [
        "## **Zodiac_Test**"
      ]
    },
    {
      "cell_type": "code",
      "metadata": {
        "colab": {
          "base_uri": "https://localhost:8080/",
          "height": 238
        },
        "id": "4qhObPs4IRcu",
        "outputId": "37a9770d-b531-4b1e-a9b9-2e071bc0bf30"
      },
      "source": [
        "contigency = pd.crosstab(df['zodiac_type'], df.ClusterName)\n",
        "c, p, dof, expected = chi2_contingency(contigency)\n",
        "display((contigency.T/contigency.sum(axis=1)).T)\n",
        "print('Chi-square is {:.2f}'.format(c))\n",
        "print('p_value is {:.2f}'.format(p))"
      ],
      "execution_count": null,
      "outputs": [
        {
          "output_type": "display_data",
          "data": {
            "text/html": [
              "<div>\n",
              "<style scoped>\n",
              "    .dataframe tbody tr th:only-of-type {\n",
              "        vertical-align: middle;\n",
              "    }\n",
              "\n",
              "    .dataframe tbody tr th {\n",
              "        vertical-align: top;\n",
              "    }\n",
              "\n",
              "    .dataframe thead th {\n",
              "        text-align: right;\n",
              "    }\n",
              "</style>\n",
              "<table border=\"1\" class=\"dataframe\">\n",
              "  <thead>\n",
              "    <tr style=\"text-align: right;\">\n",
              "      <th>ClusterName</th>\n",
              "      <th>主力群</th>\n",
              "      <th>發展群</th>\n",
              "      <th>離失群</th>\n",
              "    </tr>\n",
              "    <tr>\n",
              "      <th>zodiac_type</th>\n",
              "      <th></th>\n",
              "      <th></th>\n",
              "      <th></th>\n",
              "    </tr>\n",
              "  </thead>\n",
              "  <tbody>\n",
              "    <tr>\n",
              "      <th>土象</th>\n",
              "      <td>0.272727</td>\n",
              "      <td>0.363636</td>\n",
              "      <td>0.363636</td>\n",
              "    </tr>\n",
              "    <tr>\n",
              "      <th>水象</th>\n",
              "      <td>0.324324</td>\n",
              "      <td>0.405405</td>\n",
              "      <td>0.270270</td>\n",
              "    </tr>\n",
              "    <tr>\n",
              "      <th>火象</th>\n",
              "      <td>0.500000</td>\n",
              "      <td>0.166667</td>\n",
              "      <td>0.333333</td>\n",
              "    </tr>\n",
              "    <tr>\n",
              "      <th>風象</th>\n",
              "      <td>0.523810</td>\n",
              "      <td>0.380952</td>\n",
              "      <td>0.095238</td>\n",
              "    </tr>\n",
              "  </tbody>\n",
              "</table>\n",
              "</div>"
            ],
            "text/plain": [
              "ClusterName       主力群       發展群       離失群\n",
              "zodiac_type                              \n",
              "土象           0.272727  0.363636  0.363636\n",
              "水象           0.324324  0.405405  0.270270\n",
              "火象           0.500000  0.166667  0.333333\n",
              "風象           0.523810  0.380952  0.095238"
            ]
          },
          "metadata": {
            "tags": []
          }
        },
        {
          "output_type": "stream",
          "text": [
            "Chi-square is 8.96\n",
            "p_value is 0.18\n"
          ],
          "name": "stdout"
        }
      ]
    },
    {
      "cell_type": "markdown",
      "metadata": {
        "id": "_6B9lnb57zhT"
      },
      "source": [
        "# **F_test**"
      ]
    },
    {
      "cell_type": "code",
      "metadata": {
        "id": "CWq9_7TibNGn",
        "colab": {
          "base_uri": "https://localhost:8080/"
        },
        "outputId": "9a5d5f8d-82de-4b2d-c249-9856681a2ef7"
      },
      "source": [
        "!wget -O taipei_sans_tc_beta.ttf https://drive.google.com/uc?id=1eGAsTN1HBpJAkeVM57_C7ccp7hbgSz3_&export=download\n",
        "matplotlib.font_manager.fontManager.addfont('taipei_sans_tc_beta.ttf')\n",
        "matplotlib.rc('font', family='Taipei Sans TC Beta')\n",
        "df = df.dropna()\n",
        "\n",
        "def f_test(y_var, x_var):\n",
        "    sns.boxplot(x=df[y_var], y=df[x_var], orient='h')\n",
        "    display(df.groupby(x_var).agg({y_var: ['mean', 'std', 'count']}))\n",
        "    stats, pvalue = f_oneway(*[s for idx, s in df.groupby(x_var)[y_var]])\n",
        "    print('F statistics is {:.2f}'.format(stats))\n",
        "    print('Pvalue is {:.2f}'.format(pvalue))\n",
        "    if pvalue < 0.2 and len(pd.unique(df[x_var])) > 2:\n",
        "        mc = MultiComparison(df[y_var], df[x_var])\n",
        "        mc_results = mc.tukeyhsd(alpha=0.2)\n",
        "        display(mc_results.summary()) "
      ],
      "execution_count": null,
      "outputs": [
        {
          "output_type": "stream",
          "text": [
            "--2021-06-01 06:31:06--  https://drive.google.com/uc?id=1eGAsTN1HBpJAkeVM57_C7ccp7hbgSz3_\n",
            "Resolving drive.google.com (drive.google.com)... 108.177.126.101, 108.177.126.100, 108.177.126.138, ...\n",
            "Connecting to drive.google.com (drive.google.com)|108.177.126.101|:443... connected.\n",
            "HTTP request sent, awaiting response... 302 Moved Temporarily\n",
            "Location: https://doc-0k-9o-docs.googleusercontent.com/docs/securesc/ha0ro937gcuc7l7deffksulhg5h7mbp1/934v4je7apuvqkn1o9i96qeuhhha7863/1622529000000/02847987870453524430/*/1eGAsTN1HBpJAkeVM57_C7ccp7hbgSz3_ [following]\n",
            "Warning: wildcards not supported in HTTP.\n",
            "--2021-06-01 06:31:07--  https://doc-0k-9o-docs.googleusercontent.com/docs/securesc/ha0ro937gcuc7l7deffksulhg5h7mbp1/934v4je7apuvqkn1o9i96qeuhhha7863/1622529000000/02847987870453524430/*/1eGAsTN1HBpJAkeVM57_C7ccp7hbgSz3_\n",
            "Resolving doc-0k-9o-docs.googleusercontent.com (doc-0k-9o-docs.googleusercontent.com)... 74.125.143.132, 2a00:1450:4013:c03::84\n",
            "Connecting to doc-0k-9o-docs.googleusercontent.com (doc-0k-9o-docs.googleusercontent.com)|74.125.143.132|:443... connected.\n",
            "HTTP request sent, awaiting response... 200 OK\n",
            "Length: unspecified [application/x-font-ttf]\n",
            "Saving to: ‘taipei_sans_tc_beta.ttf’\n",
            "\n",
            "taipei_sans_tc_beta     [ <=>                ]  19.70M   106MB/s    in 0.2s    \n",
            "\n",
            "2021-06-01 06:31:08 (106 MB/s) - ‘taipei_sans_tc_beta.ttf’ saved [20659344]\n",
            "\n"
          ],
          "name": "stdout"
        }
      ]
    },
    {
      "cell_type": "markdown",
      "metadata": {
        "id": "0c2oyZbubuIT"
      },
      "source": [
        "## **Location_Test**"
      ]
    },
    {
      "cell_type": "code",
      "metadata": {
        "colab": {
          "base_uri": "https://localhost:8080/",
          "height": 537
        },
        "id": "SIrGnF6VbofS",
        "outputId": "3f9cd37b-7d15-49cb-a59f-4db883226e50"
      },
      "source": [
        "f_test(y_var='ln_BS_Score', x_var='居住地')"
      ],
      "execution_count": null,
      "outputs": [
        {
          "output_type": "display_data",
          "data": {
            "text/html": [
              "<div>\n",
              "<style scoped>\n",
              "    .dataframe tbody tr th:only-of-type {\n",
              "        vertical-align: middle;\n",
              "    }\n",
              "\n",
              "    .dataframe tbody tr th {\n",
              "        vertical-align: top;\n",
              "    }\n",
              "\n",
              "    .dataframe thead tr th {\n",
              "        text-align: left;\n",
              "    }\n",
              "\n",
              "    .dataframe thead tr:last-of-type th {\n",
              "        text-align: right;\n",
              "    }\n",
              "</style>\n",
              "<table border=\"1\" class=\"dataframe\">\n",
              "  <thead>\n",
              "    <tr>\n",
              "      <th></th>\n",
              "      <th colspan=\"3\" halign=\"left\">ln_BS_Score</th>\n",
              "    </tr>\n",
              "    <tr>\n",
              "      <th></th>\n",
              "      <th>mean</th>\n",
              "      <th>std</th>\n",
              "      <th>count</th>\n",
              "    </tr>\n",
              "    <tr>\n",
              "      <th>居住地</th>\n",
              "      <th></th>\n",
              "      <th></th>\n",
              "      <th></th>\n",
              "    </tr>\n",
              "  </thead>\n",
              "  <tbody>\n",
              "    <tr>\n",
              "      <th>台中地區</th>\n",
              "      <td>-0.097348</td>\n",
              "      <td>0.848177</td>\n",
              "      <td>17</td>\n",
              "    </tr>\n",
              "    <tr>\n",
              "      <th>嘉南地區</th>\n",
              "      <td>0.048652</td>\n",
              "      <td>0.761472</td>\n",
              "      <td>9</td>\n",
              "    </tr>\n",
              "    <tr>\n",
              "      <th>大台北地區</th>\n",
              "      <td>0.067097</td>\n",
              "      <td>1.013984</td>\n",
              "      <td>52</td>\n",
              "    </tr>\n",
              "    <tr>\n",
              "      <th>高屏地區</th>\n",
              "      <td>-0.026569</td>\n",
              "      <td>1.162869</td>\n",
              "      <td>21</td>\n",
              "    </tr>\n",
              "  </tbody>\n",
              "</table>\n",
              "</div>"
            ],
            "text/plain": [
              "      ln_BS_Score                \n",
              "             mean       std count\n",
              "居住地                              \n",
              "台中地區    -0.097348  0.848177    17\n",
              "嘉南地區     0.048652  0.761472     9\n",
              "大台北地區    0.067097  1.013984    52\n",
              "高屏地區    -0.026569  1.162869    21"
            ]
          },
          "metadata": {
            "tags": []
          }
        },
        {
          "output_type": "stream",
          "text": [
            "F statistics is 0.13\n",
            "Pvalue is 0.94\n"
          ],
          "name": "stdout"
        },
        {
          "output_type": "display_data",
          "data": {
            "image/png": "[encoded data removed]",
            "text/plain": [
              "<Figure size 432x288 with 1 Axes>"
            ]
          },
          "metadata": {
            "tags": []
          }
        }
      ]
    },
    {
      "cell_type": "code",
      "metadata": {
        "colab": {
          "base_uri": "https://localhost:8080/",
          "height": 537
        },
        "id": "ngNZH3CXswuj",
        "outputId": "185d225e-28a0-4beb-8fa5-1dc36f426391"
      },
      "source": [
        "f_test(y_var='CAI', x_var='居住地')"
      ],
      "execution_count": null,
      "outputs": [
        {
          "output_type": "display_data",
          "data": {
            "text/html": [
              "<div>\n",
              "<style scoped>\n",
              "    .dataframe tbody tr th:only-of-type {\n",
              "        vertical-align: middle;\n",
              "    }\n",
              "\n",
              "    .dataframe tbody tr th {\n",
              "        vertical-align: top;\n",
              "    }\n",
              "\n",
              "    .dataframe thead tr th {\n",
              "        text-align: left;\n",
              "    }\n",
              "\n",
              "    .dataframe thead tr:last-of-type th {\n",
              "        text-align: right;\n",
              "    }\n",
              "</style>\n",
              "<table border=\"1\" class=\"dataframe\">\n",
              "  <thead>\n",
              "    <tr>\n",
              "      <th></th>\n",
              "      <th colspan=\"3\" halign=\"left\">CAI</th>\n",
              "    </tr>\n",
              "    <tr>\n",
              "      <th></th>\n",
              "      <th>mean</th>\n",
              "      <th>std</th>\n",
              "      <th>count</th>\n",
              "    </tr>\n",
              "    <tr>\n",
              "      <th>居住地</th>\n",
              "      <th></th>\n",
              "      <th></th>\n",
              "      <th></th>\n",
              "    </tr>\n",
              "  </thead>\n",
              "  <tbody>\n",
              "    <tr>\n",
              "      <th>台中地區</th>\n",
              "      <td>-0.125737</td>\n",
              "      <td>0.949420</td>\n",
              "      <td>17</td>\n",
              "    </tr>\n",
              "    <tr>\n",
              "      <th>嘉南地區</th>\n",
              "      <td>0.221047</td>\n",
              "      <td>1.068637</td>\n",
              "      <td>9</td>\n",
              "    </tr>\n",
              "    <tr>\n",
              "      <th>大台北地區</th>\n",
              "      <td>0.036767</td>\n",
              "      <td>1.012872</td>\n",
              "      <td>52</td>\n",
              "    </tr>\n",
              "    <tr>\n",
              "      <th>高屏地區</th>\n",
              "      <td>-0.083989</td>\n",
              "      <td>1.029404</td>\n",
              "      <td>21</td>\n",
              "    </tr>\n",
              "  </tbody>\n",
              "</table>\n",
              "</div>"
            ],
            "text/plain": [
              "            CAI                \n",
              "           mean       std count\n",
              "居住地                            \n",
              "台中地區  -0.125737  0.949420    17\n",
              "嘉南地區   0.221047  1.068637     9\n",
              "大台北地區  0.036767  1.012872    52\n",
              "高屏地區  -0.083989  1.029404    21"
            ]
          },
          "metadata": {
            "tags": []
          }
        },
        {
          "output_type": "stream",
          "text": [
            "F statistics is 0.30\n",
            "Pvalue is 0.82\n"
          ],
          "name": "stdout"
        },
        {
          "output_type": "display_data",
          "data": {
            "image/png": "[encoded data removed]",
            "text/plain": [
              "<Figure size 432x288 with 1 Axes>"
            ]
          },
          "metadata": {
            "tags": []
          }
        }
      ]
    },
    {
      "cell_type": "markdown",
      "metadata": {
        "id": "3u8t92REbvZ3"
      },
      "source": [
        "## **Education_Test**"
      ]
    },
    {
      "cell_type": "code",
      "metadata": {
        "colab": {
          "base_uri": "https://localhost:8080/",
          "height": 599
        },
        "id": "2Yw1Vt_gbvZ3",
        "outputId": "93f9d11d-4ea7-48ed-a10c-4bdb06df83f3"
      },
      "source": [
        "f_test(y_var='ln_BS_Score', x_var='教育程度')"
      ],
      "execution_count": null,
      "outputs": [
        {
          "output_type": "display_data",
          "data": {
            "text/html": [
              "<div>\n",
              "<style scoped>\n",
              "    .dataframe tbody tr th:only-of-type {\n",
              "        vertical-align: middle;\n",
              "    }\n",
              "\n",
              "    .dataframe tbody tr th {\n",
              "        vertical-align: top;\n",
              "    }\n",
              "\n",
              "    .dataframe thead tr th {\n",
              "        text-align: left;\n",
              "    }\n",
              "\n",
              "    .dataframe thead tr:last-of-type th {\n",
              "        text-align: right;\n",
              "    }\n",
              "</style>\n",
              "<table border=\"1\" class=\"dataframe\">\n",
              "  <thead>\n",
              "    <tr>\n",
              "      <th></th>\n",
              "      <th colspan=\"3\" halign=\"left\">ln_BS_Score</th>\n",
              "    </tr>\n",
              "    <tr>\n",
              "      <th></th>\n",
              "      <th>mean</th>\n",
              "      <th>std</th>\n",
              "      <th>count</th>\n",
              "    </tr>\n",
              "    <tr>\n",
              "      <th>教育程度</th>\n",
              "      <th></th>\n",
              "      <th></th>\n",
              "      <th></th>\n",
              "    </tr>\n",
              "  </thead>\n",
              "  <tbody>\n",
              "    <tr>\n",
              "      <th>其他</th>\n",
              "      <td>0.035565</td>\n",
              "      <td>NaN</td>\n",
              "      <td>1</td>\n",
              "    </tr>\n",
              "    <tr>\n",
              "      <th>初中及初中以下</th>\n",
              "      <td>-0.317569</td>\n",
              "      <td>0.926425</td>\n",
              "      <td>4</td>\n",
              "    </tr>\n",
              "    <tr>\n",
              "      <th>學士</th>\n",
              "      <td>-0.003785</td>\n",
              "      <td>1.005168</td>\n",
              "      <td>44</td>\n",
              "    </tr>\n",
              "    <tr>\n",
              "      <th>專科</th>\n",
              "      <td>0.029095</td>\n",
              "      <td>0.860426</td>\n",
              "      <td>19</td>\n",
              "    </tr>\n",
              "    <tr>\n",
              "      <th>研究所以上</th>\n",
              "      <td>0.139415</td>\n",
              "      <td>1.070567</td>\n",
              "      <td>12</td>\n",
              "    </tr>\n",
              "    <tr>\n",
              "      <th>高中</th>\n",
              "      <td>0.046816</td>\n",
              "      <td>1.140473</td>\n",
              "      <td>19</td>\n",
              "    </tr>\n",
              "  </tbody>\n",
              "</table>\n",
              "</div>"
            ],
            "text/plain": [
              "        ln_BS_Score                \n",
              "               mean       std count\n",
              "教育程度                               \n",
              "其他         0.035565       NaN     1\n",
              "初中及初中以下   -0.317569  0.926425     4\n",
              "學士        -0.003785  1.005168    44\n",
              "專科         0.029095  0.860426    19\n",
              "研究所以上      0.139415  1.070567    12\n",
              "高中         0.046816  1.140473    19"
            ]
          },
          "metadata": {
            "tags": []
          }
        },
        {
          "output_type": "stream",
          "text": [
            "F statistics is 0.13\n",
            "Pvalue is 0.99\n"
          ],
          "name": "stdout"
        },
        {
          "output_type": "display_data",
          "data": {
            "image/png": "[encoded data removed]",
            "text/plain": [
              "<Figure size 432x288 with 1 Axes>"
            ]
          },
          "metadata": {
            "tags": []
          }
        }
      ]
    },
    {
      "cell_type": "code",
      "metadata": {
        "colab": {
          "base_uri": "https://localhost:8080/",
          "height": 954
        },
        "id": "cJIF1zyGsz_0",
        "outputId": "000f9a89-6443-468a-8372-319fde1c1370"
      },
      "source": [
        "f_test(y_var='CAI', x_var='教育程度')"
      ],
      "execution_count": null,
      "outputs": [
        {
          "output_type": "display_data",
          "data": {
            "text/html": [
              "<div>\n",
              "<style scoped>\n",
              "    .dataframe tbody tr th:only-of-type {\n",
              "        vertical-align: middle;\n",
              "    }\n",
              "\n",
              "    .dataframe tbody tr th {\n",
              "        vertical-align: top;\n",
              "    }\n",
              "\n",
              "    .dataframe thead tr th {\n",
              "        text-align: left;\n",
              "    }\n",
              "\n",
              "    .dataframe thead tr:last-of-type th {\n",
              "        text-align: right;\n",
              "    }\n",
              "</style>\n",
              "<table border=\"1\" class=\"dataframe\">\n",
              "  <thead>\n",
              "    <tr>\n",
              "      <th></th>\n",
              "      <th colspan=\"3\" halign=\"left\">CAI</th>\n",
              "    </tr>\n",
              "    <tr>\n",
              "      <th></th>\n",
              "      <th>mean</th>\n",
              "      <th>std</th>\n",
              "      <th>count</th>\n",
              "    </tr>\n",
              "    <tr>\n",
              "      <th>教育程度</th>\n",
              "      <th></th>\n",
              "      <th></th>\n",
              "      <th></th>\n",
              "    </tr>\n",
              "  </thead>\n",
              "  <tbody>\n",
              "    <tr>\n",
              "      <th>其他</th>\n",
              "      <td>-1.472818</td>\n",
              "      <td>NaN</td>\n",
              "      <td>1</td>\n",
              "    </tr>\n",
              "    <tr>\n",
              "      <th>初中及初中以下</th>\n",
              "      <td>-0.318362</td>\n",
              "      <td>1.061658</td>\n",
              "      <td>4</td>\n",
              "    </tr>\n",
              "    <tr>\n",
              "      <th>學士</th>\n",
              "      <td>-0.231451</td>\n",
              "      <td>0.929332</td>\n",
              "      <td>44</td>\n",
              "    </tr>\n",
              "    <tr>\n",
              "      <th>專科</th>\n",
              "      <td>0.454116</td>\n",
              "      <td>0.851109</td>\n",
              "      <td>19</td>\n",
              "    </tr>\n",
              "    <tr>\n",
              "      <th>研究所以上</th>\n",
              "      <td>0.097365</td>\n",
              "      <td>0.930007</td>\n",
              "      <td>12</td>\n",
              "    </tr>\n",
              "    <tr>\n",
              "      <th>高中</th>\n",
              "      <td>0.164923</td>\n",
              "      <td>1.189022</td>\n",
              "      <td>19</td>\n",
              "    </tr>\n",
              "  </tbody>\n",
              "</table>\n",
              "</div>"
            ],
            "text/plain": [
              "              CAI                \n",
              "             mean       std count\n",
              "教育程度                             \n",
              "其他      -1.472818       NaN     1\n",
              "初中及初中以下 -0.318362  1.061658     4\n",
              "學士      -0.231451  0.929332    44\n",
              "專科       0.454116  0.851109    19\n",
              "研究所以上    0.097365  0.930007    12\n",
              "高中       0.164923  1.189022    19"
            ]
          },
          "metadata": {
            "tags": []
          }
        },
        {
          "output_type": "stream",
          "text": [
            "F statistics is 1.99\n",
            "Pvalue is 0.09\n"
          ],
          "name": "stdout"
        },
        {
          "output_type": "display_data",
          "data": {
            "text/html": [
              "<table class=\"simpletable\">\n",
              "<caption>Multiple Comparison of Means - Tukey HSD, FWER=0.20</caption>\n",
              "<tr>\n",
              "  <th>group1</th>  <th>group2</th>  <th>meandiff</th>  <th>p-adj</th>  <th>lower</th>   <th>upper</th> <th>reject</th>\n",
              "</tr>\n",
              "<tr>\n",
              "    <td>其他</td>    <td>初中及初中以下</td>  <td>1.1545</td>  <td>0.8955</td> <td>-1.3666</td> <td>3.6755</td>  <td>False</td>\n",
              "</tr>\n",
              "<tr>\n",
              "    <td>其他</td>      <td>學士</td>     <td>1.2414</td>  <td>0.7818</td> <td>-1.039</td>  <td>3.5217</td>  <td>False</td>\n",
              "</tr>\n",
              "<tr>\n",
              "    <td>其他</td>      <td>專科</td>     <td>1.9269</td>  <td>0.3952</td> <td>-0.3865</td> <td>4.2404</td>  <td>False</td>\n",
              "</tr>\n",
              "<tr>\n",
              "    <td>其他</td>     <td>研究所以上</td>   <td>1.5702</td>  <td>0.6179</td> <td>-0.7768</td> <td>3.9171</td>  <td>False</td>\n",
              "</tr>\n",
              "<tr>\n",
              "    <td>其他</td>      <td>高中</td>     <td>1.6377</td>  <td>0.5667</td> <td>-0.6757</td> <td>3.9512</td>  <td>False</td>\n",
              "</tr>\n",
              "<tr>\n",
              "  <td>初中及初中以下</td>   <td>學士</td>     <td>0.0869</td>    <td>0.9</td>  <td>-1.0907</td> <td>1.2645</td>  <td>False</td>\n",
              "</tr>\n",
              "<tr>\n",
              "  <td>初中及初中以下</td>   <td>專科</td>     <td>0.7725</td>  <td>0.6787</td> <td>-0.468</td>  <td>2.0129</td>  <td>False</td>\n",
              "</tr>\n",
              "<tr>\n",
              "  <td>初中及初中以下</td>  <td>研究所以上</td>   <td>0.4157</td>    <td>0.9</td>  <td>-0.8861</td> <td>1.7176</td>  <td>False</td>\n",
              "</tr>\n",
              "<tr>\n",
              "  <td>初中及初中以下</td>   <td>高中</td>     <td>0.4833</td>    <td>0.9</td>  <td>-0.7572</td> <td>1.7237</td>  <td>False</td>\n",
              "</tr>\n",
              "<tr>\n",
              "    <td>學士</td>      <td>專科</td>     <td>0.6856</td>  <td>0.1181</td> <td>0.0666</td>  <td>1.3046</td>  <td>True</td> \n",
              "</tr>\n",
              "<tr>\n",
              "    <td>學士</td>     <td>研究所以上</td>   <td>0.3288</td>    <td>0.9</td>  <td>-0.4055</td> <td>1.0632</td>  <td>False</td>\n",
              "</tr>\n",
              "<tr>\n",
              "    <td>學士</td>      <td>高中</td>     <td>0.3964</td>  <td>0.6556</td> <td>-0.2226</td> <td>1.0154</td>  <td>False</td>\n",
              "</tr>\n",
              "<tr>\n",
              "    <td>專科</td>     <td>研究所以上</td>   <td>-0.3568</td>   <td>0.9</td>  <td>-1.1882</td> <td>0.4747</td>  <td>False</td>\n",
              "</tr>\n",
              "<tr>\n",
              "    <td>專科</td>      <td>高中</td>     <td>-0.2892</td>   <td>0.9</td>  <td>-1.0208</td> <td>0.4424</td>  <td>False</td>\n",
              "</tr>\n",
              "<tr>\n",
              "   <td>研究所以上</td>    <td>高中</td>     <td>0.0676</td>    <td>0.9</td>  <td>-0.7639</td>  <td>0.899</td>  <td>False</td>\n",
              "</tr>\n",
              "</table>"
            ],
            "text/plain": [
              "<class 'statsmodels.iolib.table.SimpleTable'>"
            ]
          },
          "metadata": {
            "tags": []
          }
        },
        {
          "output_type": "display_data",
          "data": {
            "image/png": "[encoded data removed]",
            "text/plain": [
              "<Figure size 432x288 with 1 Axes>"
            ]
          },
          "metadata": {
            "tags": []
          }
        }
      ]
    },
    {
      "cell_type": "markdown",
      "metadata": {
        "id": "dlFVXHbsbv2o"
      },
      "source": [
        "## **Sex_Test**"
      ]
    },
    {
      "cell_type": "code",
      "metadata": {
        "colab": {
          "base_uri": "https://localhost:8080/",
          "height": 475
        },
        "id": "Zba-GAxzbv2s",
        "outputId": "8b0d3154-648a-455f-fd55-061a745186f4"
      },
      "source": [
        "f_test(y_var='ln_BS_Score', x_var='性別')"
      ],
      "execution_count": null,
      "outputs": [
        {
          "output_type": "display_data",
          "data": {
            "text/html": [
              "<div>\n",
              "<style scoped>\n",
              "    .dataframe tbody tr th:only-of-type {\n",
              "        vertical-align: middle;\n",
              "    }\n",
              "\n",
              "    .dataframe tbody tr th {\n",
              "        vertical-align: top;\n",
              "    }\n",
              "\n",
              "    .dataframe thead tr th {\n",
              "        text-align: left;\n",
              "    }\n",
              "\n",
              "    .dataframe thead tr:last-of-type th {\n",
              "        text-align: right;\n",
              "    }\n",
              "</style>\n",
              "<table border=\"1\" class=\"dataframe\">\n",
              "  <thead>\n",
              "    <tr>\n",
              "      <th></th>\n",
              "      <th colspan=\"3\" halign=\"left\">ln_BS_Score</th>\n",
              "    </tr>\n",
              "    <tr>\n",
              "      <th></th>\n",
              "      <th>mean</th>\n",
              "      <th>std</th>\n",
              "      <th>count</th>\n",
              "    </tr>\n",
              "    <tr>\n",
              "      <th>性別</th>\n",
              "      <th></th>\n",
              "      <th></th>\n",
              "      <th></th>\n",
              "    </tr>\n",
              "  </thead>\n",
              "  <tbody>\n",
              "    <tr>\n",
              "      <th>1:男</th>\n",
              "      <td>0.103527</td>\n",
              "      <td>1.017384</td>\n",
              "      <td>51</td>\n",
              "    </tr>\n",
              "    <tr>\n",
              "      <th>2:女</th>\n",
              "      <td>-0.074288</td>\n",
              "      <td>0.962013</td>\n",
              "      <td>48</td>\n",
              "    </tr>\n",
              "  </tbody>\n",
              "</table>\n",
              "</div>"
            ],
            "text/plain": [
              "    ln_BS_Score                \n",
              "           mean       std count\n",
              "性別                             \n",
              "1:男    0.103527  1.017384    51\n",
              "2:女   -0.074288  0.962013    48"
            ]
          },
          "metadata": {
            "tags": []
          }
        },
        {
          "output_type": "stream",
          "text": [
            "F statistics is 0.80\n",
            "Pvalue is 0.37\n"
          ],
          "name": "stdout"
        },
        {
          "output_type": "display_data",
          "data": {
            "image/png": "[encoded data removed]",
            "text/plain": [
              "<Figure size 432x288 with 1 Axes>"
            ]
          },
          "metadata": {
            "tags": []
          }
        }
      ]
    },
    {
      "cell_type": "code",
      "metadata": {
        "colab": {
          "base_uri": "https://localhost:8080/",
          "height": 475
        },
        "id": "glImmVWls45p",
        "outputId": "15d1aa10-4489-49df-8a04-35f3b595ca85"
      },
      "source": [
        "f_test(y_var='CAI', x_var='性別')"
      ],
      "execution_count": null,
      "outputs": [
        {
          "output_type": "display_data",
          "data": {
            "text/html": [
              "<div>\n",
              "<style scoped>\n",
              "    .dataframe tbody tr th:only-of-type {\n",
              "        vertical-align: middle;\n",
              "    }\n",
              "\n",
              "    .dataframe tbody tr th {\n",
              "        vertical-align: top;\n",
              "    }\n",
              "\n",
              "    .dataframe thead tr th {\n",
              "        text-align: left;\n",
              "    }\n",
              "\n",
              "    .dataframe thead tr:last-of-type th {\n",
              "        text-align: right;\n",
              "    }\n",
              "</style>\n",
              "<table border=\"1\" class=\"dataframe\">\n",
              "  <thead>\n",
              "    <tr>\n",
              "      <th></th>\n",
              "      <th colspan=\"3\" halign=\"left\">CAI</th>\n",
              "    </tr>\n",
              "    <tr>\n",
              "      <th></th>\n",
              "      <th>mean</th>\n",
              "      <th>std</th>\n",
              "      <th>count</th>\n",
              "    </tr>\n",
              "    <tr>\n",
              "      <th>性別</th>\n",
              "      <th></th>\n",
              "      <th></th>\n",
              "      <th></th>\n",
              "    </tr>\n",
              "  </thead>\n",
              "  <tbody>\n",
              "    <tr>\n",
              "      <th>1:男</th>\n",
              "      <td>0.038391</td>\n",
              "      <td>0.953357</td>\n",
              "      <td>51</td>\n",
              "    </tr>\n",
              "    <tr>\n",
              "      <th>2:女</th>\n",
              "      <td>-0.040791</td>\n",
              "      <td>1.055890</td>\n",
              "      <td>48</td>\n",
              "    </tr>\n",
              "  </tbody>\n",
              "</table>\n",
              "</div>"
            ],
            "text/plain": [
              "          CAI                \n",
              "         mean       std count\n",
              "性別                           \n",
              "1:男  0.038391  0.953357    51\n",
              "2:女 -0.040791  1.055890    48"
            ]
          },
          "metadata": {
            "tags": []
          }
        },
        {
          "output_type": "stream",
          "text": [
            "F statistics is 0.15\n",
            "Pvalue is 0.70\n"
          ],
          "name": "stdout"
        },
        {
          "output_type": "display_data",
          "data": {
            "image/png": "[encoded data removed]",
            "text/plain": [
              "<Figure size 432x288 with 1 Axes>"
            ]
          },
          "metadata": {
            "tags": []
          }
        }
      ]
    },
    {
      "cell_type": "markdown",
      "metadata": {
        "id": "wRN411Vubv9s"
      },
      "source": [
        "## **Single_Test**"
      ]
    },
    {
      "cell_type": "code",
      "metadata": {
        "colab": {
          "base_uri": "https://localhost:8080/",
          "height": 475
        },
        "id": "SnEt4-IJbv9s",
        "outputId": "1d676aeb-0a1b-4ad4-8213-0ee0d76db231"
      },
      "source": [
        "f_test(y_var='ln_BS_Score', x_var='婚姻狀況')"
      ],
      "execution_count": null,
      "outputs": [
        {
          "output_type": "display_data",
          "data": {
            "text/html": [
              "<div>\n",
              "<style scoped>\n",
              "    .dataframe tbody tr th:only-of-type {\n",
              "        vertical-align: middle;\n",
              "    }\n",
              "\n",
              "    .dataframe tbody tr th {\n",
              "        vertical-align: top;\n",
              "    }\n",
              "\n",
              "    .dataframe thead tr th {\n",
              "        text-align: left;\n",
              "    }\n",
              "\n",
              "    .dataframe thead tr:last-of-type th {\n",
              "        text-align: right;\n",
              "    }\n",
              "</style>\n",
              "<table border=\"1\" class=\"dataframe\">\n",
              "  <thead>\n",
              "    <tr>\n",
              "      <th></th>\n",
              "      <th colspan=\"3\" halign=\"left\">ln_BS_Score</th>\n",
              "    </tr>\n",
              "    <tr>\n",
              "      <th></th>\n",
              "      <th>mean</th>\n",
              "      <th>std</th>\n",
              "      <th>count</th>\n",
              "    </tr>\n",
              "    <tr>\n",
              "      <th>婚姻狀況</th>\n",
              "      <th></th>\n",
              "      <th></th>\n",
              "      <th></th>\n",
              "    </tr>\n",
              "  </thead>\n",
              "  <tbody>\n",
              "    <tr>\n",
              "      <th>單身</th>\n",
              "      <td>0.116885</td>\n",
              "      <td>0.883476</td>\n",
              "      <td>37</td>\n",
              "    </tr>\n",
              "    <tr>\n",
              "      <th>已婚</th>\n",
              "      <td>-0.042108</td>\n",
              "      <td>1.050742</td>\n",
              "      <td>62</td>\n",
              "    </tr>\n",
              "  </tbody>\n",
              "</table>\n",
              "</div>"
            ],
            "text/plain": [
              "     ln_BS_Score                \n",
              "            mean       std count\n",
              "婚姻狀況                            \n",
              "單身      0.116885  0.883476    37\n",
              "已婚     -0.042108  1.050742    62"
            ]
          },
          "metadata": {
            "tags": []
          }
        },
        {
          "output_type": "stream",
          "text": [
            "F statistics is 0.60\n",
            "Pvalue is 0.44\n"
          ],
          "name": "stdout"
        },
        {
          "output_type": "display_data",
          "data": {
            "image/png": "[encoded data removed]",
            "text/plain": [
              "<Figure size 432x288 with 1 Axes>"
            ]
          },
          "metadata": {
            "tags": []
          }
        }
      ]
    },
    {
      "cell_type": "code",
      "metadata": {
        "colab": {
          "base_uri": "https://localhost:8080/",
          "height": 475
        },
        "id": "wJ4rOovJs8xf",
        "outputId": "a9724569-59cc-4113-b75a-d2cc9931a3da"
      },
      "source": [
        "f_test(y_var='CAI', x_var='婚姻狀況')"
      ],
      "execution_count": null,
      "outputs": [
        {
          "output_type": "display_data",
          "data": {
            "text/html": [
              "<div>\n",
              "<style scoped>\n",
              "    .dataframe tbody tr th:only-of-type {\n",
              "        vertical-align: middle;\n",
              "    }\n",
              "\n",
              "    .dataframe tbody tr th {\n",
              "        vertical-align: top;\n",
              "    }\n",
              "\n",
              "    .dataframe thead tr th {\n",
              "        text-align: left;\n",
              "    }\n",
              "\n",
              "    .dataframe thead tr:last-of-type th {\n",
              "        text-align: right;\n",
              "    }\n",
              "</style>\n",
              "<table border=\"1\" class=\"dataframe\">\n",
              "  <thead>\n",
              "    <tr>\n",
              "      <th></th>\n",
              "      <th colspan=\"3\" halign=\"left\">CAI</th>\n",
              "    </tr>\n",
              "    <tr>\n",
              "      <th></th>\n",
              "      <th>mean</th>\n",
              "      <th>std</th>\n",
              "      <th>count</th>\n",
              "    </tr>\n",
              "    <tr>\n",
              "      <th>婚姻狀況</th>\n",
              "      <th></th>\n",
              "      <th></th>\n",
              "      <th></th>\n",
              "    </tr>\n",
              "  </thead>\n",
              "  <tbody>\n",
              "    <tr>\n",
              "      <th>單身</th>\n",
              "      <td>0.000298</td>\n",
              "      <td>1.068509</td>\n",
              "      <td>37</td>\n",
              "    </tr>\n",
              "    <tr>\n",
              "      <th>已婚</th>\n",
              "      <td>-0.000178</td>\n",
              "      <td>0.965795</td>\n",
              "      <td>62</td>\n",
              "    </tr>\n",
              "  </tbody>\n",
              "</table>\n",
              "</div>"
            ],
            "text/plain": [
              "           CAI                \n",
              "          mean       std count\n",
              "婚姻狀況                          \n",
              "單身    0.000298  1.068509    37\n",
              "已婚   -0.000178  0.965795    62"
            ]
          },
          "metadata": {
            "tags": []
          }
        },
        {
          "output_type": "stream",
          "text": [
            "F statistics is 0.00\n",
            "Pvalue is 1.00\n"
          ],
          "name": "stdout"
        },
        {
          "output_type": "display_data",
          "data": {
            "image/png": "[encoded data removed]",
            "text/plain": [
              "<Figure size 432x288 with 1 Axes>"
            ]
          },
          "metadata": {
            "tags": []
          }
        }
      ]
    },
    {
      "cell_type": "markdown",
      "metadata": {
        "id": "L_hd6_CTbwC1"
      },
      "source": [
        "## **Occupation_Test**"
      ]
    },
    {
      "cell_type": "code",
      "metadata": {
        "colab": {
          "base_uri": "https://localhost:8080/",
          "height": 816
        },
        "id": "EVDp89z1bwC1",
        "outputId": "2abc1294-3fd1-45e6-cdfc-6ed2316dc710"
      },
      "source": [
        "f_test(y_var='ln_BS_Score', x_var='職業')"
      ],
      "execution_count": null,
      "outputs": [
        {
          "output_type": "display_data",
          "data": {
            "text/html": [
              "<div>\n",
              "<style scoped>\n",
              "    .dataframe tbody tr th:only-of-type {\n",
              "        vertical-align: middle;\n",
              "    }\n",
              "\n",
              "    .dataframe tbody tr th {\n",
              "        vertical-align: top;\n",
              "    }\n",
              "\n",
              "    .dataframe thead tr th {\n",
              "        text-align: left;\n",
              "    }\n",
              "\n",
              "    .dataframe thead tr:last-of-type th {\n",
              "        text-align: right;\n",
              "    }\n",
              "</style>\n",
              "<table border=\"1\" class=\"dataframe\">\n",
              "  <thead>\n",
              "    <tr>\n",
              "      <th></th>\n",
              "      <th colspan=\"3\" halign=\"left\">ln_BS_Score</th>\n",
              "    </tr>\n",
              "    <tr>\n",
              "      <th></th>\n",
              "      <th>mean</th>\n",
              "      <th>std</th>\n",
              "      <th>count</th>\n",
              "    </tr>\n",
              "    <tr>\n",
              "      <th>職業</th>\n",
              "      <th></th>\n",
              "      <th></th>\n",
              "      <th></th>\n",
              "    </tr>\n",
              "  </thead>\n",
              "  <tbody>\n",
              "    <tr>\n",
              "      <th>一般服務從業人員</th>\n",
              "      <td>-0.339486</td>\n",
              "      <td>NaN</td>\n",
              "      <td>1</td>\n",
              "    </tr>\n",
              "    <tr>\n",
              "      <th>公務員</th>\n",
              "      <td>0.036539</td>\n",
              "      <td>0.906199</td>\n",
              "      <td>5</td>\n",
              "    </tr>\n",
              "    <tr>\n",
              "      <th>其他</th>\n",
              "      <td>-0.776925</td>\n",
              "      <td>NaN</td>\n",
              "      <td>1</td>\n",
              "    </tr>\n",
              "    <tr>\n",
              "      <th>專業(技術)人員</th>\n",
              "      <td>1.938646</td>\n",
              "      <td>NaN</td>\n",
              "      <td>1</td>\n",
              "    </tr>\n",
              "    <tr>\n",
              "      <th>白領一般職員</th>\n",
              "      <td>0.124476</td>\n",
              "      <td>0.741366</td>\n",
              "      <td>38</td>\n",
              "    </tr>\n",
              "    <tr>\n",
              "      <th>白領主管</th>\n",
              "      <td>-0.061433</td>\n",
              "      <td>1.051588</td>\n",
              "      <td>18</td>\n",
              "    </tr>\n",
              "    <tr>\n",
              "      <th>自營事業老闆</th>\n",
              "      <td>-0.142445</td>\n",
              "      <td>1.225325</td>\n",
              "      <td>9</td>\n",
              "    </tr>\n",
              "    <tr>\n",
              "      <th>自由業</th>\n",
              "      <td>-0.296859</td>\n",
              "      <td>1.183844</td>\n",
              "      <td>6</td>\n",
              "    </tr>\n",
              "    <tr>\n",
              "      <th>藍領(勞動工作或作業員)一般職員</th>\n",
              "      <td>-0.119173</td>\n",
              "      <td>1.398998</td>\n",
              "      <td>9</td>\n",
              "    </tr>\n",
              "    <tr>\n",
              "      <th>藍領(工廠及製造業)主管</th>\n",
              "      <td>-0.042830</td>\n",
              "      <td>NaN</td>\n",
              "      <td>1</td>\n",
              "    </tr>\n",
              "    <tr>\n",
              "      <th>軍警</th>\n",
              "      <td>1.017249</td>\n",
              "      <td>0.411411</td>\n",
              "      <td>3</td>\n",
              "    </tr>\n",
              "    <tr>\n",
              "      <th>農漁民</th>\n",
              "      <td>-0.980426</td>\n",
              "      <td>NaN</td>\n",
              "      <td>1</td>\n",
              "    </tr>\n",
              "    <tr>\n",
              "      <th>退休或無業</th>\n",
              "      <td>-0.134661</td>\n",
              "      <td>1.301619</td>\n",
              "      <td>6</td>\n",
              "    </tr>\n",
              "  </tbody>\n",
              "</table>\n",
              "</div>"
            ],
            "text/plain": [
              "                 ln_BS_Score                \n",
              "                        mean       std count\n",
              "職業                                          \n",
              "一般服務從業人員           -0.339486       NaN     1\n",
              "公務員                 0.036539  0.906199     5\n",
              "其他                 -0.776925       NaN     1\n",
              "專業(技術)人員            1.938646       NaN     1\n",
              "白領一般職員              0.124476  0.741366    38\n",
              "白領主管               -0.061433  1.051588    18\n",
              "自營事業老闆             -0.142445  1.225325     9\n",
              "自由業                -0.296859  1.183844     6\n",
              "藍領(勞動工作或作業員)一般職員   -0.119173  1.398998     9\n",
              "藍領(工廠及製造業)主管       -0.042830       NaN     1\n",
              "軍警                  1.017249  0.411411     3\n",
              "農漁民                -0.980426       NaN     1\n",
              "退休或無業              -0.134661  1.301619     6"
            ]
          },
          "metadata": {
            "tags": []
          }
        },
        {
          "output_type": "stream",
          "text": [
            "F statistics is 0.84\n",
            "Pvalue is 0.60\n"
          ],
          "name": "stdout"
        },
        {
          "output_type": "display_data",
          "data": {
            "image/png": "[encoded data removed]",
            "text/plain": [
              "<Figure size 432x288 with 1 Axes>"
            ]
          },
          "metadata": {
            "tags": []
          }
        }
      ]
    },
    {
      "cell_type": "code",
      "metadata": {
        "colab": {
          "base_uri": "https://localhost:8080/",
          "height": 816
        },
        "id": "GKu3ulKStDGY",
        "outputId": "92dff78b-85b5-407a-aa1c-b2a74ab9c4c7"
      },
      "source": [
        "f_test(y_var='CAI', x_var='職業')"
      ],
      "execution_count": null,
      "outputs": [
        {
          "output_type": "display_data",
          "data": {
            "text/html": [
              "<div>\n",
              "<style scoped>\n",
              "    .dataframe tbody tr th:only-of-type {\n",
              "        vertical-align: middle;\n",
              "    }\n",
              "\n",
              "    .dataframe tbody tr th {\n",
              "        vertical-align: top;\n",
              "    }\n",
              "\n",
              "    .dataframe thead tr th {\n",
              "        text-align: left;\n",
              "    }\n",
              "\n",
              "    .dataframe thead tr:last-of-type th {\n",
              "        text-align: right;\n",
              "    }\n",
              "</style>\n",
              "<table border=\"1\" class=\"dataframe\">\n",
              "  <thead>\n",
              "    <tr>\n",
              "      <th></th>\n",
              "      <th colspan=\"3\" halign=\"left\">CAI</th>\n",
              "    </tr>\n",
              "    <tr>\n",
              "      <th></th>\n",
              "      <th>mean</th>\n",
              "      <th>std</th>\n",
              "      <th>count</th>\n",
              "    </tr>\n",
              "    <tr>\n",
              "      <th>職業</th>\n",
              "      <th></th>\n",
              "      <th></th>\n",
              "      <th></th>\n",
              "    </tr>\n",
              "  </thead>\n",
              "  <tbody>\n",
              "    <tr>\n",
              "      <th>一般服務從業人員</th>\n",
              "      <td>1.574950</td>\n",
              "      <td>NaN</td>\n",
              "      <td>1</td>\n",
              "    </tr>\n",
              "    <tr>\n",
              "      <th>公務員</th>\n",
              "      <td>-0.039913</td>\n",
              "      <td>0.730806</td>\n",
              "      <td>5</td>\n",
              "    </tr>\n",
              "    <tr>\n",
              "      <th>其他</th>\n",
              "      <td>-0.899008</td>\n",
              "      <td>NaN</td>\n",
              "      <td>1</td>\n",
              "    </tr>\n",
              "    <tr>\n",
              "      <th>專業(技術)人員</th>\n",
              "      <td>-0.206490</td>\n",
              "      <td>NaN</td>\n",
              "      <td>1</td>\n",
              "    </tr>\n",
              "    <tr>\n",
              "      <th>白領一般職員</th>\n",
              "      <td>-0.075202</td>\n",
              "      <td>1.079446</td>\n",
              "      <td>38</td>\n",
              "    </tr>\n",
              "    <tr>\n",
              "      <th>白領主管</th>\n",
              "      <td>0.147361</td>\n",
              "      <td>0.856774</td>\n",
              "      <td>18</td>\n",
              "    </tr>\n",
              "    <tr>\n",
              "      <th>自營事業老闆</th>\n",
              "      <td>0.278679</td>\n",
              "      <td>0.960159</td>\n",
              "      <td>9</td>\n",
              "    </tr>\n",
              "    <tr>\n",
              "      <th>自由業</th>\n",
              "      <td>-0.246853</td>\n",
              "      <td>1.029732</td>\n",
              "      <td>6</td>\n",
              "    </tr>\n",
              "    <tr>\n",
              "      <th>藍領(勞動工作或作業員)一般職員</th>\n",
              "      <td>0.124051</td>\n",
              "      <td>1.470706</td>\n",
              "      <td>9</td>\n",
              "    </tr>\n",
              "    <tr>\n",
              "      <th>藍領(工廠及製造業)主管</th>\n",
              "      <td>-0.690421</td>\n",
              "      <td>NaN</td>\n",
              "      <td>1</td>\n",
              "    </tr>\n",
              "    <tr>\n",
              "      <th>軍警</th>\n",
              "      <td>-0.678199</td>\n",
              "      <td>0.698438</td>\n",
              "      <td>3</td>\n",
              "    </tr>\n",
              "    <tr>\n",
              "      <th>農漁民</th>\n",
              "      <td>1.074199</td>\n",
              "      <td>NaN</td>\n",
              "      <td>1</td>\n",
              "    </tr>\n",
              "    <tr>\n",
              "      <th>退休或無業</th>\n",
              "      <td>-0.092891</td>\n",
              "      <td>0.470174</td>\n",
              "      <td>6</td>\n",
              "    </tr>\n",
              "  </tbody>\n",
              "</table>\n",
              "</div>"
            ],
            "text/plain": [
              "                       CAI                \n",
              "                      mean       std count\n",
              "職業                                        \n",
              "一般服務從業人員          1.574950       NaN     1\n",
              "公務員              -0.039913  0.730806     5\n",
              "其他               -0.899008       NaN     1\n",
              "專業(技術)人員         -0.206490       NaN     1\n",
              "白領一般職員           -0.075202  1.079446    38\n",
              "白領主管              0.147361  0.856774    18\n",
              "自營事業老闆            0.278679  0.960159     9\n",
              "自由業              -0.246853  1.029732     6\n",
              "藍領(勞動工作或作業員)一般職員  0.124051  1.470706     9\n",
              "藍領(工廠及製造業)主管     -0.690421       NaN     1\n",
              "軍警               -0.678199  0.698438     3\n",
              "農漁民               1.074199       NaN     1\n",
              "退休或無業            -0.092891  0.470174     6"
            ]
          },
          "metadata": {
            "tags": []
          }
        },
        {
          "output_type": "stream",
          "text": [
            "F statistics is 0.66\n",
            "Pvalue is 0.79\n"
          ],
          "name": "stdout"
        },
        {
          "output_type": "display_data",
          "data": {
            "image/png": "[encoded data removed]",
            "text/plain": [
              "<Figure size 432x288 with 1 Axes>"
            ]
          },
          "metadata": {
            "tags": []
          }
        }
      ]
    },
    {
      "cell_type": "markdown",
      "metadata": {
        "id": "AQwFUriTf2Fn"
      },
      "source": [
        "## **Age_Test**"
      ]
    },
    {
      "cell_type": "code",
      "metadata": {
        "colab": {
          "base_uri": "https://localhost:8080/",
          "height": 703
        },
        "id": "9KJwa2S1f2Fo",
        "outputId": "ed3fdff4-2e5b-4b28-8a67-d72b8581c5bb"
      },
      "source": [
        "f_test(y_var='ln_BS_Score', x_var='年齡層')"
      ],
      "execution_count": null,
      "outputs": [
        {
          "output_type": "display_data",
          "data": {
            "text/html": [
              "<div>\n",
              "<style scoped>\n",
              "    .dataframe tbody tr th:only-of-type {\n",
              "        vertical-align: middle;\n",
              "    }\n",
              "\n",
              "    .dataframe tbody tr th {\n",
              "        vertical-align: top;\n",
              "    }\n",
              "\n",
              "    .dataframe thead tr th {\n",
              "        text-align: left;\n",
              "    }\n",
              "\n",
              "    .dataframe thead tr:last-of-type th {\n",
              "        text-align: right;\n",
              "    }\n",
              "</style>\n",
              "<table border=\"1\" class=\"dataframe\">\n",
              "  <thead>\n",
              "    <tr>\n",
              "      <th></th>\n",
              "      <th colspan=\"3\" halign=\"left\">ln_BS_Score</th>\n",
              "    </tr>\n",
              "    <tr>\n",
              "      <th></th>\n",
              "      <th>mean</th>\n",
              "      <th>std</th>\n",
              "      <th>count</th>\n",
              "    </tr>\n",
              "    <tr>\n",
              "      <th>年齡層</th>\n",
              "      <th></th>\n",
              "      <th></th>\n",
              "      <th></th>\n",
              "    </tr>\n",
              "  </thead>\n",
              "  <tbody>\n",
              "    <tr>\n",
              "      <th>30歲以下</th>\n",
              "      <td>0.204313</td>\n",
              "      <td>0.751552</td>\n",
              "      <td>12</td>\n",
              "    </tr>\n",
              "    <tr>\n",
              "      <th>31-40歲</th>\n",
              "      <td>0.363019</td>\n",
              "      <td>0.975288</td>\n",
              "      <td>18</td>\n",
              "    </tr>\n",
              "    <tr>\n",
              "      <th>41-50歲</th>\n",
              "      <td>0.154414</td>\n",
              "      <td>1.152899</td>\n",
              "      <td>25</td>\n",
              "    </tr>\n",
              "    <tr>\n",
              "      <th>50歲以上</th>\n",
              "      <td>-0.253009</td>\n",
              "      <td>0.908524</td>\n",
              "      <td>44</td>\n",
              "    </tr>\n",
              "  </tbody>\n",
              "</table>\n",
              "</div>"
            ],
            "text/plain": [
              "       ln_BS_Score                \n",
              "              mean       std count\n",
              "年齡層                               \n",
              "30歲以下     0.204313  0.751552    12\n",
              "31-40歲    0.363019  0.975288    18\n",
              "41-50歲    0.154414  1.152899    25\n",
              "50歲以上    -0.253009  0.908524    44"
            ]
          },
          "metadata": {
            "tags": []
          }
        },
        {
          "output_type": "stream",
          "text": [
            "F statistics is 2.21\n",
            "Pvalue is 0.09\n"
          ],
          "name": "stdout"
        },
        {
          "output_type": "display_data",
          "data": {
            "text/html": [
              "<table class=\"simpletable\">\n",
              "<caption>Multiple Comparison of Means - Tukey HSD, FWER=0.20</caption>\n",
              "<tr>\n",
              "  <th>group1</th> <th>group2</th> <th>meandiff</th>  <th>p-adj</th>  <th>lower</th>   <th>upper</th>  <th>reject</th>\n",
              "</tr>\n",
              "<tr>\n",
              "   <td>30歲以下</td> <td>31-40歲</td>  <td>0.1587</td>    <td>0.9</td>  <td>-0.5613</td> <td>0.8788</td>   <td>False</td>\n",
              "</tr>\n",
              "<tr>\n",
              "   <td>30歲以下</td> <td>41-50歲</td>  <td>-0.0499</td>   <td>0.9</td>  <td>-0.7284</td> <td>0.6286</td>   <td>False</td>\n",
              "</tr>\n",
              "<tr>\n",
              "   <td>30歲以下</td>  <td>50歲以上</td>  <td>-0.4573</td> <td>0.4759</td> <td>-1.0865</td> <td>0.1719</td>   <td>False</td>\n",
              "</tr>\n",
              "<tr>\n",
              "  <td>31-40歲</td> <td>41-50歲</td>  <td>-0.2086</td> <td>0.8953</td> <td>-0.8059</td> <td>0.3886</td>   <td>False</td>\n",
              "</tr>\n",
              "<tr>\n",
              "  <td>31-40歲</td>  <td>50歲以上</td>  <td>-0.616</td>  <td>0.1138</td> <td>-1.1566</td> <td>-0.0754</td>  <td>True</td> \n",
              "</tr>\n",
              "<tr>\n",
              "  <td>41-50歲</td>  <td>50歲以上</td>  <td>-0.4074</td> <td>0.3437</td> <td>-0.8913</td> <td>0.0765</td>   <td>False</td>\n",
              "</tr>\n",
              "</table>"
            ],
            "text/plain": [
              "<class 'statsmodels.iolib.table.SimpleTable'>"
            ]
          },
          "metadata": {
            "tags": []
          }
        },
        {
          "output_type": "display_data",
          "data": {
            "image/png": "[encoded data removed]",
            "text/plain": [
              "<Figure size 432x288 with 1 Axes>"
            ]
          },
          "metadata": {
            "tags": []
          }
        }
      ]
    },
    {
      "cell_type": "code",
      "metadata": {
        "colab": {
          "base_uri": "https://localhost:8080/",
          "height": 537
        },
        "id": "m44-ndFMtTG7",
        "outputId": "d9c6d05a-63ba-4cc9-b278-353efc90cbcc"
      },
      "source": [
        "f_test(y_var='CAI', x_var='年齡層')"
      ],
      "execution_count": null,
      "outputs": [
        {
          "output_type": "display_data",
          "data": {
            "text/html": [
              "<div>\n",
              "<style scoped>\n",
              "    .dataframe tbody tr th:only-of-type {\n",
              "        vertical-align: middle;\n",
              "    }\n",
              "\n",
              "    .dataframe tbody tr th {\n",
              "        vertical-align: top;\n",
              "    }\n",
              "\n",
              "    .dataframe thead tr th {\n",
              "        text-align: left;\n",
              "    }\n",
              "\n",
              "    .dataframe thead tr:last-of-type th {\n",
              "        text-align: right;\n",
              "    }\n",
              "</style>\n",
              "<table border=\"1\" class=\"dataframe\">\n",
              "  <thead>\n",
              "    <tr>\n",
              "      <th></th>\n",
              "      <th colspan=\"3\" halign=\"left\">CAI</th>\n",
              "    </tr>\n",
              "    <tr>\n",
              "      <th></th>\n",
              "      <th>mean</th>\n",
              "      <th>std</th>\n",
              "      <th>count</th>\n",
              "    </tr>\n",
              "    <tr>\n",
              "      <th>年齡層</th>\n",
              "      <th></th>\n",
              "      <th></th>\n",
              "      <th></th>\n",
              "    </tr>\n",
              "  </thead>\n",
              "  <tbody>\n",
              "    <tr>\n",
              "      <th>30歲以下</th>\n",
              "      <td>-0.494681</td>\n",
              "      <td>1.206312</td>\n",
              "      <td>12</td>\n",
              "    </tr>\n",
              "    <tr>\n",
              "      <th>31-40歲</th>\n",
              "      <td>0.030360</td>\n",
              "      <td>0.885813</td>\n",
              "      <td>18</td>\n",
              "    </tr>\n",
              "    <tr>\n",
              "      <th>41-50歲</th>\n",
              "      <td>0.199532</td>\n",
              "      <td>0.949907</td>\n",
              "      <td>25</td>\n",
              "    </tr>\n",
              "    <tr>\n",
              "      <th>50歲以上</th>\n",
              "      <td>0.009122</td>\n",
              "      <td>1.000532</td>\n",
              "      <td>44</td>\n",
              "    </tr>\n",
              "  </tbody>\n",
              "</table>\n",
              "</div>"
            ],
            "text/plain": [
              "             CAI                \n",
              "            mean       std count\n",
              "年齡層                             \n",
              "30歲以下  -0.494681  1.206312    12\n",
              "31-40歲  0.030360  0.885813    18\n",
              "41-50歲  0.199532  0.949907    25\n",
              "50歲以上   0.009122  1.000532    44"
            ]
          },
          "metadata": {
            "tags": []
          }
        },
        {
          "output_type": "stream",
          "text": [
            "F statistics is 1.33\n",
            "Pvalue is 0.27\n"
          ],
          "name": "stdout"
        },
        {
          "output_type": "display_data",
          "data": {
            "image/png": "[encoded data removed]",
            "text/plain": [
              "<Figure size 432x288 with 1 Axes>"
            ]
          },
          "metadata": {
            "tags": []
          }
        }
      ]
    },
    {
      "cell_type": "markdown",
      "metadata": {
        "id": "dOEkJNkEmPzF"
      },
      "source": [
        "## **First_Age_Test**"
      ]
    },
    {
      "cell_type": "code",
      "metadata": {
        "colab": {
          "base_uri": "https://localhost:8080/",
          "height": 703
        },
        "id": "pnzqLk8kmPzH",
        "outputId": "6a522c5e-7ee7-4a19-fb0b-5345415106e0"
      },
      "source": [
        "f_test(y_var='ln_BS_Score', x_var='首辦年齡層')"
      ],
      "execution_count": null,
      "outputs": [
        {
          "output_type": "display_data",
          "data": {
            "text/html": [
              "<div>\n",
              "<style scoped>\n",
              "    .dataframe tbody tr th:only-of-type {\n",
              "        vertical-align: middle;\n",
              "    }\n",
              "\n",
              "    .dataframe tbody tr th {\n",
              "        vertical-align: top;\n",
              "    }\n",
              "\n",
              "    .dataframe thead tr th {\n",
              "        text-align: left;\n",
              "    }\n",
              "\n",
              "    .dataframe thead tr:last-of-type th {\n",
              "        text-align: right;\n",
              "    }\n",
              "</style>\n",
              "<table border=\"1\" class=\"dataframe\">\n",
              "  <thead>\n",
              "    <tr>\n",
              "      <th></th>\n",
              "      <th colspan=\"3\" halign=\"left\">ln_BS_Score</th>\n",
              "    </tr>\n",
              "    <tr>\n",
              "      <th></th>\n",
              "      <th>mean</th>\n",
              "      <th>std</th>\n",
              "      <th>count</th>\n",
              "    </tr>\n",
              "    <tr>\n",
              "      <th>首辦年齡層</th>\n",
              "      <th></th>\n",
              "      <th></th>\n",
              "      <th></th>\n",
              "    </tr>\n",
              "  </thead>\n",
              "  <tbody>\n",
              "    <tr>\n",
              "      <th>30歲以下</th>\n",
              "      <td>0.154597</td>\n",
              "      <td>0.824684</td>\n",
              "      <td>28</td>\n",
              "    </tr>\n",
              "    <tr>\n",
              "      <th>31-40歲</th>\n",
              "      <td>0.311482</td>\n",
              "      <td>1.155453</td>\n",
              "      <td>25</td>\n",
              "    </tr>\n",
              "    <tr>\n",
              "      <th>41-50歲</th>\n",
              "      <td>-0.182962</td>\n",
              "      <td>0.930941</td>\n",
              "      <td>27</td>\n",
              "    </tr>\n",
              "    <tr>\n",
              "      <th>50歲以上</th>\n",
              "      <td>-0.287460</td>\n",
              "      <td>0.987591</td>\n",
              "      <td>19</td>\n",
              "    </tr>\n",
              "  </tbody>\n",
              "</table>\n",
              "</div>"
            ],
            "text/plain": [
              "       ln_BS_Score                \n",
              "              mean       std count\n",
              "首辦年齡層                             \n",
              "30歲以下     0.154597  0.824684    28\n",
              "31-40歲    0.311482  1.155453    25\n",
              "41-50歲   -0.182962  0.930941    27\n",
              "50歲以上    -0.287460  0.987591    19"
            ]
          },
          "metadata": {
            "tags": []
          }
        },
        {
          "output_type": "stream",
          "text": [
            "F statistics is 1.94\n",
            "Pvalue is 0.13\n"
          ],
          "name": "stdout"
        },
        {
          "output_type": "display_data",
          "data": {
            "text/html": [
              "<table class=\"simpletable\">\n",
              "<caption>Multiple Comparison of Means - Tukey HSD, FWER=0.20</caption>\n",
              "<tr>\n",
              "  <th>group1</th> <th>group2</th> <th>meandiff</th>  <th>p-adj</th>  <th>lower</th>   <th>upper</th>  <th>reject</th>\n",
              "</tr>\n",
              "<tr>\n",
              "   <td>30歲以下</td> <td>31-40歲</td>  <td>0.1569</td>    <td>0.9</td>  <td>-0.3769</td> <td>0.6906</td>   <td>False</td>\n",
              "</tr>\n",
              "<tr>\n",
              "   <td>30歲以下</td> <td>41-50歲</td>  <td>-0.3376</td> <td>0.5677</td> <td>-0.8608</td> <td>0.1857</td>   <td>False</td>\n",
              "</tr>\n",
              "<tr>\n",
              "   <td>30歲以下</td>  <td>50歲以上</td>  <td>-0.4421</td> <td>0.4289</td> <td>-1.0186</td> <td>0.1345</td>   <td>False</td>\n",
              "</tr>\n",
              "<tr>\n",
              "  <td>31-40歲</td> <td>41-50歲</td>  <td>-0.4944</td> <td>0.2681</td> <td>-1.0328</td>  <td>0.044</td>   <td>False</td>\n",
              "</tr>\n",
              "<tr>\n",
              "  <td>31-40歲</td>  <td>50歲以上</td>  <td>-0.5989</td> <td>0.1893</td> <td>-1.1893</td> <td>-0.0086</td>  <td>True</td> \n",
              "</tr>\n",
              "<tr>\n",
              "  <td>41-50歲</td>  <td>50歲以上</td>  <td>-0.1045</td>   <td>0.9</td>  <td>-0.6854</td> <td>0.4764</td>   <td>False</td>\n",
              "</tr>\n",
              "</table>"
            ],
            "text/plain": [
              "<class 'statsmodels.iolib.table.SimpleTable'>"
            ]
          },
          "metadata": {
            "tags": []
          }
        },
        {
          "output_type": "display_data",
          "data": {
            "image/png": "[encoded data removed]",
            "text/plain": [
              "<Figure size 432x288 with 1 Axes>"
            ]
          },
          "metadata": {
            "tags": []
          }
        }
      ]
    },
    {
      "cell_type": "code",
      "metadata": {
        "colab": {
          "base_uri": "https://localhost:8080/",
          "height": 537
        },
        "id": "474DbPaNmPzJ",
        "outputId": "87f9b6da-d0e6-471b-cb5d-aa673e8e263e"
      },
      "source": [
        "f_test(y_var='CAI', x_var='首辦年齡層')"
      ],
      "execution_count": null,
      "outputs": [
        {
          "output_type": "display_data",
          "data": {
            "text/html": [
              "<div>\n",
              "<style scoped>\n",
              "    .dataframe tbody tr th:only-of-type {\n",
              "        vertical-align: middle;\n",
              "    }\n",
              "\n",
              "    .dataframe tbody tr th {\n",
              "        vertical-align: top;\n",
              "    }\n",
              "\n",
              "    .dataframe thead tr th {\n",
              "        text-align: left;\n",
              "    }\n",
              "\n",
              "    .dataframe thead tr:last-of-type th {\n",
              "        text-align: right;\n",
              "    }\n",
              "</style>\n",
              "<table border=\"1\" class=\"dataframe\">\n",
              "  <thead>\n",
              "    <tr>\n",
              "      <th></th>\n",
              "      <th colspan=\"3\" halign=\"left\">CAI</th>\n",
              "    </tr>\n",
              "    <tr>\n",
              "      <th></th>\n",
              "      <th>mean</th>\n",
              "      <th>std</th>\n",
              "      <th>count</th>\n",
              "    </tr>\n",
              "    <tr>\n",
              "      <th>首辦年齡層</th>\n",
              "      <th></th>\n",
              "      <th></th>\n",
              "      <th></th>\n",
              "    </tr>\n",
              "  </thead>\n",
              "  <tbody>\n",
              "    <tr>\n",
              "      <th>30歲以下</th>\n",
              "      <td>-0.170983</td>\n",
              "      <td>1.055884</td>\n",
              "      <td>28</td>\n",
              "    </tr>\n",
              "    <tr>\n",
              "      <th>31-40歲</th>\n",
              "      <td>0.278765</td>\n",
              "      <td>0.920613</td>\n",
              "      <td>25</td>\n",
              "    </tr>\n",
              "    <tr>\n",
              "      <th>41-50歲</th>\n",
              "      <td>-0.051599</td>\n",
              "      <td>0.825262</td>\n",
              "      <td>27</td>\n",
              "    </tr>\n",
              "    <tr>\n",
              "      <th>50歲以上</th>\n",
              "      <td>-0.041496</td>\n",
              "      <td>1.224378</td>\n",
              "      <td>19</td>\n",
              "    </tr>\n",
              "  </tbody>\n",
              "</table>\n",
              "</div>"
            ],
            "text/plain": [
              "             CAI                \n",
              "            mean       std count\n",
              "首辦年齡層                           \n",
              "30歲以下  -0.170983  1.055884    28\n",
              "31-40歲  0.278765  0.920613    25\n",
              "41-50歲 -0.051599  0.825262    27\n",
              "50歲以上  -0.041496  1.224378    19"
            ]
          },
          "metadata": {
            "tags": []
          }
        },
        {
          "output_type": "stream",
          "text": [
            "F statistics is 0.95\n",
            "Pvalue is 0.42\n"
          ],
          "name": "stdout"
        },
        {
          "output_type": "display_data",
          "data": {
            "image/png": "[encoded data removed]",
            "text/plain": [
              "<Figure size 432x288 with 1 Axes>"
            ]
          },
          "metadata": {
            "tags": []
          }
        }
      ]
    },
    {
      "cell_type": "markdown",
      "metadata": {
        "id": "NcY8BlaNbwNp"
      },
      "source": [
        "## **Installment_Test**"
      ]
    },
    {
      "cell_type": "code",
      "metadata": {
        "colab": {
          "base_uri": "https://localhost:8080/",
          "height": 475
        },
        "id": "VXc-M8IbbwNp",
        "outputId": "43d6700e-0bd3-4da9-9028-9c3f5aa041db"
      },
      "source": [
        "f_test(y_var='ln_BS_Score', x_var='曾分期付款')"
      ],
      "execution_count": null,
      "outputs": [
        {
          "output_type": "display_data",
          "data": {
            "text/html": [
              "<div>\n",
              "<style scoped>\n",
              "    .dataframe tbody tr th:only-of-type {\n",
              "        vertical-align: middle;\n",
              "    }\n",
              "\n",
              "    .dataframe tbody tr th {\n",
              "        vertical-align: top;\n",
              "    }\n",
              "\n",
              "    .dataframe thead tr th {\n",
              "        text-align: left;\n",
              "    }\n",
              "\n",
              "    .dataframe thead tr:last-of-type th {\n",
              "        text-align: right;\n",
              "    }\n",
              "</style>\n",
              "<table border=\"1\" class=\"dataframe\">\n",
              "  <thead>\n",
              "    <tr>\n",
              "      <th></th>\n",
              "      <th colspan=\"3\" halign=\"left\">ln_BS_Score</th>\n",
              "    </tr>\n",
              "    <tr>\n",
              "      <th></th>\n",
              "      <th>mean</th>\n",
              "      <th>std</th>\n",
              "      <th>count</th>\n",
              "    </tr>\n",
              "    <tr>\n",
              "      <th>曾分期付款</th>\n",
              "      <th></th>\n",
              "      <th></th>\n",
              "      <th></th>\n",
              "    </tr>\n",
              "  </thead>\n",
              "  <tbody>\n",
              "    <tr>\n",
              "      <th>False</th>\n",
              "      <td>-0.142941</td>\n",
              "      <td>0.965407</td>\n",
              "      <td>76</td>\n",
              "    </tr>\n",
              "    <tr>\n",
              "      <th>True</th>\n",
              "      <td>0.546851</td>\n",
              "      <td>0.897736</td>\n",
              "      <td>23</td>\n",
              "    </tr>\n",
              "  </tbody>\n",
              "</table>\n",
              "</div>"
            ],
            "text/plain": [
              "      ln_BS_Score                \n",
              "             mean       std count\n",
              "曾分期付款                            \n",
              "False   -0.142941  0.965407    76\n",
              "True     0.546851  0.897736    23"
            ]
          },
          "metadata": {
            "tags": []
          }
        },
        {
          "output_type": "stream",
          "text": [
            "F statistics is 9.30\n",
            "Pvalue is 0.00\n"
          ],
          "name": "stdout"
        },
        {
          "output_type": "display_data",
          "data": {
            "image/png": "[encoded data removed]",
            "text/plain": [
              "<Figure size 432x288 with 1 Axes>"
            ]
          },
          "metadata": {
            "tags": []
          }
        }
      ]
    },
    {
      "cell_type": "code",
      "metadata": {
        "colab": {
          "base_uri": "https://localhost:8080/",
          "height": 475
        },
        "id": "H-VzeowVtF5M",
        "outputId": "095746b9-d16a-4b07-b2f4-7c3854004c3e"
      },
      "source": [
        "f_test(y_var='CAI', x_var='曾分期付款')"
      ],
      "execution_count": null,
      "outputs": [
        {
          "output_type": "display_data",
          "data": {
            "text/html": [
              "<div>\n",
              "<style scoped>\n",
              "    .dataframe tbody tr th:only-of-type {\n",
              "        vertical-align: middle;\n",
              "    }\n",
              "\n",
              "    .dataframe tbody tr th {\n",
              "        vertical-align: top;\n",
              "    }\n",
              "\n",
              "    .dataframe thead tr th {\n",
              "        text-align: left;\n",
              "    }\n",
              "\n",
              "    .dataframe thead tr:last-of-type th {\n",
              "        text-align: right;\n",
              "    }\n",
              "</style>\n",
              "<table border=\"1\" class=\"dataframe\">\n",
              "  <thead>\n",
              "    <tr>\n",
              "      <th></th>\n",
              "      <th colspan=\"3\" halign=\"left\">CAI</th>\n",
              "    </tr>\n",
              "    <tr>\n",
              "      <th></th>\n",
              "      <th>mean</th>\n",
              "      <th>std</th>\n",
              "      <th>count</th>\n",
              "    </tr>\n",
              "    <tr>\n",
              "      <th>曾分期付款</th>\n",
              "      <th></th>\n",
              "      <th></th>\n",
              "      <th></th>\n",
              "    </tr>\n",
              "  </thead>\n",
              "  <tbody>\n",
              "    <tr>\n",
              "      <th>False</th>\n",
              "      <td>0.014217</td>\n",
              "      <td>1.068562</td>\n",
              "      <td>76</td>\n",
              "    </tr>\n",
              "    <tr>\n",
              "      <th>True</th>\n",
              "      <td>-0.046978</td>\n",
              "      <td>0.747633</td>\n",
              "      <td>23</td>\n",
              "    </tr>\n",
              "  </tbody>\n",
              "</table>\n",
              "</div>"
            ],
            "text/plain": [
              "            CAI                \n",
              "           mean       std count\n",
              "曾分期付款                          \n",
              "False  0.014217  1.068562    76\n",
              "True  -0.046978  0.747633    23"
            ]
          },
          "metadata": {
            "tags": []
          }
        },
        {
          "output_type": "stream",
          "text": [
            "F statistics is 0.07\n",
            "Pvalue is 0.80\n"
          ],
          "name": "stdout"
        },
        {
          "output_type": "display_data",
          "data": {
            "image/png": "[encoded data removed]",
            "text/plain": [
              "<Figure size 432x288 with 1 Axes>"
            ]
          },
          "metadata": {
            "tags": []
          }
        }
      ]
    },
    {
      "cell_type": "markdown",
      "metadata": {
        "id": "SnPRU3s1CIKA"
      },
      "source": [
        "## **Aboard_Test**"
      ]
    },
    {
      "cell_type": "code",
      "metadata": {
        "colab": {
          "base_uri": "https://localhost:8080/",
          "height": 475
        },
        "id": "geq6kLfYZH9c",
        "outputId": "58edffa3-2349-4dca-8850-b7ec8e4a4c88"
      },
      "source": [
        "f_test(y_var='ln_BS_Score', x_var='曾國外消費')"
      ],
      "execution_count": null,
      "outputs": [
        {
          "output_type": "display_data",
          "data": {
            "text/html": [
              "<div>\n",
              "<style scoped>\n",
              "    .dataframe tbody tr th:only-of-type {\n",
              "        vertical-align: middle;\n",
              "    }\n",
              "\n",
              "    .dataframe tbody tr th {\n",
              "        vertical-align: top;\n",
              "    }\n",
              "\n",
              "    .dataframe thead tr th {\n",
              "        text-align: left;\n",
              "    }\n",
              "\n",
              "    .dataframe thead tr:last-of-type th {\n",
              "        text-align: right;\n",
              "    }\n",
              "</style>\n",
              "<table border=\"1\" class=\"dataframe\">\n",
              "  <thead>\n",
              "    <tr>\n",
              "      <th></th>\n",
              "      <th colspan=\"3\" halign=\"left\">ln_BS_Score</th>\n",
              "    </tr>\n",
              "    <tr>\n",
              "      <th></th>\n",
              "      <th>mean</th>\n",
              "      <th>std</th>\n",
              "      <th>count</th>\n",
              "    </tr>\n",
              "    <tr>\n",
              "      <th>曾國外消費</th>\n",
              "      <th></th>\n",
              "      <th></th>\n",
              "      <th></th>\n",
              "    </tr>\n",
              "  </thead>\n",
              "  <tbody>\n",
              "    <tr>\n",
              "      <th>False</th>\n",
              "      <td>-0.165510</td>\n",
              "      <td>0.981020</td>\n",
              "      <td>77</td>\n",
              "    </tr>\n",
              "    <tr>\n",
              "      <th>True</th>\n",
              "      <td>0.657195</td>\n",
              "      <td>0.733822</td>\n",
              "      <td>22</td>\n",
              "    </tr>\n",
              "  </tbody>\n",
              "</table>\n",
              "</div>"
            ],
            "text/plain": [
              "      ln_BS_Score                \n",
              "             mean       std count\n",
              "曾國外消費                            \n",
              "False   -0.165510  0.981020    77\n",
              "True     0.657195  0.733822    22"
            ]
          },
          "metadata": {
            "tags": []
          }
        },
        {
          "output_type": "stream",
          "text": [
            "F statistics is 13.30\n",
            "Pvalue is 0.00\n"
          ],
          "name": "stdout"
        },
        {
          "output_type": "display_data",
          "data": {
            "image/png": "[encoded data removed]",
            "text/plain": [
              "<Figure size 432x288 with 1 Axes>"
            ]
          },
          "metadata": {
            "tags": []
          }
        }
      ]
    },
    {
      "cell_type": "code",
      "metadata": {
        "colab": {
          "base_uri": "https://localhost:8080/",
          "height": 475
        },
        "id": "7_Od6S4ltJaI",
        "outputId": "7b47504b-46bd-4db5-8624-340f9c462672"
      },
      "source": [
        "f_test(y_var='CAI', x_var='曾國外消費')"
      ],
      "execution_count": null,
      "outputs": [
        {
          "output_type": "display_data",
          "data": {
            "text/html": [
              "<div>\n",
              "<style scoped>\n",
              "    .dataframe tbody tr th:only-of-type {\n",
              "        vertical-align: middle;\n",
              "    }\n",
              "\n",
              "    .dataframe tbody tr th {\n",
              "        vertical-align: top;\n",
              "    }\n",
              "\n",
              "    .dataframe thead tr th {\n",
              "        text-align: left;\n",
              "    }\n",
              "\n",
              "    .dataframe thead tr:last-of-type th {\n",
              "        text-align: right;\n",
              "    }\n",
              "</style>\n",
              "<table border=\"1\" class=\"dataframe\">\n",
              "  <thead>\n",
              "    <tr>\n",
              "      <th></th>\n",
              "      <th colspan=\"3\" halign=\"left\">CAI</th>\n",
              "    </tr>\n",
              "    <tr>\n",
              "      <th></th>\n",
              "      <th>mean</th>\n",
              "      <th>std</th>\n",
              "      <th>count</th>\n",
              "    </tr>\n",
              "    <tr>\n",
              "      <th>曾國外消費</th>\n",
              "      <th></th>\n",
              "      <th></th>\n",
              "      <th></th>\n",
              "    </tr>\n",
              "  </thead>\n",
              "  <tbody>\n",
              "    <tr>\n",
              "      <th>False</th>\n",
              "      <td>0.076161</td>\n",
              "      <td>1.025137</td>\n",
              "      <td>77</td>\n",
              "    </tr>\n",
              "    <tr>\n",
              "      <th>True</th>\n",
              "      <td>-0.266563</td>\n",
              "      <td>0.876175</td>\n",
              "      <td>22</td>\n",
              "    </tr>\n",
              "  </tbody>\n",
              "</table>\n",
              "</div>"
            ],
            "text/plain": [
              "            CAI                \n",
              "           mean       std count\n",
              "曾國外消費                          \n",
              "False  0.076161  1.025137    77\n",
              "True  -0.266563  0.876175    22"
            ]
          },
          "metadata": {
            "tags": []
          }
        },
        {
          "output_type": "stream",
          "text": [
            "F statistics is 2.03\n",
            "Pvalue is 0.16\n"
          ],
          "name": "stdout"
        },
        {
          "output_type": "display_data",
          "data": {
            "image/png": "[encoded data removed]",
            "text/plain": [
              "<Figure size 432x288 with 1 Axes>"
            ]
          },
          "metadata": {
            "tags": []
          }
        }
      ]
    },
    {
      "cell_type": "markdown",
      "metadata": {
        "id": "h0M_yWecf127"
      },
      "source": [
        "## **Industry_Test**"
      ]
    },
    {
      "cell_type": "code",
      "metadata": {
        "colab": {
          "base_uri": "https://localhost:8080/",
          "height": 847
        },
        "id": "440e0wN7f13P",
        "outputId": "978121c6-2e92-4b7d-9355-119a916cfeed"
      },
      "source": [
        "f_test(y_var='ln_BS_Score', x_var='最常消費產業')"
      ],
      "execution_count": null,
      "outputs": [
        {
          "output_type": "display_data",
          "data": {
            "text/html": [
              "<div>\n",
              "<style scoped>\n",
              "    .dataframe tbody tr th:only-of-type {\n",
              "        vertical-align: middle;\n",
              "    }\n",
              "\n",
              "    .dataframe tbody tr th {\n",
              "        vertical-align: top;\n",
              "    }\n",
              "\n",
              "    .dataframe thead tr th {\n",
              "        text-align: left;\n",
              "    }\n",
              "\n",
              "    .dataframe thead tr:last-of-type th {\n",
              "        text-align: right;\n",
              "    }\n",
              "</style>\n",
              "<table border=\"1\" class=\"dataframe\">\n",
              "  <thead>\n",
              "    <tr>\n",
              "      <th></th>\n",
              "      <th colspan=\"3\" halign=\"left\">ln_BS_Score</th>\n",
              "    </tr>\n",
              "    <tr>\n",
              "      <th></th>\n",
              "      <th>mean</th>\n",
              "      <th>std</th>\n",
              "      <th>count</th>\n",
              "    </tr>\n",
              "    <tr>\n",
              "      <th>最常消費產業</th>\n",
              "      <th></th>\n",
              "      <th></th>\n",
              "      <th></th>\n",
              "    </tr>\n",
              "  </thead>\n",
              "  <tbody>\n",
              "    <tr>\n",
              "      <th>02_學費/教育</th>\n",
              "      <td>0.146495</td>\n",
              "      <td>0.129419</td>\n",
              "      <td>2</td>\n",
              "    </tr>\n",
              "    <tr>\n",
              "      <th>03_保險</th>\n",
              "      <td>0.936321</td>\n",
              "      <td>0.571021</td>\n",
              "      <td>3</td>\n",
              "    </tr>\n",
              "    <tr>\n",
              "      <th>06_公用事業</th>\n",
              "      <td>1.301158</td>\n",
              "      <td>1.963446</td>\n",
              "      <td>2</td>\n",
              "    </tr>\n",
              "    <tr>\n",
              "      <th>07_百貨</th>\n",
              "      <td>-0.275433</td>\n",
              "      <td>1.360810</td>\n",
              "      <td>14</td>\n",
              "    </tr>\n",
              "    <tr>\n",
              "      <th>08_精品</th>\n",
              "      <td>-1.221931</td>\n",
              "      <td>NaN</td>\n",
              "      <td>1</td>\n",
              "    </tr>\n",
              "    <tr>\n",
              "      <th>09_餐飲</th>\n",
              "      <td>1.586477</td>\n",
              "      <td>NaN</td>\n",
              "      <td>1</td>\n",
              "    </tr>\n",
              "    <tr>\n",
              "      <th>10_藥妝</th>\n",
              "      <td>0.155343</td>\n",
              "      <td>0.539873</td>\n",
              "      <td>2</td>\n",
              "    </tr>\n",
              "    <tr>\n",
              "      <th>11_3C居家電信</th>\n",
              "      <td>0.073755</td>\n",
              "      <td>0.769347</td>\n",
              "      <td>12</td>\n",
              "    </tr>\n",
              "    <tr>\n",
              "      <th>12_量販超市</th>\n",
              "      <td>-0.270625</td>\n",
              "      <td>1.011053</td>\n",
              "      <td>25</td>\n",
              "    </tr>\n",
              "    <tr>\n",
              "      <th>13_交通(含加值)</th>\n",
              "      <td>0.183903</td>\n",
              "      <td>0.737172</td>\n",
              "      <td>15</td>\n",
              "    </tr>\n",
              "    <tr>\n",
              "      <th>14_旅遊</th>\n",
              "      <td>0.234655</td>\n",
              "      <td>0.827787</td>\n",
              "      <td>15</td>\n",
              "    </tr>\n",
              "    <tr>\n",
              "      <th>15_休閒文化</th>\n",
              "      <td>-0.554896</td>\n",
              "      <td>1.304812</td>\n",
              "      <td>3</td>\n",
              "    </tr>\n",
              "    <tr>\n",
              "      <th>16_無店舖</th>\n",
              "      <td>0.139902</td>\n",
              "      <td>0.254847</td>\n",
              "      <td>3</td>\n",
              "    </tr>\n",
              "    <tr>\n",
              "      <th>X2.中信錢加值</th>\n",
              "      <td>0.037753</td>\n",
              "      <td>NaN</td>\n",
              "      <td>1</td>\n",
              "    </tr>\n",
              "  </tbody>\n",
              "</table>\n",
              "</div>"
            ],
            "text/plain": [
              "           ln_BS_Score                \n",
              "                  mean       std count\n",
              "最常消費產業                                \n",
              "02_學費/教育      0.146495  0.129419     2\n",
              "03_保險         0.936321  0.571021     3\n",
              "06_公用事業       1.301158  1.963446     2\n",
              "07_百貨        -0.275433  1.360810    14\n",
              "08_精品        -1.221931       NaN     1\n",
              "09_餐飲         1.586477       NaN     1\n",
              "10_藥妝         0.155343  0.539873     2\n",
              "11_3C居家電信     0.073755  0.769347    12\n",
              "12_量販超市      -0.270625  1.011053    25\n",
              "13_交通(含加值)    0.183903  0.737172    15\n",
              "14_旅遊         0.234655  0.827787    15\n",
              "15_休閒文化      -0.554896  1.304812     3\n",
              "16_無店舖        0.139902  0.254847     3\n",
              "X2.中信錢加值      0.037753       NaN     1"
            ]
          },
          "metadata": {
            "tags": []
          }
        },
        {
          "output_type": "stream",
          "text": [
            "F statistics is 1.25\n",
            "Pvalue is 0.26\n"
          ],
          "name": "stdout"
        },
        {
          "output_type": "display_data",
          "data": {
            "image/png": "[encoded data removed]",
            "text/plain": [
              "<Figure size 432x288 with 1 Axes>"
            ]
          },
          "metadata": {
            "tags": []
          }
        }
      ]
    },
    {
      "cell_type": "code",
      "metadata": {
        "colab": {
          "base_uri": "https://localhost:8080/"
        },
        "id": "xWxRrwCxtP-b",
        "outputId": "58bb9297-9a4a-4b00-b8a0-beb0915adab5"
      },
      "source": [
        "f_test(y_var='CAI', x_var='最常消費產業')"
      ],
      "execution_count": null,
      "outputs": [
        {
          "output_type": "display_data",
          "data": {
            "text/html": [
              "<div>\n",
              "<style scoped>\n",
              "    .dataframe tbody tr th:only-of-type {\n",
              "        vertical-align: middle;\n",
              "    }\n",
              "\n",
              "    .dataframe tbody tr th {\n",
              "        vertical-align: top;\n",
              "    }\n",
              "\n",
              "    .dataframe thead tr th {\n",
              "        text-align: left;\n",
              "    }\n",
              "\n",
              "    .dataframe thead tr:last-of-type th {\n",
              "        text-align: right;\n",
              "    }\n",
              "</style>\n",
              "<table border=\"1\" class=\"dataframe\">\n",
              "  <thead>\n",
              "    <tr>\n",
              "      <th></th>\n",
              "      <th colspan=\"3\" halign=\"left\">CAI</th>\n",
              "    </tr>\n",
              "    <tr>\n",
              "      <th></th>\n",
              "      <th>mean</th>\n",
              "      <th>std</th>\n",
              "      <th>count</th>\n",
              "    </tr>\n",
              "    <tr>\n",
              "      <th>最常消費產業</th>\n",
              "      <th></th>\n",
              "      <th></th>\n",
              "      <th></th>\n",
              "    </tr>\n",
              "  </thead>\n",
              "  <tbody>\n",
              "    <tr>\n",
              "      <th>02_學費/教育</th>\n",
              "      <td>0.728810</td>\n",
              "      <td>1.482739</td>\n",
              "      <td>2</td>\n",
              "    </tr>\n",
              "    <tr>\n",
              "      <th>03_保險</th>\n",
              "      <td>0.086059</td>\n",
              "      <td>0.323993</td>\n",
              "      <td>3</td>\n",
              "    </tr>\n",
              "    <tr>\n",
              "      <th>06_公用事業</th>\n",
              "      <td>0.083557</td>\n",
              "      <td>0.096592</td>\n",
              "      <td>2</td>\n",
              "    </tr>\n",
              "    <tr>\n",
              "      <th>07_百貨</th>\n",
              "      <td>0.120446</td>\n",
              "      <td>0.928394</td>\n",
              "      <td>14</td>\n",
              "    </tr>\n",
              "    <tr>\n",
              "      <th>08_精品</th>\n",
              "      <td>-0.437831</td>\n",
              "      <td>NaN</td>\n",
              "      <td>1</td>\n",
              "    </tr>\n",
              "    <tr>\n",
              "      <th>09_餐飲</th>\n",
              "      <td>-0.596950</td>\n",
              "      <td>NaN</td>\n",
              "      <td>1</td>\n",
              "    </tr>\n",
              "    <tr>\n",
              "      <th>10_藥妝</th>\n",
              "      <td>0.653734</td>\n",
              "      <td>0.414323</td>\n",
              "      <td>2</td>\n",
              "    </tr>\n",
              "    <tr>\n",
              "      <th>11_3C居家電信</th>\n",
              "      <td>0.141071</td>\n",
              "      <td>0.896499</td>\n",
              "      <td>12</td>\n",
              "    </tr>\n",
              "    <tr>\n",
              "      <th>12_量販超市</th>\n",
              "      <td>0.083979</td>\n",
              "      <td>1.162876</td>\n",
              "      <td>25</td>\n",
              "    </tr>\n",
              "    <tr>\n",
              "      <th>13_交通(含加值)</th>\n",
              "      <td>0.274137</td>\n",
              "      <td>1.045301</td>\n",
              "      <td>15</td>\n",
              "    </tr>\n",
              "    <tr>\n",
              "      <th>14_旅遊</th>\n",
              "      <td>-0.257242</td>\n",
              "      <td>0.828147</td>\n",
              "      <td>15</td>\n",
              "    </tr>\n",
              "    <tr>\n",
              "      <th>15_休閒文化</th>\n",
              "      <td>-0.553904</td>\n",
              "      <td>0.235832</td>\n",
              "      <td>3</td>\n",
              "    </tr>\n",
              "    <tr>\n",
              "      <th>16_無店舖</th>\n",
              "      <td>-1.199090</td>\n",
              "      <td>0.508537</td>\n",
              "      <td>3</td>\n",
              "    </tr>\n",
              "    <tr>\n",
              "      <th>X2.中信錢加值</th>\n",
              "      <td>-2.628617</td>\n",
              "      <td>NaN</td>\n",
              "      <td>1</td>\n",
              "    </tr>\n",
              "  </tbody>\n",
              "</table>\n",
              "</div>"
            ],
            "text/plain": [
              "                 CAI                \n",
              "                mean       std count\n",
              "最常消費產業                              \n",
              "02_學費/教育    0.728810  1.482739     2\n",
              "03_保險       0.086059  0.323993     3\n",
              "06_公用事業     0.083557  0.096592     2\n",
              "07_百貨       0.120446  0.928394    14\n",
              "08_精品      -0.437831       NaN     1\n",
              "09_餐飲      -0.596950       NaN     1\n",
              "10_藥妝       0.653734  0.414323     2\n",
              "11_3C居家電信   0.141071  0.896499    12\n",
              "12_量販超市     0.083979  1.162876    25\n",
              "13_交通(含加值)  0.274137  1.045301    15\n",
              "14_旅遊      -0.257242  0.828147    15\n",
              "15_休閒文化    -0.553904  0.235832     3\n",
              "16_無店舖     -1.199090  0.508537     3\n",
              "X2.中信錢加值   -2.628617       NaN     1"
            ]
          },
          "metadata": {
            "tags": []
          }
        },
        {
          "output_type": "stream",
          "text": [
            "F statistics is 1.41\n",
            "Pvalue is 0.17\n"
          ],
          "name": "stdout"
        },
        {
          "output_type": "display_data",
          "data": {
            "text/html": [
              "<table class=\"simpletable\">\n",
              "<caption>Multiple Comparison of Means - Tukey HSD, FWER=0.20</caption>\n",
              "<tr>\n",
              "    <th>group1</th>     <th>group2</th>   <th>meandiff</th>  <th>p-adj</th>  <th>lower</th>   <th>upper</th> <th>reject</th>\n",
              "</tr>\n",
              "<tr>\n",
              "   <td>02_學費/教育</td>     <td>03_保險</td>    <td>-0.6428</td>   <td>0.9</td>  <td>-3.2178</td> <td>1.9323</td>  <td>False</td>\n",
              "</tr>\n",
              "<tr>\n",
              "   <td>02_學費/教育</td>    <td>06_公用事業</td>   <td>-0.6453</td>   <td>0.9</td>  <td>-3.4661</td> <td>2.1756</td>  <td>False</td>\n",
              "</tr>\n",
              "<tr>\n",
              "   <td>02_學費/教育</td>     <td>07_百貨</td>    <td>-0.6084</td>   <td>0.9</td>  <td>-2.7407</td>  <td>1.524</td>  <td>False</td>\n",
              "</tr>\n",
              "<tr>\n",
              "   <td>02_學費/教育</td>     <td>08_精品</td>    <td>-1.1666</td>   <td>0.9</td>  <td>-4.6214</td> <td>2.2881</td>  <td>False</td>\n",
              "</tr>\n",
              "<tr>\n",
              "   <td>02_學費/教育</td>     <td>09_餐飲</td>    <td>-1.3258</td>   <td>0.9</td>  <td>-4.7805</td>  <td>2.129</td>  <td>False</td>\n",
              "</tr>\n",
              "<tr>\n",
              "   <td>02_學費/教育</td>     <td>10_藥妝</td>    <td>-0.0751</td>   <td>0.9</td>  <td>-2.8959</td> <td>2.7457</td>  <td>False</td>\n",
              "</tr>\n",
              "<tr>\n",
              "   <td>02_學費/教育</td>   <td>11_3C居家電信</td>  <td>-0.5877</td>   <td>0.9</td>  <td>-2.7422</td> <td>1.5667</td>  <td>False</td>\n",
              "</tr>\n",
              "<tr>\n",
              "   <td>02_學費/教育</td>    <td>12_量販超市</td>   <td>-0.6448</td>   <td>0.9</td>  <td>-2.7177</td>  <td>1.428</td>  <td>False</td>\n",
              "</tr>\n",
              "<tr>\n",
              "   <td>02_學費/教育</td>  <td>13_交通(含加值)</td>  <td>-0.4547</td>   <td>0.9</td>  <td>-2.5781</td> <td>1.6688</td>  <td>False</td>\n",
              "</tr>\n",
              "<tr>\n",
              "   <td>02_學費/教育</td>     <td>14_旅遊</td>    <td>-0.9861</td>   <td>0.9</td>  <td>-3.1095</td> <td>1.1374</td>  <td>False</td>\n",
              "</tr>\n",
              "<tr>\n",
              "   <td>02_學費/教育</td>    <td>15_休閒文化</td>   <td>-1.2827</td>   <td>0.9</td>  <td>-3.8577</td> <td>1.2923</td>  <td>False</td>\n",
              "</tr>\n",
              "<tr>\n",
              "   <td>02_學費/教育</td>    <td>16_無店舖</td>    <td>-1.9279</td> <td>0.6321</td> <td>-4.5029</td> <td>0.6471</td>  <td>False</td>\n",
              "</tr>\n",
              "<tr>\n",
              "   <td>02_學費/教育</td>   <td>X2.中信錢加值</td>   <td>-3.3574</td> <td>0.2375</td> <td>-6.8122</td> <td>0.0973</td>  <td>False</td>\n",
              "</tr>\n",
              "<tr>\n",
              "     <td>03_保險</td>     <td>06_公用事業</td>   <td>-0.0025</td>   <td>0.9</td>  <td>-2.5775</td> <td>2.5725</td>  <td>False</td>\n",
              "</tr>\n",
              "<tr>\n",
              "     <td>03_保險</td>      <td>07_百貨</td>    <td>0.0344</td>    <td>0.9</td>  <td>-1.7602</td>  <td>1.829</td>  <td>False</td>\n",
              "</tr>\n",
              "<tr>\n",
              "     <td>03_保險</td>      <td>08_精品</td>    <td>-0.5239</td>   <td>0.9</td>  <td>-3.7811</td> <td>2.7333</td>  <td>False</td>\n",
              "</tr>\n",
              "<tr>\n",
              "     <td>03_保險</td>      <td>09_餐飲</td>    <td>-0.683</td>    <td>0.9</td>  <td>-3.9402</td> <td>2.5742</td>  <td>False</td>\n",
              "</tr>\n",
              "<tr>\n",
              "     <td>03_保險</td>      <td>10_藥妝</td>    <td>0.5677</td>    <td>0.9</td>  <td>-2.0074</td> <td>3.1427</td>  <td>False</td>\n",
              "</tr>\n",
              "<tr>\n",
              "     <td>03_保險</td>    <td>11_3C居家電信</td>   <td>0.055</td>    <td>0.9</td>  <td>-1.7658</td> <td>1.8758</td>  <td>False</td>\n",
              "</tr>\n",
              "<tr>\n",
              "     <td>03_保險</td>     <td>12_量販超市</td>   <td>-0.0021</td>   <td>0.9</td>  <td>-1.7256</td> <td>1.7215</td>  <td>False</td>\n",
              "</tr>\n",
              "<tr>\n",
              "     <td>03_保險</td>   <td>13_交通(含加值)</td>  <td>0.1881</td>    <td>0.9</td>  <td>-1.596</td>  <td>1.9721</td>  <td>False</td>\n",
              "</tr>\n",
              "<tr>\n",
              "     <td>03_保險</td>      <td>14_旅遊</td>    <td>-0.3433</td>   <td>0.9</td>  <td>-2.1273</td> <td>1.4407</td>  <td>False</td>\n",
              "</tr>\n",
              "<tr>\n",
              "     <td>03_保險</td>     <td>15_休閒文化</td>    <td>-0.64</td>    <td>0.9</td>  <td>-2.9431</td> <td>1.6632</td>  <td>False</td>\n",
              "</tr>\n",
              "<tr>\n",
              "     <td>03_保險</td>     <td>16_無店舖</td>    <td>-1.2851</td>   <td>0.9</td>  <td>-3.5883</td>  <td>1.018</td>  <td>False</td>\n",
              "</tr>\n",
              "<tr>\n",
              "     <td>03_保險</td>    <td>X2.中信錢加值</td>   <td>-2.7147</td> <td>0.4814</td> <td>-5.9719</td> <td>0.5425</td>  <td>False</td>\n",
              "</tr>\n",
              "<tr>\n",
              "    <td>06_公用事業</td>     <td>07_百貨</td>    <td>0.0369</td>    <td>0.9</td>  <td>-2.0954</td> <td>2.1692</td>  <td>False</td>\n",
              "</tr>\n",
              "<tr>\n",
              "    <td>06_公用事業</td>     <td>08_精品</td>    <td>-0.5214</td>   <td>0.9</td>  <td>-3.9762</td> <td>2.9334</td>  <td>False</td>\n",
              "</tr>\n",
              "<tr>\n",
              "    <td>06_公用事業</td>     <td>09_餐飲</td>    <td>-0.6805</td>   <td>0.9</td>  <td>-4.1353</td> <td>2.7743</td>  <td>False</td>\n",
              "</tr>\n",
              "<tr>\n",
              "    <td>06_公用事業</td>     <td>10_藥妝</td>    <td>0.5702</td>    <td>0.9</td>  <td>-2.2506</td>  <td>3.391</td>  <td>False</td>\n",
              "</tr>\n",
              "<tr>\n",
              "    <td>06_公用事業</td>   <td>11_3C居家電信</td>  <td>0.0575</td>    <td>0.9</td>  <td>-2.0969</td> <td>2.2119</td>  <td>False</td>\n",
              "</tr>\n",
              "<tr>\n",
              "    <td>06_公用事業</td>    <td>12_量販超市</td>   <td>0.0004</td>    <td>0.9</td>  <td>-2.0724</td> <td>2.0733</td>  <td>False</td>\n",
              "</tr>\n",
              "<tr>\n",
              "    <td>06_公用事業</td>  <td>13_交通(含加值)</td>  <td>0.1906</td>    <td>0.9</td>  <td>-1.9328</td>  <td>2.314</td>  <td>False</td>\n",
              "</tr>\n",
              "<tr>\n",
              "    <td>06_公用事業</td>     <td>14_旅遊</td>    <td>-0.3408</td>   <td>0.9</td>  <td>-2.4642</td> <td>1.7826</td>  <td>False</td>\n",
              "</tr>\n",
              "<tr>\n",
              "    <td>06_公用事業</td>    <td>15_休閒文化</td>   <td>-0.6375</td>   <td>0.9</td>  <td>-3.2125</td> <td>1.9376</td>  <td>False</td>\n",
              "</tr>\n",
              "<tr>\n",
              "    <td>06_公用事業</td>    <td>16_無店舖</td>    <td>-1.2826</td>   <td>0.9</td>  <td>-3.8577</td> <td>1.2924</td>  <td>False</td>\n",
              "</tr>\n",
              "<tr>\n",
              "    <td>06_公用事業</td>   <td>X2.中信錢加值</td>   <td>-2.7122</td> <td>0.5676</td> <td>-6.1669</td> <td>0.7426</td>  <td>False</td>\n",
              "</tr>\n",
              "<tr>\n",
              "     <td>07_百貨</td>      <td>08_精品</td>    <td>-0.5583</td>   <td>0.9</td>  <td>-3.4781</td> <td>2.3615</td>  <td>False</td>\n",
              "</tr>\n",
              "<tr>\n",
              "     <td>07_百貨</td>      <td>09_餐飲</td>    <td>-0.7174</td>   <td>0.9</td>  <td>-3.6372</td> <td>2.2024</td>  <td>False</td>\n",
              "</tr>\n",
              "<tr>\n",
              "     <td>07_百貨</td>      <td>10_藥妝</td>    <td>0.5333</td>    <td>0.9</td>  <td>-1.599</td>  <td>2.6656</td>  <td>False</td>\n",
              "</tr>\n",
              "<tr>\n",
              "     <td>07_百貨</td>    <td>11_3C居家電信</td>  <td>0.0206</td>    <td>0.9</td>  <td>-1.0891</td> <td>1.1303</td>  <td>False</td>\n",
              "</tr>\n",
              "<tr>\n",
              "     <td>07_百貨</td>     <td>12_量販超市</td>   <td>-0.0365</td>   <td>0.9</td>  <td>-0.9781</td> <td>0.9051</td>  <td>False</td>\n",
              "</tr>\n",
              "<tr>\n",
              "     <td>07_百貨</td>   <td>13_交通(含加值)</td>  <td>0.1537</td>    <td>0.9</td>  <td>-0.8946</td> <td>1.2019</td>  <td>False</td>\n",
              "</tr>\n",
              "<tr>\n",
              "     <td>07_百貨</td>      <td>14_旅遊</td>    <td>-0.3777</td>   <td>0.9</td>  <td>-1.4259</td> <td>0.6706</td>  <td>False</td>\n",
              "</tr>\n",
              "<tr>\n",
              "     <td>07_百貨</td>     <td>15_休閒文化</td>   <td>-0.6744</td>   <td>0.9</td>  <td>-2.469</td>  <td>1.1203</td>  <td>False</td>\n",
              "</tr>\n",
              "<tr>\n",
              "     <td>07_百貨</td>     <td>16_無店舖</td>    <td>-1.3195</td> <td>0.6558</td> <td>-3.1142</td> <td>0.4751</td>  <td>False</td>\n",
              "</tr>\n",
              "<tr>\n",
              "     <td>07_百貨</td>    <td>X2.中信錢加值</td>   <td>-2.7491</td> <td>0.2828</td> <td>-5.6689</td> <td>0.1707</td>  <td>False</td>\n",
              "</tr>\n",
              "<tr>\n",
              "     <td>08_精品</td>      <td>09_餐飲</td>    <td>-0.1591</td>   <td>0.9</td>  <td>-4.1483</td> <td>3.8301</td>  <td>False</td>\n",
              "</tr>\n",
              "<tr>\n",
              "     <td>08_精品</td>      <td>10_藥妝</td>    <td>1.0916</td>    <td>0.9</td>  <td>-2.3632</td> <td>4.5463</td>  <td>False</td>\n",
              "</tr>\n",
              "<tr>\n",
              "     <td>08_精品</td>    <td>11_3C居家電信</td>  <td>0.5789</td>    <td>0.9</td>  <td>-2.3571</td> <td>3.5149</td>  <td>False</td>\n",
              "</tr>\n",
              "<tr>\n",
              "     <td>08_精品</td>     <td>12_量販超市</td>   <td>0.5218</td>    <td>0.9</td>  <td>-2.3549</td> <td>3.3985</td>  <td>False</td>\n",
              "</tr>\n",
              "<tr>\n",
              "     <td>08_精品</td>   <td>13_交通(含加值)</td>   <td>0.712</td>    <td>0.9</td>  <td>-2.2013</td> <td>3.6253</td>  <td>False</td>\n",
              "</tr>\n",
              "<tr>\n",
              "     <td>08_精品</td>      <td>14_旅遊</td>    <td>0.1806</td>    <td>0.9</td>  <td>-2.7327</td> <td>3.0939</td>  <td>False</td>\n",
              "</tr>\n",
              "<tr>\n",
              "     <td>08_精品</td>     <td>15_休閒文化</td>   <td>-0.1161</td>   <td>0.9</td>  <td>-3.3733</td> <td>3.1411</td>  <td>False</td>\n",
              "</tr>\n",
              "<tr>\n",
              "     <td>08_精品</td>     <td>16_無店舖</td>    <td>-0.7613</td>   <td>0.9</td>  <td>-4.0184</td> <td>2.4959</td>  <td>False</td>\n",
              "</tr>\n",
              "<tr>\n",
              "     <td>08_精品</td>    <td>X2.中信錢加值</td>   <td>-2.1908</td>   <td>0.9</td>   <td>-6.18</td>  <td>1.7984</td>  <td>False</td>\n",
              "</tr>\n",
              "<tr>\n",
              "     <td>09_餐飲</td>      <td>10_藥妝</td>    <td>1.2507</td>    <td>0.9</td>  <td>-2.2041</td> <td>4.7055</td>  <td>False</td>\n",
              "</tr>\n",
              "<tr>\n",
              "     <td>09_餐飲</td>    <td>11_3C居家電信</td>   <td>0.738</td>    <td>0.9</td>  <td>-2.198</td>   <td>3.674</td>  <td>False</td>\n",
              "</tr>\n",
              "<tr>\n",
              "     <td>09_餐飲</td>     <td>12_量販超市</td>   <td>0.6809</td>    <td>0.9</td>  <td>-2.1957</td> <td>3.5576</td>  <td>False</td>\n",
              "</tr>\n",
              "<tr>\n",
              "     <td>09_餐飲</td>   <td>13_交通(含加值)</td>  <td>0.8711</td>    <td>0.9</td>  <td>-2.0422</td> <td>3.7844</td>  <td>False</td>\n",
              "</tr>\n",
              "<tr>\n",
              "     <td>09_餐飲</td>      <td>14_旅遊</td>    <td>0.3397</td>    <td>0.9</td>  <td>-2.5736</td>  <td>3.253</td>  <td>False</td>\n",
              "</tr>\n",
              "<tr>\n",
              "     <td>09_餐飲</td>     <td>15_休閒文化</td>    <td>0.043</td>    <td>0.9</td>  <td>-3.2141</td> <td>3.3002</td>  <td>False</td>\n",
              "</tr>\n",
              "<tr>\n",
              "     <td>09_餐飲</td>     <td>16_無店舖</td>    <td>-0.6021</td>   <td>0.9</td>  <td>-3.8593</td>  <td>2.655</td>  <td>False</td>\n",
              "</tr>\n",
              "<tr>\n",
              "     <td>09_餐飲</td>    <td>X2.中信錢加值</td>   <td>-2.0317</td>   <td>0.9</td>  <td>-6.0209</td> <td>1.9576</td>  <td>False</td>\n",
              "</tr>\n",
              "<tr>\n",
              "     <td>10_藥妝</td>    <td>11_3C居家電信</td>  <td>-0.5127</td>   <td>0.9</td>  <td>-2.6671</td> <td>1.6418</td>  <td>False</td>\n",
              "</tr>\n",
              "<tr>\n",
              "     <td>10_藥妝</td>     <td>12_量販超市</td>   <td>-0.5698</td>   <td>0.9</td>  <td>-2.6426</td> <td>1.5031</td>  <td>False</td>\n",
              "</tr>\n",
              "<tr>\n",
              "     <td>10_藥妝</td>   <td>13_交通(含加值)</td>  <td>-0.3796</td>   <td>0.9</td>  <td>-2.503</td>  <td>1.7438</td>  <td>False</td>\n",
              "</tr>\n",
              "<tr>\n",
              "     <td>10_藥妝</td>      <td>14_旅遊</td>    <td>-0.911</td>    <td>0.9</td>  <td>-3.0344</td> <td>1.2124</td>  <td>False</td>\n",
              "</tr>\n",
              "<tr>\n",
              "     <td>10_藥妝</td>     <td>15_休閒文化</td>   <td>-1.2076</td>   <td>0.9</td>  <td>-3.7827</td> <td>1.3674</td>  <td>False</td>\n",
              "</tr>\n",
              "<tr>\n",
              "     <td>10_藥妝</td>     <td>16_無店舖</td>    <td>-1.8528</td> <td>0.6837</td> <td>-4.4279</td> <td>0.7222</td>  <td>False</td>\n",
              "</tr>\n",
              "<tr>\n",
              "     <td>10_藥妝</td>    <td>X2.中信錢加值</td>   <td>-3.2824</td> <td>0.2694</td> <td>-6.7371</td> <td>0.1724</td>  <td>False</td>\n",
              "</tr>\n",
              "<tr>\n",
              "   <td>11_3C居家電信</td>   <td>12_量販超市</td>   <td>-0.0571</td>   <td>0.9</td>  <td>-1.0477</td> <td>0.9335</td>  <td>False</td>\n",
              "</tr>\n",
              "<tr>\n",
              "   <td>11_3C居家電信</td> <td>13_交通(含加值)</td>  <td>0.1331</td>    <td>0.9</td>  <td>-0.9594</td> <td>1.2256</td>  <td>False</td>\n",
              "</tr>\n",
              "<tr>\n",
              "   <td>11_3C居家電信</td>    <td>14_旅遊</td>    <td>-0.3983</td>   <td>0.9</td>  <td>-1.4908</td> <td>0.6942</td>  <td>False</td>\n",
              "</tr>\n",
              "<tr>\n",
              "   <td>11_3C居家電信</td>   <td>15_休閒文化</td>   <td>-0.695</td>    <td>0.9</td>  <td>-2.5158</td> <td>1.1258</td>  <td>False</td>\n",
              "</tr>\n",
              "<tr>\n",
              "   <td>11_3C居家電信</td>   <td>16_無店舖</td>    <td>-1.3402</td> <td>0.6545</td> <td>-3.161</td>  <td>0.4807</td>  <td>False</td>\n",
              "</tr>\n",
              "<tr>\n",
              "   <td>11_3C居家電信</td>  <td>X2.中信錢加值</td>   <td>-2.7697</td> <td>0.2799</td> <td>-5.7057</td> <td>0.1663</td>  <td>False</td>\n",
              "</tr>\n",
              "<tr>\n",
              "    <td>12_量販超市</td>  <td>13_交通(含加值)</td>  <td>0.1902</td>    <td>0.9</td>  <td>-0.7311</td> <td>1.1114</td>  <td>False</td>\n",
              "</tr>\n",
              "<tr>\n",
              "    <td>12_量販超市</td>     <td>14_旅遊</td>    <td>-0.3412</td>   <td>0.9</td>  <td>-1.2625</td>  <td>0.58</td>   <td>False</td>\n",
              "</tr>\n",
              "<tr>\n",
              "    <td>12_量販超市</td>    <td>15_休閒文化</td>   <td>-0.6379</td>   <td>0.9</td>  <td>-2.3614</td> <td>1.0857</td>  <td>False</td>\n",
              "</tr>\n",
              "<tr>\n",
              "    <td>12_量販超市</td>    <td>16_無店舖</td>    <td>-1.2831</td> <td>0.6396</td> <td>-3.0066</td> <td>0.4405</td>  <td>False</td>\n",
              "</tr>\n",
              "<tr>\n",
              "    <td>12_量販超市</td>   <td>X2.中信錢加值</td>   <td>-2.7126</td> <td>0.2806</td> <td>-5.5893</td> <td>0.1641</td>  <td>False</td>\n",
              "</tr>\n",
              "<tr>\n",
              "  <td>13_交通(含加值)</td>    <td>14_旅遊</td>    <td>-0.5314</td>   <td>0.9</td>  <td>-1.5614</td> <td>0.4986</td>  <td>False</td>\n",
              "</tr>\n",
              "<tr>\n",
              "  <td>13_交通(含加值)</td>   <td>15_休閒文化</td>   <td>-0.828</td>    <td>0.9</td>  <td>-2.6121</td>  <td>0.956</td>  <td>False</td>\n",
              "</tr>\n",
              "<tr>\n",
              "  <td>13_交通(含加值)</td>   <td>16_無店舖</td>    <td>-1.4732</td> <td>0.4954</td> <td>-3.2573</td> <td>0.3108</td>  <td>False</td>\n",
              "</tr>\n",
              "<tr>\n",
              "  <td>13_交通(含加值)</td>  <td>X2.中信錢加值</td>   <td>-2.9028</td> <td>0.2046</td> <td>-5.8161</td> <td>0.0106</td>  <td>False</td>\n",
              "</tr>\n",
              "<tr>\n",
              "     <td>14_旅遊</td>     <td>15_休閒文化</td>   <td>-0.2967</td>   <td>0.9</td>  <td>-2.0807</td> <td>1.4874</td>  <td>False</td>\n",
              "</tr>\n",
              "<tr>\n",
              "     <td>14_旅遊</td>     <td>16_無店舖</td>    <td>-0.9418</td>   <td>0.9</td>  <td>-2.7259</td> <td>0.8422</td>  <td>False</td>\n",
              "</tr>\n",
              "<tr>\n",
              "     <td>14_旅遊</td>    <td>X2.中信錢加值</td>   <td>-2.3714</td> <td>0.5163</td> <td>-5.2847</td> <td>0.5419</td>  <td>False</td>\n",
              "</tr>\n",
              "<tr>\n",
              "    <td>15_休閒文化</td>    <td>16_無店舖</td>    <td>-0.6452</td>   <td>0.9</td>  <td>-2.9484</td>  <td>1.658</td>  <td>False</td>\n",
              "</tr>\n",
              "<tr>\n",
              "    <td>15_休閒文化</td>   <td>X2.中信錢加值</td>   <td>-2.0747</td> <td>0.8301</td> <td>-5.3319</td> <td>1.1825</td>  <td>False</td>\n",
              "</tr>\n",
              "<tr>\n",
              "    <td>16_無店舖</td>    <td>X2.中信錢加值</td>   <td>-1.4295</td>   <td>0.9</td>  <td>-4.6867</td> <td>1.8277</td>  <td>False</td>\n",
              "</tr>\n",
              "</table>"
            ],
            "text/plain": [
              "<class 'statsmodels.iolib.table.SimpleTable'>"
            ]
          },
          "metadata": {
            "tags": []
          }
        },
        {
          "output_type": "display_data",
          "data": {
            "image/png": "[encoded data removed]",
            "text/plain": [
              "<Figure size 432x288 with 1 Axes>"
            ]
          },
          "metadata": {
            "tags": []
          }
        }
      ]
    },
    {
      "cell_type": "markdown",
      "metadata": {
        "id": "KNSf19nCf1-q"
      },
      "source": [
        "## **Month_Test**"
      ]
    },
    {
      "cell_type": "code",
      "metadata": {
        "colab": {
          "base_uri": "https://localhost:8080/"
        },
        "id": "-e0GWyn2f1-q",
        "outputId": "3b4db6d0-a3e3-4dfa-adbc-ff0c2cd75ef8"
      },
      "source": [
        "f_test(y_var='ln_BS_Score', x_var='最常消費月時點')"
      ],
      "execution_count": null,
      "outputs": [
        {
          "output_type": "display_data",
          "data": {
            "text/html": [
              "<div>\n",
              "<style scoped>\n",
              "    .dataframe tbody tr th:only-of-type {\n",
              "        vertical-align: middle;\n",
              "    }\n",
              "\n",
              "    .dataframe tbody tr th {\n",
              "        vertical-align: top;\n",
              "    }\n",
              "\n",
              "    .dataframe thead tr th {\n",
              "        text-align: left;\n",
              "    }\n",
              "\n",
              "    .dataframe thead tr:last-of-type th {\n",
              "        text-align: right;\n",
              "    }\n",
              "</style>\n",
              "<table border=\"1\" class=\"dataframe\">\n",
              "  <thead>\n",
              "    <tr>\n",
              "      <th></th>\n",
              "      <th colspan=\"3\" halign=\"left\">ln_BS_Score</th>\n",
              "    </tr>\n",
              "    <tr>\n",
              "      <th></th>\n",
              "      <th>mean</th>\n",
              "      <th>std</th>\n",
              "      <th>count</th>\n",
              "    </tr>\n",
              "    <tr>\n",
              "      <th>最常消費月時點</th>\n",
              "      <th></th>\n",
              "      <th></th>\n",
              "      <th></th>\n",
              "    </tr>\n",
              "  </thead>\n",
              "  <tbody>\n",
              "    <tr>\n",
              "      <th>月中</th>\n",
              "      <td>0.129263</td>\n",
              "      <td>0.898611</td>\n",
              "      <td>33</td>\n",
              "    </tr>\n",
              "    <tr>\n",
              "      <th>月初</th>\n",
              "      <td>0.052727</td>\n",
              "      <td>1.153991</td>\n",
              "      <td>25</td>\n",
              "    </tr>\n",
              "    <tr>\n",
              "      <th>月底</th>\n",
              "      <td>-0.094386</td>\n",
              "      <td>0.965339</td>\n",
              "      <td>41</td>\n",
              "    </tr>\n",
              "  </tbody>\n",
              "</table>\n",
              "</div>"
            ],
            "text/plain": [
              "        ln_BS_Score                \n",
              "               mean       std count\n",
              "最常消費月時點                            \n",
              "月中         0.129263  0.898611    33\n",
              "月初         0.052727  1.153991    25\n",
              "月底        -0.094386  0.965339    41"
            ]
          },
          "metadata": {
            "tags": []
          }
        },
        {
          "output_type": "stream",
          "text": [
            "F statistics is 0.48\n",
            "Pvalue is 0.62\n"
          ],
          "name": "stdout"
        },
        {
          "output_type": "display_data",
          "data": {
            "image/png": "[encoded data removed]",
            "text/plain": [
              "<Figure size 432x288 with 1 Axes>"
            ]
          },
          "metadata": {
            "tags": []
          }
        }
      ]
    },
    {
      "cell_type": "code",
      "metadata": {
        "colab": {
          "base_uri": "https://localhost:8080/",
          "height": 428
        },
        "id": "9CLiMR-2tNWd",
        "outputId": "179ac66d-8d5e-4dcf-9e4a-ab3b59ac4fde"
      },
      "source": [
        "f_test(y_var='CAI', x_var='最常消費月時點')"
      ],
      "execution_count": null,
      "outputs": [
        {
          "output_type": "display_data",
          "data": {
            "text/html": [
              "<div>\n",
              "<style scoped>\n",
              "    .dataframe tbody tr th:only-of-type {\n",
              "        vertical-align: middle;\n",
              "    }\n",
              "\n",
              "    .dataframe tbody tr th {\n",
              "        vertical-align: top;\n",
              "    }\n",
              "\n",
              "    .dataframe thead tr th {\n",
              "        text-align: left;\n",
              "    }\n",
              "\n",
              "    .dataframe thead tr:last-of-type th {\n",
              "        text-align: right;\n",
              "    }\n",
              "</style>\n",
              "<table border=\"1\" class=\"dataframe\">\n",
              "  <thead>\n",
              "    <tr>\n",
              "      <th></th>\n",
              "      <th colspan=\"3\" halign=\"left\">CAI</th>\n",
              "    </tr>\n",
              "    <tr>\n",
              "      <th></th>\n",
              "      <th>mean</th>\n",
              "      <th>std</th>\n",
              "      <th>count</th>\n",
              "    </tr>\n",
              "    <tr>\n",
              "      <th>最常消費月時點</th>\n",
              "      <th></th>\n",
              "      <th></th>\n",
              "      <th></th>\n",
              "    </tr>\n",
              "  </thead>\n",
              "  <tbody>\n",
              "    <tr>\n",
              "      <th>月中</th>\n",
              "      <td>-0.088104</td>\n",
              "      <td>0.989597</td>\n",
              "      <td>33</td>\n",
              "    </tr>\n",
              "    <tr>\n",
              "      <th>月初</th>\n",
              "      <td>-0.181645</td>\n",
              "      <td>0.821465</td>\n",
              "      <td>25</td>\n",
              "    </tr>\n",
              "    <tr>\n",
              "      <th>月底</th>\n",
              "      <td>0.181672</td>\n",
              "      <td>1.095820</td>\n",
              "      <td>41</td>\n",
              "    </tr>\n",
              "  </tbody>\n",
              "</table>\n",
              "</div>"
            ],
            "text/plain": [
              "              CAI                \n",
              "             mean       std count\n",
              "最常消費月時點                          \n",
              "月中      -0.088104  0.989597    33\n",
              "月初      -0.181645  0.821465    25\n",
              "月底       0.181672  1.095820    41"
            ]
          },
          "metadata": {
            "tags": []
          }
        },
        {
          "output_type": "stream",
          "text": [
            "F statistics is 1.22\n",
            "Pvalue is 0.30\n"
          ],
          "name": "stdout"
        },
        {
          "output_type": "display_data",
          "data": {
            "image/png": "[encoded data removed]",
            "text/plain": [
              "<Figure size 432x288 with 1 Axes>"
            ]
          },
          "metadata": {
            "tags": []
          }
        }
      ]
    },
    {
      "cell_type": "markdown",
      "metadata": {
        "id": "EUS3lA0PmAgm"
      },
      "source": [
        "## **Weekday_Test**"
      ]
    },
    {
      "cell_type": "code",
      "metadata": {
        "colab": {
          "base_uri": "https://localhost:8080/"
        },
        "id": "KGUBLpuvmAgn",
        "outputId": "c1af2efa-ec2b-4d35-b321-bc90b3e4ffe4"
      },
      "source": [
        "f_test(y_var='ln_BS_Score', x_var='最常消費週時點')"
      ],
      "execution_count": null,
      "outputs": [
        {
          "output_type": "display_data",
          "data": {
            "text/html": [
              "<div>\n",
              "<style scoped>\n",
              "    .dataframe tbody tr th:only-of-type {\n",
              "        vertical-align: middle;\n",
              "    }\n",
              "\n",
              "    .dataframe tbody tr th {\n",
              "        vertical-align: top;\n",
              "    }\n",
              "\n",
              "    .dataframe thead tr th {\n",
              "        text-align: left;\n",
              "    }\n",
              "\n",
              "    .dataframe thead tr:last-of-type th {\n",
              "        text-align: right;\n",
              "    }\n",
              "</style>\n",
              "<table border=\"1\" class=\"dataframe\">\n",
              "  <thead>\n",
              "    <tr>\n",
              "      <th></th>\n",
              "      <th colspan=\"3\" halign=\"left\">ln_BS_Score</th>\n",
              "    </tr>\n",
              "    <tr>\n",
              "      <th></th>\n",
              "      <th>mean</th>\n",
              "      <th>std</th>\n",
              "      <th>count</th>\n",
              "    </tr>\n",
              "    <tr>\n",
              "      <th>最常消費週時點</th>\n",
              "      <th></th>\n",
              "      <th></th>\n",
              "      <th></th>\n",
              "    </tr>\n",
              "  </thead>\n",
              "  <tbody>\n",
              "    <tr>\n",
              "      <th>週一</th>\n",
              "      <td>0.272253</td>\n",
              "      <td>0.981683</td>\n",
              "      <td>46</td>\n",
              "    </tr>\n",
              "    <tr>\n",
              "      <th>週三</th>\n",
              "      <td>0.179352</td>\n",
              "      <td>0.825537</td>\n",
              "      <td>22</td>\n",
              "    </tr>\n",
              "    <tr>\n",
              "      <th>週二</th>\n",
              "      <td>-0.211267</td>\n",
              "      <td>0.895239</td>\n",
              "      <td>17</td>\n",
              "    </tr>\n",
              "    <tr>\n",
              "      <th>週五</th>\n",
              "      <td>-1.475421</td>\n",
              "      <td>0.673299</td>\n",
              "      <td>6</td>\n",
              "    </tr>\n",
              "    <tr>\n",
              "      <th>週四</th>\n",
              "      <td>-0.288912</td>\n",
              "      <td>0.818440</td>\n",
              "      <td>8</td>\n",
              "    </tr>\n",
              "  </tbody>\n",
              "</table>\n",
              "</div>"
            ],
            "text/plain": [
              "        ln_BS_Score                \n",
              "               mean       std count\n",
              "最常消費週時點                            \n",
              "週一         0.272253  0.981683    46\n",
              "週三         0.179352  0.825537    22\n",
              "週二        -0.211267  0.895239    17\n",
              "週五        -1.475421  0.673299     6\n",
              "週四        -0.288912  0.818440     8"
            ]
          },
          "metadata": {
            "tags": []
          }
        },
        {
          "output_type": "stream",
          "text": [
            "F statistics is 5.64\n",
            "Pvalue is 0.00\n"
          ],
          "name": "stdout"
        },
        {
          "output_type": "display_data",
          "data": {
            "text/html": [
              "<table class=\"simpletable\">\n",
              "<caption>Multiple Comparison of Means - Tukey HSD, FWER=0.20</caption>\n",
              "<tr>\n",
              "  <th>group1</th> <th>group2</th> <th>meandiff</th>  <th>p-adj</th>  <th>lower</th>   <th>upper</th>  <th>reject</th>\n",
              "</tr>\n",
              "<tr>\n",
              "    <td>週一</td>     <td>週三</td>    <td>-0.0929</td>   <td>0.9</td>  <td>-0.6036</td> <td>0.4178</td>   <td>False</td>\n",
              "</tr>\n",
              "<tr>\n",
              "    <td>週一</td>     <td>週二</td>    <td>-0.4835</td> <td>0.3371</td> <td>-1.0427</td> <td>0.0757</td>   <td>False</td>\n",
              "</tr>\n",
              "<tr>\n",
              "    <td>週一</td>     <td>週五</td>    <td>-1.7477</td>  <td>0.001</td> <td>-2.6029</td> <td>-0.8925</td>  <td>True</td> \n",
              "</tr>\n",
              "<tr>\n",
              "    <td>週一</td>     <td>週四</td>    <td>-0.5612</td> <td>0.4924</td> <td>-1.3159</td> <td>0.1936</td>   <td>False</td>\n",
              "</tr>\n",
              "<tr>\n",
              "    <td>週三</td>     <td>週二</td>    <td>-0.3906</td> <td>0.6507</td> <td>-1.0269</td> <td>0.2456</td>   <td>False</td>\n",
              "</tr>\n",
              "<tr>\n",
              "    <td>週三</td>     <td>週五</td>    <td>-1.6548</td> <td>0.0014</td> <td>-2.5622</td> <td>-0.7473</td>  <td>True</td> \n",
              "</tr>\n",
              "<tr>\n",
              "    <td>週三</td>     <td>週四</td>    <td>-0.4683</td> <td>0.6973</td> <td>-1.2817</td> <td>0.3452</td>   <td>False</td>\n",
              "</tr>\n",
              "<tr>\n",
              "    <td>週二</td>     <td>週五</td>    <td>-1.2642</td> <td>0.0335</td> <td>-2.1997</td> <td>-0.3286</td>  <td>True</td> \n",
              "</tr>\n",
              "<tr>\n",
              "    <td>週二</td>     <td>週四</td>    <td>-0.0776</td>   <td>0.9</td>  <td>-0.9224</td> <td>0.7671</td>   <td>False</td>\n",
              "</tr>\n",
              "<tr>\n",
              "    <td>週五</td>     <td>週四</td>    <td>1.1865</td>  <td>0.1191</td> <td>0.1225</td>  <td>2.2506</td>   <td>True</td> \n",
              "</tr>\n",
              "</table>"
            ],
            "text/plain": [
              "<class 'statsmodels.iolib.table.SimpleTable'>"
            ]
          },
          "metadata": {
            "tags": []
          }
        },
        {
          "output_type": "display_data",
          "data": {
            "image/png": "[encoded data removed]",
            "text/plain": [
              "<Figure size 432x288 with 1 Axes>"
            ]
          },
          "metadata": {
            "tags": []
          }
        }
      ]
    },
    {
      "cell_type": "code",
      "metadata": {
        "colab": {
          "base_uri": "https://localhost:8080/"
        },
        "id": "wgUqxgHKmAgq",
        "outputId": "e90df376-951f-428f-9435-b96b50455884"
      },
      "source": [
        "f_test(y_var='CAI', x_var='最常消費週時點')"
      ],
      "execution_count": null,
      "outputs": [
        {
          "output_type": "display_data",
          "data": {
            "text/html": [
              "<div>\n",
              "<style scoped>\n",
              "    .dataframe tbody tr th:only-of-type {\n",
              "        vertical-align: middle;\n",
              "    }\n",
              "\n",
              "    .dataframe tbody tr th {\n",
              "        vertical-align: top;\n",
              "    }\n",
              "\n",
              "    .dataframe thead tr th {\n",
              "        text-align: left;\n",
              "    }\n",
              "\n",
              "    .dataframe thead tr:last-of-type th {\n",
              "        text-align: right;\n",
              "    }\n",
              "</style>\n",
              "<table border=\"1\" class=\"dataframe\">\n",
              "  <thead>\n",
              "    <tr>\n",
              "      <th></th>\n",
              "      <th colspan=\"3\" halign=\"left\">CAI</th>\n",
              "    </tr>\n",
              "    <tr>\n",
              "      <th></th>\n",
              "      <th>mean</th>\n",
              "      <th>std</th>\n",
              "      <th>count</th>\n",
              "    </tr>\n",
              "    <tr>\n",
              "      <th>最常消費週時點</th>\n",
              "      <th></th>\n",
              "      <th></th>\n",
              "      <th></th>\n",
              "    </tr>\n",
              "  </thead>\n",
              "  <tbody>\n",
              "    <tr>\n",
              "      <th>週一</th>\n",
              "      <td>-0.123760</td>\n",
              "      <td>0.905055</td>\n",
              "      <td>46</td>\n",
              "    </tr>\n",
              "    <tr>\n",
              "      <th>週三</th>\n",
              "      <td>0.206642</td>\n",
              "      <td>0.909456</td>\n",
              "      <td>22</td>\n",
              "    </tr>\n",
              "    <tr>\n",
              "      <th>週二</th>\n",
              "      <td>-0.124367</td>\n",
              "      <td>0.940686</td>\n",
              "      <td>17</td>\n",
              "    </tr>\n",
              "    <tr>\n",
              "      <th>週五</th>\n",
              "      <td>0.249666</td>\n",
              "      <td>2.015007</td>\n",
              "      <td>6</td>\n",
              "    </tr>\n",
              "    <tr>\n",
              "      <th>週四</th>\n",
              "      <td>0.220385</td>\n",
              "      <td>0.974023</td>\n",
              "      <td>8</td>\n",
              "    </tr>\n",
              "  </tbody>\n",
              "</table>\n",
              "</div>"
            ],
            "text/plain": [
              "              CAI                \n",
              "             mean       std count\n",
              "最常消費週時點                          \n",
              "週一      -0.123760  0.905055    46\n",
              "週三       0.206642  0.909456    22\n",
              "週二      -0.124367  0.940686    17\n",
              "週五       0.249666  2.015007     6\n",
              "週四       0.220385  0.974023     8"
            ]
          },
          "metadata": {
            "tags": []
          }
        },
        {
          "output_type": "stream",
          "text": [
            "F statistics is 0.66\n",
            "Pvalue is 0.62\n"
          ],
          "name": "stdout"
        },
        {
          "output_type": "display_data",
          "data": {
            "image/png": "[encoded data removed]",
            "text/plain": [
              "<Figure size 432x288 with 1 Axes>"
            ]
          },
          "metadata": {
            "tags": []
          }
        }
      ]
    },
    {
      "cell_type": "markdown",
      "metadata": {
        "id": "HnnLVEdIIdnc"
      },
      "source": [
        "## **Zodiac_Test**"
      ]
    },
    {
      "cell_type": "code",
      "metadata": {
        "colab": {
          "base_uri": "https://localhost:8080/",
          "height": 306
        },
        "id": "B4qxLhdjIdnd",
        "outputId": "c2a4adca-3a73-4814-b2eb-5a9365aaecb8"
      },
      "source": [
        "f_test(y_var='ln_BS_Score', x_var='zodiac_type')"
      ],
      "execution_count": null,
      "outputs": [
        {
          "output_type": "display_data",
          "data": {
            "text/html": [
              "<div>\n",
              "<style scoped>\n",
              "    .dataframe tbody tr th:only-of-type {\n",
              "        vertical-align: middle;\n",
              "    }\n",
              "\n",
              "    .dataframe tbody tr th {\n",
              "        vertical-align: top;\n",
              "    }\n",
              "\n",
              "    .dataframe thead tr th {\n",
              "        text-align: left;\n",
              "    }\n",
              "\n",
              "    .dataframe thead tr:last-of-type th {\n",
              "        text-align: right;\n",
              "    }\n",
              "</style>\n",
              "<table border=\"1\" class=\"dataframe\">\n",
              "  <thead>\n",
              "    <tr>\n",
              "      <th></th>\n",
              "      <th colspan=\"3\" halign=\"left\">ln_BS_Score</th>\n",
              "    </tr>\n",
              "    <tr>\n",
              "      <th></th>\n",
              "      <th>mean</th>\n",
              "      <th>std</th>\n",
              "      <th>count</th>\n",
              "    </tr>\n",
              "    <tr>\n",
              "      <th>zodiac_type</th>\n",
              "      <th></th>\n",
              "      <th></th>\n",
              "      <th></th>\n",
              "    </tr>\n",
              "  </thead>\n",
              "  <tbody>\n",
              "    <tr>\n",
              "      <th>土象</th>\n",
              "      <td>-0.218330</td>\n",
              "      <td>1.081172</td>\n",
              "      <td>11</td>\n",
              "    </tr>\n",
              "    <tr>\n",
              "      <th>水象</th>\n",
              "      <td>-0.025134</td>\n",
              "      <td>0.930959</td>\n",
              "      <td>37</td>\n",
              "    </tr>\n",
              "    <tr>\n",
              "      <th>火象</th>\n",
              "      <td>0.015073</td>\n",
              "      <td>0.883446</td>\n",
              "      <td>30</td>\n",
              "    </tr>\n",
              "    <tr>\n",
              "      <th>風象</th>\n",
              "      <td>0.218736</td>\n",
              "      <td>1.203724</td>\n",
              "      <td>21</td>\n",
              "    </tr>\n",
              "  </tbody>\n",
              "</table>\n",
              "</div>"
            ],
            "text/plain": [
              "            ln_BS_Score                \n",
              "                   mean       std count\n",
              "zodiac_type                            \n",
              "土象            -0.218330  1.081172    11\n",
              "水象            -0.025134  0.930959    37\n",
              "火象             0.015073  0.883446    30\n",
              "風象             0.218736  1.203724    21"
            ]
          },
          "metadata": {
            "tags": []
          }
        },
        {
          "output_type": "stream",
          "text": [
            "F statistics is 0.51\n",
            "Pvalue is 0.67\n"
          ],
          "name": "stdout"
        },
        {
          "output_type": "display_data",
          "data": {
            "image/png": "[encoded data removed]",
            "text/plain": [
              "<Figure size 432x288 with 1 Axes>"
            ]
          },
          "metadata": {
            "tags": []
          }
        }
      ]
    },
    {
      "cell_type": "code",
      "metadata": {
        "colab": {
          "base_uri": "https://localhost:8080/"
        },
        "id": "KJBW4SXIIdne",
        "outputId": "dc6492ca-b775-4c2a-8674-653894a09849"
      },
      "source": [
        "f_test(y_var='CAI', x_var='zodiac_type')"
      ],
      "execution_count": null,
      "outputs": [
        {
          "output_type": "display_data",
          "data": {
            "text/html": [
              "<div>\n",
              "<style scoped>\n",
              "    .dataframe tbody tr th:only-of-type {\n",
              "        vertical-align: middle;\n",
              "    }\n",
              "\n",
              "    .dataframe tbody tr th {\n",
              "        vertical-align: top;\n",
              "    }\n",
              "\n",
              "    .dataframe thead tr th {\n",
              "        text-align: left;\n",
              "    }\n",
              "\n",
              "    .dataframe thead tr:last-of-type th {\n",
              "        text-align: right;\n",
              "    }\n",
              "</style>\n",
              "<table border=\"1\" class=\"dataframe\">\n",
              "  <thead>\n",
              "    <tr>\n",
              "      <th></th>\n",
              "      <th colspan=\"3\" halign=\"left\">CAI</th>\n",
              "    </tr>\n",
              "    <tr>\n",
              "      <th></th>\n",
              "      <th>mean</th>\n",
              "      <th>std</th>\n",
              "      <th>count</th>\n",
              "    </tr>\n",
              "    <tr>\n",
              "      <th>zodiac_type</th>\n",
              "      <th></th>\n",
              "      <th></th>\n",
              "      <th></th>\n",
              "    </tr>\n",
              "  </thead>\n",
              "  <tbody>\n",
              "    <tr>\n",
              "      <th>土象</th>\n",
              "      <td>-0.286358</td>\n",
              "      <td>0.617690</td>\n",
              "      <td>11</td>\n",
              "    </tr>\n",
              "    <tr>\n",
              "      <th>水象</th>\n",
              "      <td>0.037117</td>\n",
              "      <td>1.009404</td>\n",
              "      <td>37</td>\n",
              "    </tr>\n",
              "    <tr>\n",
              "      <th>火象</th>\n",
              "      <td>-0.239865</td>\n",
              "      <td>1.027720</td>\n",
              "      <td>30</td>\n",
              "    </tr>\n",
              "    <tr>\n",
              "      <th>風象</th>\n",
              "      <td>0.427263</td>\n",
              "      <td>1.009000</td>\n",
              "      <td>21</td>\n",
              "    </tr>\n",
              "  </tbody>\n",
              "</table>\n",
              "</div>"
            ],
            "text/plain": [
              "                  CAI                \n",
              "                 mean       std count\n",
              "zodiac_type                          \n",
              "土象          -0.286358  0.617690    11\n",
              "水象           0.037117  1.009404    37\n",
              "火象          -0.239865  1.027720    30\n",
              "風象           0.427263  1.009000    21"
            ]
          },
          "metadata": {
            "tags": []
          }
        },
        {
          "output_type": "stream",
          "text": [
            "F statistics is 2.25\n",
            "Pvalue is 0.09\n"
          ],
          "name": "stdout"
        },
        {
          "output_type": "display_data",
          "data": {
            "text/html": [
              "<table class=\"simpletable\">\n",
              "<caption>Multiple Comparison of Means - Tukey HSD, FWER=0.20</caption>\n",
              "<tr>\n",
              "  <th>group1</th> <th>group2</th> <th>meandiff</th>  <th>p-adj</th>  <th>lower</th>   <th>upper</th> <th>reject</th>\n",
              "</tr>\n",
              "<tr>\n",
              "    <td>土象</td>     <td>水象</td>    <td>0.3235</td>  <td>0.7473</td> <td>-0.3463</td> <td>0.9933</td>  <td>False</td>\n",
              "</tr>\n",
              "<tr>\n",
              "    <td>土象</td>     <td>火象</td>    <td>0.0465</td>    <td>0.9</td>  <td>-0.641</td>   <td>0.734</td>  <td>False</td>\n",
              "</tr>\n",
              "<tr>\n",
              "    <td>土象</td>     <td>風象</td>    <td>0.7136</td>  <td>0.2131</td> <td>-0.0123</td> <td>1.4396</td>  <td>False</td>\n",
              "</tr>\n",
              "<tr>\n",
              "    <td>水象</td>     <td>火象</td>    <td>-0.277</td>   <td>0.642</td> <td>-0.7562</td> <td>0.2022</td>  <td>False</td>\n",
              "</tr>\n",
              "<tr>\n",
              "    <td>水象</td>     <td>風象</td>    <td>0.3901</td>  <td>0.4696</td> <td>-0.1427</td>  <td>0.923</td>  <td>False</td>\n",
              "</tr>\n",
              "<tr>\n",
              "    <td>火象</td>     <td>風象</td>    <td>0.6671</td>  <td>0.0862</td> <td>0.1122</td>  <td>1.2221</td>  <td>True</td> \n",
              "</tr>\n",
              "</table>"
            ],
            "text/plain": [
              "<class 'statsmodels.iolib.table.SimpleTable'>"
            ]
          },
          "metadata": {
            "tags": []
          }
        },
        {
          "output_type": "display_data",
          "data": {
            "image/png": "[encoded data removed]",
            "text/plain": [
              "<Figure size 432x288 with 1 Axes>"
            ]
          },
          "metadata": {
            "tags": []
          }
        }
      ]
    },
    {
      "cell_type": "markdown",
      "metadata": {
        "id": "ILtT4fevc5CS"
      },
      "source": [
        "## **ClusterName_Test**"
      ]
    },
    {
      "cell_type": "code",
      "metadata": {
        "colab": {
          "base_uri": "https://localhost:8080/"
        },
        "id": "rA8IO_Ipc5Cj",
        "outputId": "e2e90340-a4e4-4a3b-f99c-553f0d7e2871"
      },
      "source": [
        "f_test(y_var='ln_BS_Score', x_var='ClusterName')"
      ],
      "execution_count": null,
      "outputs": [
        {
          "output_type": "display_data",
          "data": {
            "text/html": [
              "<div>\n",
              "<style scoped>\n",
              "    .dataframe tbody tr th:only-of-type {\n",
              "        vertical-align: middle;\n",
              "    }\n",
              "\n",
              "    .dataframe tbody tr th {\n",
              "        vertical-align: top;\n",
              "    }\n",
              "\n",
              "    .dataframe thead tr th {\n",
              "        text-align: left;\n",
              "    }\n",
              "\n",
              "    .dataframe thead tr:last-of-type th {\n",
              "        text-align: right;\n",
              "    }\n",
              "</style>\n",
              "<table border=\"1\" class=\"dataframe\">\n",
              "  <thead>\n",
              "    <tr>\n",
              "      <th></th>\n",
              "      <th colspan=\"3\" halign=\"left\">ln_BS_Score</th>\n",
              "    </tr>\n",
              "    <tr>\n",
              "      <th></th>\n",
              "      <th>mean</th>\n",
              "      <th>std</th>\n",
              "      <th>count</th>\n",
              "    </tr>\n",
              "    <tr>\n",
              "      <th>ClusterName</th>\n",
              "      <th></th>\n",
              "      <th></th>\n",
              "      <th></th>\n",
              "    </tr>\n",
              "  </thead>\n",
              "  <tbody>\n",
              "    <tr>\n",
              "      <th>主力群</th>\n",
              "      <td>0.930355</td>\n",
              "      <td>0.544108</td>\n",
              "      <td>41</td>\n",
              "    </tr>\n",
              "    <tr>\n",
              "      <th>發展群</th>\n",
              "      <td>-0.754404</td>\n",
              "      <td>0.569884</td>\n",
              "      <td>32</td>\n",
              "    </tr>\n",
              "    <tr>\n",
              "      <th>離失群</th>\n",
              "      <td>-0.472676</td>\n",
              "      <td>0.765328</td>\n",
              "      <td>26</td>\n",
              "    </tr>\n",
              "  </tbody>\n",
              "</table>\n",
              "</div>"
            ],
            "text/plain": [
              "            ln_BS_Score                \n",
              "                   mean       std count\n",
              "ClusterName                            \n",
              "主力群            0.930355  0.544108    41\n",
              "發展群           -0.754404  0.569884    32\n",
              "離失群           -0.472676  0.765328    26"
            ]
          },
          "metadata": {
            "tags": []
          }
        },
        {
          "output_type": "stream",
          "text": [
            "F statistics is 78.11\n",
            "Pvalue is 0.00\n"
          ],
          "name": "stdout"
        },
        {
          "output_type": "display_data",
          "data": {
            "text/html": [
              "<table class=\"simpletable\">\n",
              "<caption>Multiple Comparison of Means - Tukey HSD, FWER=0.20</caption>\n",
              "<tr>\n",
              "  <th>group1</th> <th>group2</th> <th>meandiff</th>  <th>p-adj</th>  <th>lower</th>   <th>upper</th>  <th>reject</th>\n",
              "</tr>\n",
              "<tr>\n",
              "    <td>主力群</td>    <td>發展群</td>   <td>-1.6848</td>  <td>0.001</td> <td>-1.9364</td> <td>-1.4331</td>  <td>True</td> \n",
              "</tr>\n",
              "<tr>\n",
              "    <td>主力群</td>    <td>離失群</td>   <td>-1.403</td>   <td>0.001</td> <td>-1.6704</td> <td>-1.1356</td>  <td>True</td> \n",
              "</tr>\n",
              "<tr>\n",
              "    <td>發展群</td>    <td>離失群</td>   <td>0.2817</td>  <td>0.1998</td> <td>0.0001</td>  <td>0.5634</td>   <td>True</td> \n",
              "</tr>\n",
              "</table>"
            ],
            "text/plain": [
              "<class 'statsmodels.iolib.table.SimpleTable'>"
            ]
          },
          "metadata": {
            "tags": []
          }
        },
        {
          "output_type": "display_data",
          "data": {
            "image/png": "[encoded data removed]",
            "text/plain": [
              "<Figure size 432x288 with 1 Axes>"
            ]
          },
          "metadata": {
            "tags": []
          }
        }
      ]
    },
    {
      "cell_type": "code",
      "metadata": {
        "colab": {
          "base_uri": "https://localhost:8080/",
          "height": 626
        },
        "id": "knE6JcmAc5Co",
        "outputId": "6551c155-26f5-40cc-ddcb-2769f70f2d71"
      },
      "source": [
        "f_test(y_var='CAI', x_var='ClusterName')"
      ],
      "execution_count": null,
      "outputs": [
        {
          "output_type": "display_data",
          "data": {
            "text/html": [
              "<div>\n",
              "<style scoped>\n",
              "    .dataframe tbody tr th:only-of-type {\n",
              "        vertical-align: middle;\n",
              "    }\n",
              "\n",
              "    .dataframe tbody tr th {\n",
              "        vertical-align: top;\n",
              "    }\n",
              "\n",
              "    .dataframe thead tr th {\n",
              "        text-align: left;\n",
              "    }\n",
              "\n",
              "    .dataframe thead tr:last-of-type th {\n",
              "        text-align: right;\n",
              "    }\n",
              "</style>\n",
              "<table border=\"1\" class=\"dataframe\">\n",
              "  <thead>\n",
              "    <tr>\n",
              "      <th></th>\n",
              "      <th colspan=\"3\" halign=\"left\">CAI</th>\n",
              "    </tr>\n",
              "    <tr>\n",
              "      <th></th>\n",
              "      <th>mean</th>\n",
              "      <th>std</th>\n",
              "      <th>count</th>\n",
              "    </tr>\n",
              "    <tr>\n",
              "      <th>ClusterName</th>\n",
              "      <th></th>\n",
              "      <th></th>\n",
              "      <th></th>\n",
              "    </tr>\n",
              "  </thead>\n",
              "  <tbody>\n",
              "    <tr>\n",
              "      <th>主力群</th>\n",
              "      <td>0.111424</td>\n",
              "      <td>0.630947</td>\n",
              "      <td>41</td>\n",
              "    </tr>\n",
              "    <tr>\n",
              "      <th>發展群</th>\n",
              "      <td>0.794920</td>\n",
              "      <td>0.757425</td>\n",
              "      <td>32</td>\n",
              "    </tr>\n",
              "    <tr>\n",
              "      <th>離失群</th>\n",
              "      <td>-1.154071</td>\n",
              "      <td>0.597765</td>\n",
              "      <td>26</td>\n",
              "    </tr>\n",
              "  </tbody>\n",
              "</table>\n",
              "</div>"
            ],
            "text/plain": [
              "                  CAI                \n",
              "                 mean       std count\n",
              "ClusterName                          \n",
              "主力群          0.111424  0.630947    41\n",
              "發展群          0.794920  0.757425    32\n",
              "離失群         -1.154071  0.597765    26"
            ]
          },
          "metadata": {
            "tags": []
          }
        },
        {
          "output_type": "stream",
          "text": [
            "F statistics is 62.32\n",
            "Pvalue is 0.00\n"
          ],
          "name": "stdout"
        },
        {
          "output_type": "display_data",
          "data": {
            "text/html": [
              "<table class=\"simpletable\">\n",
              "<caption>Multiple Comparison of Means - Tukey HSD, FWER=0.20</caption>\n",
              "<tr>\n",
              "  <th>group1</th> <th>group2</th> <th>meandiff</th> <th>p-adj</th>  <th>lower</th>   <th>upper</th>  <th>reject</th>\n",
              "</tr>\n",
              "<tr>\n",
              "    <td>主力群</td>    <td>發展群</td>   <td>0.6835</td>  <td>0.001</td> <td>0.4117</td>  <td>0.9553</td>   <td>True</td> \n",
              "</tr>\n",
              "<tr>\n",
              "    <td>主力群</td>    <td>離失群</td>   <td>-1.2655</td> <td>0.001</td> <td>-1.5543</td> <td>-0.9767</td>  <td>True</td> \n",
              "</tr>\n",
              "<tr>\n",
              "    <td>發展群</td>    <td>離失群</td>   <td>-1.949</td>  <td>0.001</td> <td>-2.2532</td> <td>-1.6448</td>  <td>True</td> \n",
              "</tr>\n",
              "</table>"
            ],
            "text/plain": [
              "<class 'statsmodels.iolib.table.SimpleTable'>"
            ]
          },
          "metadata": {
            "tags": []
          }
        },
        {
          "output_type": "display_data",
          "data": {
            "image/png": "[encoded data removed]",
            "text/plain": [
              "<Figure size 432x288 with 1 Axes>"
            ]
          },
          "metadata": {
            "tags": []
          }
        }
      ]
    },
    {
      "cell_type": "markdown",
      "metadata": {
        "id": "e65T5NAKbT8R"
      },
      "source": [
        "# **Save file**"
      ]
    },
    {
      "cell_type": "code",
      "metadata": {
        "id": "4wMyCd0IWf2r"
      },
      "source": [
        "customers.to_excel('cluster.xlsx')"
      ],
      "execution_count": null,
      "outputs": []
    }
  ]
}