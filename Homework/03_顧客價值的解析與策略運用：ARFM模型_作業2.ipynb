{
  "nbformat": 4,
  "nbformat_minor": 0,
  "metadata": {
    "colab": {
      "name": "03_顧客價值的解析與策略運用：ARFM模型_作業2.ipynb",
      "provenance": [],
      "collapsed_sections": [],
      "toc_visible": true,
      "authorship_tag": "ABX9TyPpstf2dX/V/hw06M9I6VE3"
    },
    "kernelspec": {
      "name": "python3",
      "display_name": "Python 3"
    }
  },
  "cells": [
    {
      "cell_type": "markdown",
      "metadata": {
        "id": "63bZF9-zHxkj"
      },
      "source": [
        "Author: Jinze Wu\n",
        "\n",
        "Student Number: p09323028"
      ]
    },
    {
      "cell_type": "code",
      "metadata": {
        "id": "GhMlNdEhPprt"
      },
      "source": [
        "import pandas as pd\n",
        "import numpy as np\n",
        "import datetime as dt"
      ],
      "execution_count": 1,
      "outputs": []
    },
    {
      "cell_type": "markdown",
      "metadata": {
        "id": "h_mZM08MQk5C"
      },
      "source": [
        "# **Download data**\n",
        "Download data from google cloud"
      ]
    },
    {
      "cell_type": "code",
      "metadata": {
        "id": "mM3jAKnDP1h2"
      },
      "source": [
        "!gdown --id '1oTtu7K5NVLCp-RKUuyVtwShLnryIVrKc' --output creditcard.xlsx"
      ],
      "execution_count": null,
      "outputs": []
    },
    {
      "cell_type": "markdown",
      "metadata": {
        "id": "HNZQnbixTLJ_"
      },
      "source": [
        "# **Sheet to DataFrame**"
      ]
    },
    {
      "cell_type": "code",
      "metadata": {
        "id": "HXQMI3IvQdvs"
      },
      "source": [
        "customer = pd.read_excel('creditcard.xlsx', sheet_name='客戶資料檔')\n",
        "creditcard = pd.read_excel('creditcard.xlsx', sheet_name='信用卡資料檔')\n",
        "creditlog = pd.read_excel('creditcard.xlsx', sheet_name='信用卡交易記錄檔')\n",
        "creditlog = creditlog.iloc[:,:8]"
      ],
      "execution_count": 3,
      "outputs": []
    },
    {
      "cell_type": "code",
      "metadata": {
        "colab": {
          "base_uri": "https://localhost:8080/",
          "height": 204
        },
        "id": "xq2YYPBWRBKh",
        "outputId": "c353a0cc-3b86-4163-9826-79a5b34ebaf3"
      },
      "source": [
        "customer.head()"
      ],
      "execution_count": 4,
      "outputs": [
        {
          "output_type": "execute_result",
          "data": {
            "text/html": [
              "<div>\n",
              "<style scoped>\n",
              "    .dataframe tbody tr th:only-of-type {\n",
              "        vertical-align: middle;\n",
              "    }\n",
              "\n",
              "    .dataframe tbody tr th {\n",
              "        vertical-align: top;\n",
              "    }\n",
              "\n",
              "    .dataframe thead th {\n",
              "        text-align: right;\n",
              "    }\n",
              "</style>\n",
              "<table border=\"1\" class=\"dataframe\">\n",
              "  <thead>\n",
              "    <tr style=\"text-align: right;\">\n",
              "      <th></th>\n",
              "      <th>客戶ID</th>\n",
              "      <th>年齡</th>\n",
              "      <th>生日</th>\n",
              "      <th>居住地</th>\n",
              "      <th>教育程度</th>\n",
              "      <th>性別</th>\n",
              "      <th>婚姻狀況</th>\n",
              "      <th>職業</th>\n",
              "      <th>辦第一張信用卡的時間</th>\n",
              "    </tr>\n",
              "  </thead>\n",
              "  <tbody>\n",
              "    <tr>\n",
              "      <th>0</th>\n",
              "      <td>7293</td>\n",
              "      <td>57</td>\n",
              "      <td>1955-08-24</td>\n",
              "      <td>大台北地區</td>\n",
              "      <td>專科</td>\n",
              "      <td>1:男</td>\n",
              "      <td>已婚</td>\n",
              "      <td>公務員</td>\n",
              "      <td>2006-11-27</td>\n",
              "    </tr>\n",
              "    <tr>\n",
              "      <th>1</th>\n",
              "      <td>5963</td>\n",
              "      <td>29</td>\n",
              "      <td>1983-12-05</td>\n",
              "      <td>大台北地區</td>\n",
              "      <td>學士</td>\n",
              "      <td>1:男</td>\n",
              "      <td>單身</td>\n",
              "      <td>白領一般職員</td>\n",
              "      <td>2009-07-24</td>\n",
              "    </tr>\n",
              "    <tr>\n",
              "      <th>2</th>\n",
              "      <td>18700</td>\n",
              "      <td>27</td>\n",
              "      <td>1985-12-20</td>\n",
              "      <td>高屏地區</td>\n",
              "      <td>高中</td>\n",
              "      <td>1:男</td>\n",
              "      <td>單身</td>\n",
              "      <td>藍領(勞動工作或作業員)一般職員</td>\n",
              "      <td>2009-09-22</td>\n",
              "    </tr>\n",
              "    <tr>\n",
              "      <th>3</th>\n",
              "      <td>920</td>\n",
              "      <td>39</td>\n",
              "      <td>1973-05-29</td>\n",
              "      <td>大台北地區</td>\n",
              "      <td>學士</td>\n",
              "      <td>1:男</td>\n",
              "      <td>已婚</td>\n",
              "      <td>自營事業老闆</td>\n",
              "      <td>2010-03-05</td>\n",
              "    </tr>\n",
              "    <tr>\n",
              "      <th>4</th>\n",
              "      <td>4612</td>\n",
              "      <td>26</td>\n",
              "      <td>1986-01-06</td>\n",
              "      <td>嘉南地區</td>\n",
              "      <td>學士</td>\n",
              "      <td>1:男</td>\n",
              "      <td>單身</td>\n",
              "      <td>白領一般職員</td>\n",
              "      <td>2010-08-05</td>\n",
              "    </tr>\n",
              "  </tbody>\n",
              "</table>\n",
              "</div>"
            ],
            "text/plain": [
              "    客戶ID  年齡         生日    居住地 教育程度   性別 婚姻狀況                職業 辦第一張信用卡的時間\n",
              "0   7293  57 1955-08-24  大台北地區   專科  1:男   已婚               公務員 2006-11-27\n",
              "1   5963  29 1983-12-05  大台北地區   學士  1:男   單身            白領一般職員 2009-07-24\n",
              "2  18700  27 1985-12-20   高屏地區   高中  1:男   單身  藍領(勞動工作或作業員)一般職員 2009-09-22\n",
              "3    920  39 1973-05-29  大台北地區   學士  1:男   已婚            自營事業老闆 2010-03-05\n",
              "4   4612  26 1986-01-06   嘉南地區   學士  1:男   單身            白領一般職員 2010-08-05"
            ]
          },
          "metadata": {
            "tags": []
          },
          "execution_count": 4
        }
      ]
    },
    {
      "cell_type": "code",
      "metadata": {
        "colab": {
          "base_uri": "https://localhost:8080/",
          "height": 204
        },
        "id": "gqB8PgLZREGh",
        "outputId": "ead579db-565c-4b74-e48d-e65a300135c4"
      },
      "source": [
        "creditcard.head()"
      ],
      "execution_count": 5,
      "outputs": [
        {
          "output_type": "execute_result",
          "data": {
            "text/html": [
              "<div>\n",
              "<style scoped>\n",
              "    .dataframe tbody tr th:only-of-type {\n",
              "        vertical-align: middle;\n",
              "    }\n",
              "\n",
              "    .dataframe tbody tr th {\n",
              "        vertical-align: top;\n",
              "    }\n",
              "\n",
              "    .dataframe thead th {\n",
              "        text-align: right;\n",
              "    }\n",
              "</style>\n",
              "<table border=\"1\" class=\"dataframe\">\n",
              "  <thead>\n",
              "    <tr style=\"text-align: right;\">\n",
              "      <th></th>\n",
              "      <th>信用卡ID</th>\n",
              "      <th>客戶ID</th>\n",
              "      <th>信用卡開卡日</th>\n",
              "      <th>信用卡到期日</th>\n",
              "      <th>信用額度</th>\n",
              "      <th>卡等</th>\n",
              "    </tr>\n",
              "  </thead>\n",
              "  <tbody>\n",
              "    <tr>\n",
              "      <th>0</th>\n",
              "      <td>41</td>\n",
              "      <td>2027</td>\n",
              "      <td>2006-05-19</td>\n",
              "      <td>2015-08-31</td>\n",
              "      <td>500000</td>\n",
              "      <td>金卡</td>\n",
              "    </tr>\n",
              "    <tr>\n",
              "      <th>1</th>\n",
              "      <td>814</td>\n",
              "      <td>7437</td>\n",
              "      <td>2002-01-14</td>\n",
              "      <td>2016-01-31</td>\n",
              "      <td>200000</td>\n",
              "      <td>普卡</td>\n",
              "    </tr>\n",
              "    <tr>\n",
              "      <th>2</th>\n",
              "      <td>905</td>\n",
              "      <td>6475</td>\n",
              "      <td>2002-05-07</td>\n",
              "      <td>2016-05-31</td>\n",
              "      <td>50000</td>\n",
              "      <td>普卡</td>\n",
              "    </tr>\n",
              "    <tr>\n",
              "      <th>3</th>\n",
              "      <td>1142</td>\n",
              "      <td>18841</td>\n",
              "      <td>2001-07-23</td>\n",
              "      <td>2015-07-31</td>\n",
              "      <td>250000</td>\n",
              "      <td>金卡</td>\n",
              "    </tr>\n",
              "    <tr>\n",
              "      <th>4</th>\n",
              "      <td>1411</td>\n",
              "      <td>14127</td>\n",
              "      <td>2005-10-03</td>\n",
              "      <td>2016-06-30</td>\n",
              "      <td>270000</td>\n",
              "      <td>白金卡</td>\n",
              "    </tr>\n",
              "  </tbody>\n",
              "</table>\n",
              "</div>"
            ],
            "text/plain": [
              "   信用卡ID   客戶ID     信用卡開卡日     信用卡到期日    信用額度   卡等\n",
              "0     41   2027 2006-05-19 2015-08-31  500000   金卡\n",
              "1    814   7437 2002-01-14 2016-01-31  200000   普卡\n",
              "2    905   6475 2002-05-07 2016-05-31   50000   普卡\n",
              "3   1142  18841 2001-07-23 2015-07-31  250000   金卡\n",
              "4   1411  14127 2005-10-03 2016-06-30  270000  白金卡"
            ]
          },
          "metadata": {
            "tags": []
          },
          "execution_count": 5
        }
      ]
    },
    {
      "cell_type": "code",
      "metadata": {
        "colab": {
          "base_uri": "https://localhost:8080/",
          "height": 204
        },
        "id": "YusOHHd2Tt1P",
        "outputId": "4d6287fa-7274-431c-cf8e-8f1914a1304f"
      },
      "source": [
        "creditlog.head()"
      ],
      "execution_count": 6,
      "outputs": [
        {
          "output_type": "execute_result",
          "data": {
            "text/html": [
              "<div>\n",
              "<style scoped>\n",
              "    .dataframe tbody tr th:only-of-type {\n",
              "        vertical-align: middle;\n",
              "    }\n",
              "\n",
              "    .dataframe tbody tr th {\n",
              "        vertical-align: top;\n",
              "    }\n",
              "\n",
              "    .dataframe thead th {\n",
              "        text-align: right;\n",
              "    }\n",
              "</style>\n",
              "<table border=\"1\" class=\"dataframe\">\n",
              "  <thead>\n",
              "    <tr style=\"text-align: right;\">\n",
              "      <th></th>\n",
              "      <th>交易序號</th>\n",
              "      <th>信用卡ID</th>\n",
              "      <th>客戶ID</th>\n",
              "      <th>刷卡日期</th>\n",
              "      <th>刷卡產品產業分類</th>\n",
              "      <th>刷卡類型</th>\n",
              "      <th>刷卡金額</th>\n",
              "      <th>刷卡地點</th>\n",
              "    </tr>\n",
              "  </thead>\n",
              "  <tbody>\n",
              "    <tr>\n",
              "      <th>0</th>\n",
              "      <td>8</td>\n",
              "      <td>6448</td>\n",
              "      <td>15195</td>\n",
              "      <td>2010-12-01</td>\n",
              "      <td>14_旅遊</td>\n",
              "      <td>一般消費</td>\n",
              "      <td>5200</td>\n",
              "      <td>國內</td>\n",
              "    </tr>\n",
              "    <tr>\n",
              "      <th>1</th>\n",
              "      <td>9</td>\n",
              "      <td>6826</td>\n",
              "      <td>13687</td>\n",
              "      <td>2010-12-01</td>\n",
              "      <td>12_量販超市</td>\n",
              "      <td>一般消費</td>\n",
              "      <td>250</td>\n",
              "      <td>國內</td>\n",
              "    </tr>\n",
              "    <tr>\n",
              "      <th>2</th>\n",
              "      <td>10</td>\n",
              "      <td>6826</td>\n",
              "      <td>13687</td>\n",
              "      <td>2010-12-01</td>\n",
              "      <td>12_量販超市</td>\n",
              "      <td>一般消費</td>\n",
              "      <td>1316</td>\n",
              "      <td>國內</td>\n",
              "    </tr>\n",
              "    <tr>\n",
              "      <th>3</th>\n",
              "      <td>11</td>\n",
              "      <td>7896</td>\n",
              "      <td>179</td>\n",
              "      <td>2010-12-01</td>\n",
              "      <td>10_藥妝</td>\n",
              "      <td>一般消費</td>\n",
              "      <td>218</td>\n",
              "      <td>國內</td>\n",
              "    </tr>\n",
              "    <tr>\n",
              "      <th>4</th>\n",
              "      <td>20</td>\n",
              "      <td>9387</td>\n",
              "      <td>16756</td>\n",
              "      <td>2010-12-01</td>\n",
              "      <td>11_3C居家電信</td>\n",
              "      <td>一般消費</td>\n",
              "      <td>2610</td>\n",
              "      <td>國內</td>\n",
              "    </tr>\n",
              "  </tbody>\n",
              "</table>\n",
              "</div>"
            ],
            "text/plain": [
              "   交易序號  信用卡ID   客戶ID       刷卡日期   刷卡產品產業分類  刷卡類型  刷卡金額 刷卡地點\n",
              "0     8   6448  15195 2010-12-01      14_旅遊  一般消費  5200   國內\n",
              "1     9   6826  13687 2010-12-01    12_量販超市  一般消費   250   國內\n",
              "2    10   6826  13687 2010-12-01    12_量販超市  一般消費  1316   國內\n",
              "3    11   7896    179 2010-12-01      10_藥妝  一般消費   218   國內\n",
              "4    20   9387  16756 2010-12-01  11_3C居家電信  一般消費  2610   國內"
            ]
          },
          "metadata": {
            "tags": []
          },
          "execution_count": 6
        }
      ]
    },
    {
      "cell_type": "markdown",
      "metadata": {
        "id": "FXzsBUGTTui9"
      },
      "source": [
        "# **Intervalpurchase Time**"
      ]
    },
    {
      "cell_type": "code",
      "metadata": {
        "id": "LomN7t00nT7m"
      },
      "source": [
        "df = creditlog.copy()"
      ],
      "execution_count": 175,
      "outputs": []
    },
    {
      "cell_type": "code",
      "metadata": {
        "id": "g1Z25ILsf15q"
      },
      "source": [
        "df.drop_duplicates(subset=['客戶ID', '刷卡日期'], inplace=True)"
      ],
      "execution_count": 176,
      "outputs": []
    },
    {
      "cell_type": "code",
      "metadata": {
        "colab": {
          "base_uri": "https://localhost:8080/",
          "height": 419
        },
        "id": "CQnqPmBjjg24",
        "outputId": "7371ce26-ee44-4ba9-9336-d3575b88bcac"
      },
      "source": [
        "df"
      ],
      "execution_count": 177,
      "outputs": [
        {
          "output_type": "execute_result",
          "data": {
            "text/html": [
              "<div>\n",
              "<style scoped>\n",
              "    .dataframe tbody tr th:only-of-type {\n",
              "        vertical-align: middle;\n",
              "    }\n",
              "\n",
              "    .dataframe tbody tr th {\n",
              "        vertical-align: top;\n",
              "    }\n",
              "\n",
              "    .dataframe thead th {\n",
              "        text-align: right;\n",
              "    }\n",
              "</style>\n",
              "<table border=\"1\" class=\"dataframe\">\n",
              "  <thead>\n",
              "    <tr style=\"text-align: right;\">\n",
              "      <th></th>\n",
              "      <th>交易序號</th>\n",
              "      <th>信用卡ID</th>\n",
              "      <th>客戶ID</th>\n",
              "      <th>刷卡日期</th>\n",
              "      <th>刷卡產品產業分類</th>\n",
              "      <th>刷卡類型</th>\n",
              "      <th>刷卡金額</th>\n",
              "      <th>刷卡地點</th>\n",
              "    </tr>\n",
              "  </thead>\n",
              "  <tbody>\n",
              "    <tr>\n",
              "      <th>0</th>\n",
              "      <td>8</td>\n",
              "      <td>6448</td>\n",
              "      <td>15195</td>\n",
              "      <td>2010-12-01</td>\n",
              "      <td>14_旅遊</td>\n",
              "      <td>一般消費</td>\n",
              "      <td>5200</td>\n",
              "      <td>國內</td>\n",
              "    </tr>\n",
              "    <tr>\n",
              "      <th>1</th>\n",
              "      <td>9</td>\n",
              "      <td>6826</td>\n",
              "      <td>13687</td>\n",
              "      <td>2010-12-01</td>\n",
              "      <td>12_量販超市</td>\n",
              "      <td>一般消費</td>\n",
              "      <td>250</td>\n",
              "      <td>國內</td>\n",
              "    </tr>\n",
              "    <tr>\n",
              "      <th>3</th>\n",
              "      <td>11</td>\n",
              "      <td>7896</td>\n",
              "      <td>179</td>\n",
              "      <td>2010-12-01</td>\n",
              "      <td>10_藥妝</td>\n",
              "      <td>一般消費</td>\n",
              "      <td>218</td>\n",
              "      <td>國內</td>\n",
              "    </tr>\n",
              "    <tr>\n",
              "      <th>4</th>\n",
              "      <td>20</td>\n",
              "      <td>9387</td>\n",
              "      <td>16756</td>\n",
              "      <td>2010-12-01</td>\n",
              "      <td>11_3C居家電信</td>\n",
              "      <td>一般消費</td>\n",
              "      <td>2610</td>\n",
              "      <td>國內</td>\n",
              "    </tr>\n",
              "    <tr>\n",
              "      <th>5</th>\n",
              "      <td>36</td>\n",
              "      <td>12989</td>\n",
              "      <td>3044</td>\n",
              "      <td>2010-12-01</td>\n",
              "      <td>06_公用事業</td>\n",
              "      <td>一般消費</td>\n",
              "      <td>20</td>\n",
              "      <td>國內</td>\n",
              "    </tr>\n",
              "    <tr>\n",
              "      <th>...</th>\n",
              "      <td>...</td>\n",
              "      <td>...</td>\n",
              "      <td>...</td>\n",
              "      <td>...</td>\n",
              "      <td>...</td>\n",
              "      <td>...</td>\n",
              "      <td>...</td>\n",
              "      <td>...</td>\n",
              "    </tr>\n",
              "    <tr>\n",
              "      <th>7759</th>\n",
              "      <td>30520</td>\n",
              "      <td>12797</td>\n",
              "      <td>19483</td>\n",
              "      <td>2012-11-30</td>\n",
              "      <td>08_精品</td>\n",
              "      <td>一般消費</td>\n",
              "      <td>3760</td>\n",
              "      <td>國內</td>\n",
              "    </tr>\n",
              "    <tr>\n",
              "      <th>7760</th>\n",
              "      <td>30529</td>\n",
              "      <td>17200</td>\n",
              "      <td>15353</td>\n",
              "      <td>2012-11-30</td>\n",
              "      <td>12_量販超市</td>\n",
              "      <td>一般消費</td>\n",
              "      <td>262</td>\n",
              "      <td>國內</td>\n",
              "    </tr>\n",
              "    <tr>\n",
              "      <th>7761</th>\n",
              "      <td>30533</td>\n",
              "      <td>17746</td>\n",
              "      <td>17586</td>\n",
              "      <td>2012-11-30</td>\n",
              "      <td>16_無店舖</td>\n",
              "      <td>一般消費</td>\n",
              "      <td>1040</td>\n",
              "      <td>國內</td>\n",
              "    </tr>\n",
              "    <tr>\n",
              "      <th>7762</th>\n",
              "      <td>30535</td>\n",
              "      <td>18122</td>\n",
              "      <td>3219</td>\n",
              "      <td>2012-11-30</td>\n",
              "      <td>13_交通(含加值)</td>\n",
              "      <td>一般消費</td>\n",
              "      <td>197</td>\n",
              "      <td>國內</td>\n",
              "    </tr>\n",
              "    <tr>\n",
              "      <th>7763</th>\n",
              "      <td>30539</td>\n",
              "      <td>18653</td>\n",
              "      <td>9051</td>\n",
              "      <td>2012-11-30</td>\n",
              "      <td>08_精品</td>\n",
              "      <td>一般消費</td>\n",
              "      <td>3410</td>\n",
              "      <td>國內</td>\n",
              "    </tr>\n",
              "  </tbody>\n",
              "</table>\n",
              "<p>5294 rows × 8 columns</p>\n",
              "</div>"
            ],
            "text/plain": [
              "       交易序號  信用卡ID   客戶ID       刷卡日期    刷卡產品產業分類  刷卡類型  刷卡金額 刷卡地點\n",
              "0         8   6448  15195 2010-12-01       14_旅遊  一般消費  5200   國內\n",
              "1         9   6826  13687 2010-12-01     12_量販超市  一般消費   250   國內\n",
              "3        11   7896    179 2010-12-01       10_藥妝  一般消費   218   國內\n",
              "4        20   9387  16756 2010-12-01   11_3C居家電信  一般消費  2610   國內\n",
              "5        36  12989   3044 2010-12-01     06_公用事業  一般消費    20   國內\n",
              "...     ...    ...    ...        ...         ...   ...   ...  ...\n",
              "7759  30520  12797  19483 2012-11-30       08_精品  一般消費  3760   國內\n",
              "7760  30529  17200  15353 2012-11-30     12_量販超市  一般消費   262   國內\n",
              "7761  30533  17746  17586 2012-11-30      16_無店舖  一般消費  1040   國內\n",
              "7762  30535  18122   3219 2012-11-30  13_交通(含加值)  一般消費   197   國內\n",
              "7763  30539  18653   9051 2012-11-30       08_精品  一般消費  3410   國內\n",
              "\n",
              "[5294 rows x 8 columns]"
            ]
          },
          "metadata": {
            "tags": []
          },
          "execution_count": 177
        }
      ]
    },
    {
      "cell_type": "code",
      "metadata": {
        "id": "nTi4iKXGoddk"
      },
      "source": [
        "df = df.sort_values(['客戶ID', '刷卡日期'])"
      ],
      "execution_count": 178,
      "outputs": []
    },
    {
      "cell_type": "code",
      "metadata": {
        "id": "iT_O54hMojL6"
      },
      "source": [
        "df['shift'] = (df['客戶ID'] == df['客戶ID'].shift(1))\n",
        "df['IPT'] = df['刷卡日期'] - df['刷卡日期'].shift(1)"
      ],
      "execution_count": 179,
      "outputs": []
    },
    {
      "cell_type": "code",
      "metadata": {
        "colab": {
          "base_uri": "https://localhost:8080/",
          "height": 419
        },
        "id": "5BN0AYDwi9bU",
        "outputId": "06ebd855-03ec-4d4b-aafc-e94efbbd6e29"
      },
      "source": [
        "df"
      ],
      "execution_count": 180,
      "outputs": [
        {
          "output_type": "execute_result",
          "data": {
            "text/html": [
              "<div>\n",
              "<style scoped>\n",
              "    .dataframe tbody tr th:only-of-type {\n",
              "        vertical-align: middle;\n",
              "    }\n",
              "\n",
              "    .dataframe tbody tr th {\n",
              "        vertical-align: top;\n",
              "    }\n",
              "\n",
              "    .dataframe thead th {\n",
              "        text-align: right;\n",
              "    }\n",
              "</style>\n",
              "<table border=\"1\" class=\"dataframe\">\n",
              "  <thead>\n",
              "    <tr style=\"text-align: right;\">\n",
              "      <th></th>\n",
              "      <th>交易序號</th>\n",
              "      <th>信用卡ID</th>\n",
              "      <th>客戶ID</th>\n",
              "      <th>刷卡日期</th>\n",
              "      <th>刷卡產品產業分類</th>\n",
              "      <th>刷卡類型</th>\n",
              "      <th>刷卡金額</th>\n",
              "      <th>刷卡地點</th>\n",
              "      <th>shift</th>\n",
              "      <th>IPT</th>\n",
              "    </tr>\n",
              "  </thead>\n",
              "  <tbody>\n",
              "    <tr>\n",
              "      <th>152</th>\n",
              "      <td>564</td>\n",
              "      <td>8905</td>\n",
              "      <td>89</td>\n",
              "      <td>2010-12-14</td>\n",
              "      <td>13_交通(含加值)</td>\n",
              "      <td>一般消費</td>\n",
              "      <td>1589</td>\n",
              "      <td>國內</td>\n",
              "      <td>False</td>\n",
              "      <td>NaT</td>\n",
              "    </tr>\n",
              "    <tr>\n",
              "      <th>263</th>\n",
              "      <td>1016</td>\n",
              "      <td>8905</td>\n",
              "      <td>89</td>\n",
              "      <td>2010-12-24</td>\n",
              "      <td>13_交通(含加值)</td>\n",
              "      <td>一般消費</td>\n",
              "      <td>1623</td>\n",
              "      <td>國內</td>\n",
              "      <td>True</td>\n",
              "      <td>10 days</td>\n",
              "    </tr>\n",
              "    <tr>\n",
              "      <th>414</th>\n",
              "      <td>1546</td>\n",
              "      <td>8905</td>\n",
              "      <td>89</td>\n",
              "      <td>2011-01-05</td>\n",
              "      <td>13_交通(含加值)</td>\n",
              "      <td>一般消費</td>\n",
              "      <td>1545</td>\n",
              "      <td>國內</td>\n",
              "      <td>True</td>\n",
              "      <td>12 days</td>\n",
              "    </tr>\n",
              "    <tr>\n",
              "      <th>510</th>\n",
              "      <td>2011</td>\n",
              "      <td>8905</td>\n",
              "      <td>89</td>\n",
              "      <td>2011-01-17</td>\n",
              "      <td>13_交通(含加值)</td>\n",
              "      <td>一般消費</td>\n",
              "      <td>1550</td>\n",
              "      <td>國內</td>\n",
              "      <td>True</td>\n",
              "      <td>12 days</td>\n",
              "    </tr>\n",
              "    <tr>\n",
              "      <th>637</th>\n",
              "      <td>2525</td>\n",
              "      <td>14554</td>\n",
              "      <td>89</td>\n",
              "      <td>2011-01-26</td>\n",
              "      <td>12_量販超市</td>\n",
              "      <td>一般消費</td>\n",
              "      <td>893</td>\n",
              "      <td>國內</td>\n",
              "      <td>True</td>\n",
              "      <td>9 days</td>\n",
              "    </tr>\n",
              "    <tr>\n",
              "      <th>...</th>\n",
              "      <td>...</td>\n",
              "      <td>...</td>\n",
              "      <td>...</td>\n",
              "      <td>...</td>\n",
              "      <td>...</td>\n",
              "      <td>...</td>\n",
              "      <td>...</td>\n",
              "      <td>...</td>\n",
              "      <td>...</td>\n",
              "      <td>...</td>\n",
              "    </tr>\n",
              "    <tr>\n",
              "      <th>7334</th>\n",
              "      <td>28976</td>\n",
              "      <td>6619</td>\n",
              "      <td>19859</td>\n",
              "      <td>2012-10-25</td>\n",
              "      <td>09_餐飲</td>\n",
              "      <td>一般消費</td>\n",
              "      <td>726</td>\n",
              "      <td>國內</td>\n",
              "      <td>True</td>\n",
              "      <td>8 days</td>\n",
              "    </tr>\n",
              "    <tr>\n",
              "      <th>7395</th>\n",
              "      <td>29214</td>\n",
              "      <td>14318</td>\n",
              "      <td>19859</td>\n",
              "      <td>2012-10-30</td>\n",
              "      <td>07_百貨</td>\n",
              "      <td>一般消費</td>\n",
              "      <td>300</td>\n",
              "      <td>國內</td>\n",
              "      <td>True</td>\n",
              "      <td>5 days</td>\n",
              "    </tr>\n",
              "    <tr>\n",
              "      <th>7458</th>\n",
              "      <td>29470</td>\n",
              "      <td>6619</td>\n",
              "      <td>19859</td>\n",
              "      <td>2012-11-06</td>\n",
              "      <td>09_餐飲</td>\n",
              "      <td>一般消費</td>\n",
              "      <td>270</td>\n",
              "      <td>國內</td>\n",
              "      <td>True</td>\n",
              "      <td>7 days</td>\n",
              "    </tr>\n",
              "    <tr>\n",
              "      <th>7549</th>\n",
              "      <td>29805</td>\n",
              "      <td>6619</td>\n",
              "      <td>19859</td>\n",
              "      <td>2012-11-14</td>\n",
              "      <td>16_無店舖</td>\n",
              "      <td>一般消費</td>\n",
              "      <td>1573</td>\n",
              "      <td>國內</td>\n",
              "      <td>True</td>\n",
              "      <td>8 days</td>\n",
              "    </tr>\n",
              "    <tr>\n",
              "      <th>7732</th>\n",
              "      <td>30414</td>\n",
              "      <td>6619</td>\n",
              "      <td>19859</td>\n",
              "      <td>2012-11-28</td>\n",
              "      <td>09_餐飲</td>\n",
              "      <td>一般消費</td>\n",
              "      <td>1023</td>\n",
              "      <td>國內</td>\n",
              "      <td>True</td>\n",
              "      <td>14 days</td>\n",
              "    </tr>\n",
              "  </tbody>\n",
              "</table>\n",
              "<p>5294 rows × 10 columns</p>\n",
              "</div>"
            ],
            "text/plain": [
              "       交易序號  信用卡ID   客戶ID       刷卡日期  ...  刷卡金額 刷卡地點  shift     IPT\n",
              "152     564   8905     89 2010-12-14  ...  1589   國內  False     NaT\n",
              "263    1016   8905     89 2010-12-24  ...  1623   國內   True 10 days\n",
              "414    1546   8905     89 2011-01-05  ...  1545   國內   True 12 days\n",
              "510    2011   8905     89 2011-01-17  ...  1550   國內   True 12 days\n",
              "637    2525  14554     89 2011-01-26  ...   893   國內   True  9 days\n",
              "...     ...    ...    ...        ...  ...   ...  ...    ...     ...\n",
              "7334  28976   6619  19859 2012-10-25  ...   726   國內   True  8 days\n",
              "7395  29214  14318  19859 2012-10-30  ...   300   國內   True  5 days\n",
              "7458  29470   6619  19859 2012-11-06  ...   270   國內   True  7 days\n",
              "7549  29805   6619  19859 2012-11-14  ...  1573   國內   True  8 days\n",
              "7732  30414   6619  19859 2012-11-28  ...  1023   國內   True 14 days\n",
              "\n",
              "[5294 rows x 10 columns]"
            ]
          },
          "metadata": {
            "tags": []
          },
          "execution_count": 180
        }
      ]
    },
    {
      "cell_type": "markdown",
      "metadata": {
        "id": "7u7vTXaOtxns"
      },
      "source": [
        "# **Weighted Intervalpurchase Time**"
      ]
    },
    {
      "cell_type": "code",
      "metadata": {
        "id": "CJbHkurQTBdw"
      },
      "source": [
        "weight = []\n",
        "for row in range(len(df)):\n",
        "    id = df.iloc[row:row+1,:]['客戶ID']\n",
        "    weight.append(len(df.iloc[:row+1,:][df.iloc[:row+1,:]['客戶ID'] == int(id)]) - 1)\n",
        "df['weight'] = weight"
      ],
      "execution_count": 181,
      "outputs": []
    },
    {
      "cell_type": "code",
      "metadata": {
        "id": "0VRQsoNcp_WR"
      },
      "source": [
        "df.drop(df[df['shift'] == False].index, inplace=True)\n",
        "\n",
        "total_weight = []\n",
        "for row in range(len(df)):\n",
        "    id = df.iloc[row:row+1,:]['客戶ID']\n",
        "    total_weight.append(df[df['客戶ID'] == int(id)]['weight'].sum())\n",
        "df['total_weight'] = total_weight"
      ],
      "execution_count": 182,
      "outputs": []
    },
    {
      "cell_type": "code",
      "metadata": {
        "id": "heoWQo-Xm-EI"
      },
      "source": [
        "df['WIPT'] = df.weight * df.IPT / df.total_weight"
      ],
      "execution_count": 184,
      "outputs": []
    },
    {
      "cell_type": "markdown",
      "metadata": {
        "id": "6IClELrot2gU"
      },
      "source": [
        "# **CAI talbe**"
      ]
    },
    {
      "cell_type": "code",
      "metadata": {
        "id": "XzkPwn_GmW0k"
      },
      "source": [
        "CAI = df.drop_duplicates(subset=['客戶ID'], ignore_index=True)[['客戶ID']]"
      ],
      "execution_count": 186,
      "outputs": []
    },
    {
      "cell_type": "code",
      "metadata": {
        "id": "fRM2LqDJndzb"
      },
      "source": [
        "CAI['刷卡次數'] = CAI['客戶ID'].map(creditlog['客戶ID'].value_counts())\n",
        "CAI['消費日數'] = CAI['客戶ID'].map(df['客戶ID'].value_counts())\n",
        "# CAI['MLE'] = CAI['客戶ID'].map(df.groupby(['客戶ID'])['IPT'].apply(lambda x: np.mean(x).days))\n",
        "CAI['MLE'] = CAI['客戶ID'].map(df.groupby(['客戶ID'])['IPT'].mean(numeric_only=False))\n",
        "CAI['WMLE'] = CAI['客戶ID'].map(df.groupby(['客戶ID'])['WIPT'].sum(numeric_only=False))\n",
        "CAI['CAI'] = (CAI['MLE'] - CAI['WMLE']) / CAI['MLE']"
      ],
      "execution_count": 192,
      "outputs": []
    },
    {
      "cell_type": "code",
      "metadata": {
        "id": "wD97mpqNrDjv"
      },
      "source": [
        "CAI = CAI.sort_values(by=['CAI'])\n",
        "quantiles = CAI.quantile(q=[0.2, 0.8])\n",
        "# quantiles"
      ],
      "execution_count": 207,
      "outputs": []
    },
    {
      "cell_type": "code",
      "metadata": {
        "id": "BnFEUb3eqMBV"
      },
      "source": [
        "def CAIClass(x,p,d):\n",
        "    if x <= d[p][0.2]:\n",
        "        return '漸趨靜止群'\n",
        "    elif x < d[p][0.8]:\n",
        "        return '穩定刷卡群'\n",
        "    else:\n",
        "        return '漸趨活躍群'"
      ],
      "execution_count": 208,
      "outputs": []
    },
    {
      "cell_type": "code",
      "metadata": {
        "id": "QhXmskQ8sDbK"
      },
      "source": [
        "CAI['CAI_class'] = CAI['CAI'].apply(CAIClass, args=('CAI',quantiles,))\n",
        "CAI['total_comsumption'] = CAI['客戶ID'].map(creditlog.groupby(['客戶ID'])['刷卡金額'].sum())\n",
        "CAI['avg_comsumption'] = CAI['total_comsumption'] / CAI['刷卡次數']"
      ],
      "execution_count": 209,
      "outputs": []
    },
    {
      "cell_type": "code",
      "metadata": {
        "colab": {
          "base_uri": "https://localhost:8080/",
          "height": 419
        },
        "id": "eg49rv6nsuEe",
        "outputId": "8949f194-5a60-4da5-ea56-2c9443cdfb1a"
      },
      "source": [
        "CAI.sort_values(by=['客戶ID'])"
      ],
      "execution_count": 210,
      "outputs": [
        {
          "output_type": "execute_result",
          "data": {
            "text/html": [
              "<div>\n",
              "<style scoped>\n",
              "    .dataframe tbody tr th:only-of-type {\n",
              "        vertical-align: middle;\n",
              "    }\n",
              "\n",
              "    .dataframe tbody tr th {\n",
              "        vertical-align: top;\n",
              "    }\n",
              "\n",
              "    .dataframe thead th {\n",
              "        text-align: right;\n",
              "    }\n",
              "</style>\n",
              "<table border=\"1\" class=\"dataframe\">\n",
              "  <thead>\n",
              "    <tr style=\"text-align: right;\">\n",
              "      <th></th>\n",
              "      <th>客戶ID</th>\n",
              "      <th>刷卡次數</th>\n",
              "      <th>消費日數</th>\n",
              "      <th>MLE</th>\n",
              "      <th>WMLE</th>\n",
              "      <th>CAI</th>\n",
              "      <th>CAI_class</th>\n",
              "      <th>total_comsumption</th>\n",
              "      <th>avg_comsumption</th>\n",
              "    </tr>\n",
              "  </thead>\n",
              "  <tbody>\n",
              "    <tr>\n",
              "      <th>0</th>\n",
              "      <td>89</td>\n",
              "      <td>85</td>\n",
              "      <td>68</td>\n",
              "      <td>10 days 06:42:21.176470588</td>\n",
              "      <td>11 days 13:41:53.554987179</td>\n",
              "      <td>-0.125625</td>\n",
              "      <td>漸趨靜止群</td>\n",
              "      <td>150681</td>\n",
              "      <td>1772.717647</td>\n",
              "    </tr>\n",
              "    <tr>\n",
              "      <th>1</th>\n",
              "      <td>106</td>\n",
              "      <td>75</td>\n",
              "      <td>66</td>\n",
              "      <td>10 days 19:38:10.909090909</td>\n",
              "      <td>10 days 00:48:11.723202142</td>\n",
              "      <td>0.072536</td>\n",
              "      <td>穩定刷卡群</td>\n",
              "      <td>90192</td>\n",
              "      <td>1202.560000</td>\n",
              "    </tr>\n",
              "    <tr>\n",
              "      <th>2</th>\n",
              "      <td>131</td>\n",
              "      <td>16</td>\n",
              "      <td>14</td>\n",
              "      <td>23 days 12:00:00</td>\n",
              "      <td>26 days 20:06:51.428571424</td>\n",
              "      <td>-0.142047</td>\n",
              "      <td>漸趨靜止群</td>\n",
              "      <td>69558</td>\n",
              "      <td>4347.375000</td>\n",
              "    </tr>\n",
              "    <tr>\n",
              "      <th>3</th>\n",
              "      <td>179</td>\n",
              "      <td>4</td>\n",
              "      <td>3</td>\n",
              "      <td>147 days 00:00:00</td>\n",
              "      <td>164 days 20:00:00</td>\n",
              "      <td>-0.121315</td>\n",
              "      <td>穩定刷卡群</td>\n",
              "      <td>9182</td>\n",
              "      <td>2295.500000</td>\n",
              "    </tr>\n",
              "    <tr>\n",
              "      <th>4</th>\n",
              "      <td>261</td>\n",
              "      <td>13</td>\n",
              "      <td>11</td>\n",
              "      <td>32 days 10:54:32.727272727</td>\n",
              "      <td>28 days 21:05:27.272727268</td>\n",
              "      <td>0.110177</td>\n",
              "      <td>穩定刷卡群</td>\n",
              "      <td>19815</td>\n",
              "      <td>1524.230769</td>\n",
              "    </tr>\n",
              "    <tr>\n",
              "      <th>...</th>\n",
              "      <td>...</td>\n",
              "      <td>...</td>\n",
              "      <td>...</td>\n",
              "      <td>...</td>\n",
              "      <td>...</td>\n",
              "      <td>...</td>\n",
              "      <td>...</td>\n",
              "      <td>...</td>\n",
              "      <td>...</td>\n",
              "    </tr>\n",
              "    <tr>\n",
              "      <th>94</th>\n",
              "      <td>19239</td>\n",
              "      <td>13</td>\n",
              "      <td>11</td>\n",
              "      <td>59 days 04:21:49.090909091</td>\n",
              "      <td>70 days 07:16:21.818181812</td>\n",
              "      <td>-0.187916</td>\n",
              "      <td>漸趨靜止群</td>\n",
              "      <td>40654</td>\n",
              "      <td>3127.230769</td>\n",
              "    </tr>\n",
              "    <tr>\n",
              "      <th>95</th>\n",
              "      <td>19483</td>\n",
              "      <td>107</td>\n",
              "      <td>90</td>\n",
              "      <td>7 days 21:36:00</td>\n",
              "      <td>7 days 06:22:56.703296662</td>\n",
              "      <td>0.080262</td>\n",
              "      <td>穩定刷卡群</td>\n",
              "      <td>185669</td>\n",
              "      <td>1735.224299</td>\n",
              "    </tr>\n",
              "    <tr>\n",
              "      <th>96</th>\n",
              "      <td>19504</td>\n",
              "      <td>98</td>\n",
              "      <td>63</td>\n",
              "      <td>11 days 10:40:00</td>\n",
              "      <td>10 days 21:31:25.714285698</td>\n",
              "      <td>0.047850</td>\n",
              "      <td>穩定刷卡群</td>\n",
              "      <td>95782</td>\n",
              "      <td>977.367347</td>\n",
              "    </tr>\n",
              "    <tr>\n",
              "      <th>97</th>\n",
              "      <td>19639</td>\n",
              "      <td>201</td>\n",
              "      <td>161</td>\n",
              "      <td>4 days 12:04:28.322981366</td>\n",
              "      <td>4 days 09:42:08.364389154</td>\n",
              "      <td>0.021950</td>\n",
              "      <td>穩定刷卡群</td>\n",
              "      <td>326970</td>\n",
              "      <td>1626.716418</td>\n",
              "    </tr>\n",
              "    <tr>\n",
              "      <th>98</th>\n",
              "      <td>19859</td>\n",
              "      <td>84</td>\n",
              "      <td>68</td>\n",
              "      <td>10 days 09:10:35.294117647</td>\n",
              "      <td>10 days 10:36:31.304347792</td>\n",
              "      <td>-0.005748</td>\n",
              "      <td>穩定刷卡群</td>\n",
              "      <td>166470</td>\n",
              "      <td>1981.785714</td>\n",
              "    </tr>\n",
              "  </tbody>\n",
              "</table>\n",
              "<p>99 rows × 9 columns</p>\n",
              "</div>"
            ],
            "text/plain": [
              "     客戶ID  刷卡次數  消費日數  ... CAI_class total_comsumption  avg_comsumption\n",
              "0      89    85    68  ...     漸趨靜止群            150681      1772.717647\n",
              "1     106    75    66  ...     穩定刷卡群             90192      1202.560000\n",
              "2     131    16    14  ...     漸趨靜止群             69558      4347.375000\n",
              "3     179     4     3  ...     穩定刷卡群              9182      2295.500000\n",
              "4     261    13    11  ...     穩定刷卡群             19815      1524.230769\n",
              "..    ...   ...   ...  ...       ...               ...              ...\n",
              "94  19239    13    11  ...     漸趨靜止群             40654      3127.230769\n",
              "95  19483   107    90  ...     穩定刷卡群            185669      1735.224299\n",
              "96  19504    98    63  ...     穩定刷卡群             95782       977.367347\n",
              "97  19639   201   161  ...     穩定刷卡群            326970      1626.716418\n",
              "98  19859    84    68  ...     穩定刷卡群            166470      1981.785714\n",
              "\n",
              "[99 rows x 9 columns]"
            ]
          },
          "metadata": {
            "tags": []
          },
          "execution_count": 210
        }
      ]
    }
  ]
}