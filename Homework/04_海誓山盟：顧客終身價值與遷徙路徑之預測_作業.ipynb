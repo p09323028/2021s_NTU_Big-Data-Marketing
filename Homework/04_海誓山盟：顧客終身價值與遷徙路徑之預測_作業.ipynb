{
  "nbformat": 4,
  "nbformat_minor": 0,
  "metadata": {
    "colab": {
      "name": "04_海誓山盟：顧客終身價值與遷徙路徑之預測_作業.ipynb",
      "provenance": [],
      "collapsed_sections": [],
      "authorship_tag": "ABX9TyP+u1gIbFj/ljbwyBUwMyyJ"
    },
    "kernelspec": {
      "name": "python3",
      "display_name": "Python 3"
    }
  },
  "cells": [
    {
      "cell_type": "markdown",
      "metadata": {
        "id": "K_Un1QPO37gW"
      },
      "source": [
        "Author: Jinze Wu\n",
        "\n",
        "Student Number: p09323028"
      ]
    },
    {
      "cell_type": "code",
      "metadata": {
        "id": "GhMlNdEhPprt"
      },
      "source": [
        "import numpy as np\n",
        "import pandas as pd\n",
        "import datetime as dt"
      ],
      "execution_count": 1,
      "outputs": []
    },
    {
      "cell_type": "markdown",
      "metadata": {
        "id": "h_mZM08MQk5C"
      },
      "source": [
        "# **Download data**\n",
        "Download data from google cloud"
      ]
    },
    {
      "cell_type": "code",
      "metadata": {
        "id": "mM3jAKnDP1h2"
      },
      "source": [
        "!gdown --id '1oTtu7K5NVLCp-RKUuyVtwShLnryIVrKc' --output creditcard.xlsx"
      ],
      "execution_count": null,
      "outputs": []
    },
    {
      "cell_type": "markdown",
      "metadata": {
        "id": "HNZQnbixTLJ_"
      },
      "source": [
        "# **Sheet to DataFrame**"
      ]
    },
    {
      "cell_type": "code",
      "metadata": {
        "id": "HXQMI3IvQdvs"
      },
      "source": [
        "customer = pd.read_excel('creditcard.xlsx', sheet_name='客戶資料檔')\n",
        "creditcard = pd.read_excel('creditcard.xlsx', sheet_name='信用卡資料檔')\n",
        "creditlog = pd.read_excel('creditcard.xlsx', sheet_name='信用卡交易記錄檔')\n",
        "creditlog = creditlog.iloc[:,:8]"
      ],
      "execution_count": 3,
      "outputs": []
    },
    {
      "cell_type": "code",
      "metadata": {
        "colab": {
          "base_uri": "https://localhost:8080/",
          "height": 202
        },
        "id": "xq2YYPBWRBKh",
        "outputId": "84d2bec2-2d42-4e8d-a7cd-60584569aad7"
      },
      "source": [
        "customer.head()"
      ],
      "execution_count": 4,
      "outputs": [
        {
          "output_type": "execute_result",
          "data": {
            "text/html": [
              "<div>\n",
              "<style scoped>\n",
              "    .dataframe tbody tr th:only-of-type {\n",
              "        vertical-align: middle;\n",
              "    }\n",
              "\n",
              "    .dataframe tbody tr th {\n",
              "        vertical-align: top;\n",
              "    }\n",
              "\n",
              "    .dataframe thead th {\n",
              "        text-align: right;\n",
              "    }\n",
              "</style>\n",
              "<table border=\"1\" class=\"dataframe\">\n",
              "  <thead>\n",
              "    <tr style=\"text-align: right;\">\n",
              "      <th></th>\n",
              "      <th>客戶ID</th>\n",
              "      <th>年齡</th>\n",
              "      <th>生日</th>\n",
              "      <th>居住地</th>\n",
              "      <th>教育程度</th>\n",
              "      <th>性別</th>\n",
              "      <th>婚姻狀況</th>\n",
              "      <th>職業</th>\n",
              "      <th>辦第一張信用卡的時間</th>\n",
              "    </tr>\n",
              "  </thead>\n",
              "  <tbody>\n",
              "    <tr>\n",
              "      <th>0</th>\n",
              "      <td>7293</td>\n",
              "      <td>57</td>\n",
              "      <td>1955-08-24</td>\n",
              "      <td>大台北地區</td>\n",
              "      <td>專科</td>\n",
              "      <td>1:男</td>\n",
              "      <td>已婚</td>\n",
              "      <td>公務員</td>\n",
              "      <td>2006-11-27</td>\n",
              "    </tr>\n",
              "    <tr>\n",
              "      <th>1</th>\n",
              "      <td>5963</td>\n",
              "      <td>29</td>\n",
              "      <td>1983-12-05</td>\n",
              "      <td>大台北地區</td>\n",
              "      <td>學士</td>\n",
              "      <td>1:男</td>\n",
              "      <td>單身</td>\n",
              "      <td>白領一般職員</td>\n",
              "      <td>2009-07-24</td>\n",
              "    </tr>\n",
              "    <tr>\n",
              "      <th>2</th>\n",
              "      <td>18700</td>\n",
              "      <td>27</td>\n",
              "      <td>1985-12-20</td>\n",
              "      <td>高屏地區</td>\n",
              "      <td>高中</td>\n",
              "      <td>1:男</td>\n",
              "      <td>單身</td>\n",
              "      <td>藍領(勞動工作或作業員)一般職員</td>\n",
              "      <td>2009-09-22</td>\n",
              "    </tr>\n",
              "    <tr>\n",
              "      <th>3</th>\n",
              "      <td>920</td>\n",
              "      <td>39</td>\n",
              "      <td>1973-05-29</td>\n",
              "      <td>大台北地區</td>\n",
              "      <td>學士</td>\n",
              "      <td>1:男</td>\n",
              "      <td>已婚</td>\n",
              "      <td>自營事業老闆</td>\n",
              "      <td>2010-03-05</td>\n",
              "    </tr>\n",
              "    <tr>\n",
              "      <th>4</th>\n",
              "      <td>4612</td>\n",
              "      <td>26</td>\n",
              "      <td>1986-01-06</td>\n",
              "      <td>嘉南地區</td>\n",
              "      <td>學士</td>\n",
              "      <td>1:男</td>\n",
              "      <td>單身</td>\n",
              "      <td>白領一般職員</td>\n",
              "      <td>2010-08-05</td>\n",
              "    </tr>\n",
              "  </tbody>\n",
              "</table>\n",
              "</div>"
            ],
            "text/plain": [
              "    客戶ID  年齡         生日    居住地 教育程度   性別 婚姻狀況                職業 辦第一張信用卡的時間\n",
              "0   7293  57 1955-08-24  大台北地區   專科  1:男   已婚               公務員 2006-11-27\n",
              "1   5963  29 1983-12-05  大台北地區   學士  1:男   單身            白領一般職員 2009-07-24\n",
              "2  18700  27 1985-12-20   高屏地區   高中  1:男   單身  藍領(勞動工作或作業員)一般職員 2009-09-22\n",
              "3    920  39 1973-05-29  大台北地區   學士  1:男   已婚            自營事業老闆 2010-03-05\n",
              "4   4612  26 1986-01-06   嘉南地區   學士  1:男   單身            白領一般職員 2010-08-05"
            ]
          },
          "metadata": {
            "tags": []
          },
          "execution_count": 4
        }
      ]
    },
    {
      "cell_type": "code",
      "metadata": {
        "colab": {
          "base_uri": "https://localhost:8080/",
          "height": 202
        },
        "id": "gqB8PgLZREGh",
        "outputId": "b63a2884-b65b-4436-e7c1-8de0f4cd45f4"
      },
      "source": [
        "creditcard.head()"
      ],
      "execution_count": 5,
      "outputs": [
        {
          "output_type": "execute_result",
          "data": {
            "text/html": [
              "<div>\n",
              "<style scoped>\n",
              "    .dataframe tbody tr th:only-of-type {\n",
              "        vertical-align: middle;\n",
              "    }\n",
              "\n",
              "    .dataframe tbody tr th {\n",
              "        vertical-align: top;\n",
              "    }\n",
              "\n",
              "    .dataframe thead th {\n",
              "        text-align: right;\n",
              "    }\n",
              "</style>\n",
              "<table border=\"1\" class=\"dataframe\">\n",
              "  <thead>\n",
              "    <tr style=\"text-align: right;\">\n",
              "      <th></th>\n",
              "      <th>信用卡ID</th>\n",
              "      <th>客戶ID</th>\n",
              "      <th>信用卡開卡日</th>\n",
              "      <th>信用卡到期日</th>\n",
              "      <th>信用額度</th>\n",
              "      <th>卡等</th>\n",
              "    </tr>\n",
              "  </thead>\n",
              "  <tbody>\n",
              "    <tr>\n",
              "      <th>0</th>\n",
              "      <td>41</td>\n",
              "      <td>2027</td>\n",
              "      <td>2006-05-19</td>\n",
              "      <td>2015-08-31</td>\n",
              "      <td>500000</td>\n",
              "      <td>金卡</td>\n",
              "    </tr>\n",
              "    <tr>\n",
              "      <th>1</th>\n",
              "      <td>814</td>\n",
              "      <td>7437</td>\n",
              "      <td>2002-01-14</td>\n",
              "      <td>2016-01-31</td>\n",
              "      <td>200000</td>\n",
              "      <td>普卡</td>\n",
              "    </tr>\n",
              "    <tr>\n",
              "      <th>2</th>\n",
              "      <td>905</td>\n",
              "      <td>6475</td>\n",
              "      <td>2002-05-07</td>\n",
              "      <td>2016-05-31</td>\n",
              "      <td>50000</td>\n",
              "      <td>普卡</td>\n",
              "    </tr>\n",
              "    <tr>\n",
              "      <th>3</th>\n",
              "      <td>1142</td>\n",
              "      <td>18841</td>\n",
              "      <td>2001-07-23</td>\n",
              "      <td>2015-07-31</td>\n",
              "      <td>250000</td>\n",
              "      <td>金卡</td>\n",
              "    </tr>\n",
              "    <tr>\n",
              "      <th>4</th>\n",
              "      <td>1411</td>\n",
              "      <td>14127</td>\n",
              "      <td>2005-10-03</td>\n",
              "      <td>2016-06-30</td>\n",
              "      <td>270000</td>\n",
              "      <td>白金卡</td>\n",
              "    </tr>\n",
              "  </tbody>\n",
              "</table>\n",
              "</div>"
            ],
            "text/plain": [
              "   信用卡ID   客戶ID     信用卡開卡日     信用卡到期日    信用額度   卡等\n",
              "0     41   2027 2006-05-19 2015-08-31  500000   金卡\n",
              "1    814   7437 2002-01-14 2016-01-31  200000   普卡\n",
              "2    905   6475 2002-05-07 2016-05-31   50000   普卡\n",
              "3   1142  18841 2001-07-23 2015-07-31  250000   金卡\n",
              "4   1411  14127 2005-10-03 2016-06-30  270000  白金卡"
            ]
          },
          "metadata": {
            "tags": []
          },
          "execution_count": 5
        }
      ]
    },
    {
      "cell_type": "code",
      "metadata": {
        "colab": {
          "base_uri": "https://localhost:8080/",
          "height": 202
        },
        "id": "YusOHHd2Tt1P",
        "outputId": "1f97f477-04b2-4c70-d5f1-2c086281f73d"
      },
      "source": [
        "creditlog.head()"
      ],
      "execution_count": 6,
      "outputs": [
        {
          "output_type": "execute_result",
          "data": {
            "text/html": [
              "<div>\n",
              "<style scoped>\n",
              "    .dataframe tbody tr th:only-of-type {\n",
              "        vertical-align: middle;\n",
              "    }\n",
              "\n",
              "    .dataframe tbody tr th {\n",
              "        vertical-align: top;\n",
              "    }\n",
              "\n",
              "    .dataframe thead th {\n",
              "        text-align: right;\n",
              "    }\n",
              "</style>\n",
              "<table border=\"1\" class=\"dataframe\">\n",
              "  <thead>\n",
              "    <tr style=\"text-align: right;\">\n",
              "      <th></th>\n",
              "      <th>交易序號</th>\n",
              "      <th>信用卡ID</th>\n",
              "      <th>客戶ID</th>\n",
              "      <th>刷卡日期</th>\n",
              "      <th>刷卡產品產業分類</th>\n",
              "      <th>刷卡類型</th>\n",
              "      <th>刷卡金額</th>\n",
              "      <th>刷卡地點</th>\n",
              "    </tr>\n",
              "  </thead>\n",
              "  <tbody>\n",
              "    <tr>\n",
              "      <th>0</th>\n",
              "      <td>8</td>\n",
              "      <td>6448</td>\n",
              "      <td>15195</td>\n",
              "      <td>2010-12-01</td>\n",
              "      <td>14_旅遊</td>\n",
              "      <td>一般消費</td>\n",
              "      <td>5200</td>\n",
              "      <td>國內</td>\n",
              "    </tr>\n",
              "    <tr>\n",
              "      <th>1</th>\n",
              "      <td>9</td>\n",
              "      <td>6826</td>\n",
              "      <td>13687</td>\n",
              "      <td>2010-12-01</td>\n",
              "      <td>12_量販超市</td>\n",
              "      <td>一般消費</td>\n",
              "      <td>250</td>\n",
              "      <td>國內</td>\n",
              "    </tr>\n",
              "    <tr>\n",
              "      <th>2</th>\n",
              "      <td>10</td>\n",
              "      <td>6826</td>\n",
              "      <td>13687</td>\n",
              "      <td>2010-12-01</td>\n",
              "      <td>12_量販超市</td>\n",
              "      <td>一般消費</td>\n",
              "      <td>1316</td>\n",
              "      <td>國內</td>\n",
              "    </tr>\n",
              "    <tr>\n",
              "      <th>3</th>\n",
              "      <td>11</td>\n",
              "      <td>7896</td>\n",
              "      <td>179</td>\n",
              "      <td>2010-12-01</td>\n",
              "      <td>10_藥妝</td>\n",
              "      <td>一般消費</td>\n",
              "      <td>218</td>\n",
              "      <td>國內</td>\n",
              "    </tr>\n",
              "    <tr>\n",
              "      <th>4</th>\n",
              "      <td>20</td>\n",
              "      <td>9387</td>\n",
              "      <td>16756</td>\n",
              "      <td>2010-12-01</td>\n",
              "      <td>11_3C居家電信</td>\n",
              "      <td>一般消費</td>\n",
              "      <td>2610</td>\n",
              "      <td>國內</td>\n",
              "    </tr>\n",
              "  </tbody>\n",
              "</table>\n",
              "</div>"
            ],
            "text/plain": [
              "   交易序號  信用卡ID   客戶ID       刷卡日期   刷卡產品產業分類  刷卡類型  刷卡金額 刷卡地點\n",
              "0     8   6448  15195 2010-12-01      14_旅遊  一般消費  5200   國內\n",
              "1     9   6826  13687 2010-12-01    12_量販超市  一般消費   250   國內\n",
              "2    10   6826  13687 2010-12-01    12_量販超市  一般消費  1316   國內\n",
              "3    11   7896    179 2010-12-01      10_藥妝  一般消費   218   國內\n",
              "4    20   9387  16756 2010-12-01  11_3C居家電信  一般消費  2610   國內"
            ]
          },
          "metadata": {
            "tags": []
          },
          "execution_count": 6
        }
      ]
    },
    {
      "cell_type": "markdown",
      "metadata": {
        "id": "FXzsBUGTTui9"
      },
      "source": [
        "# **Clusters**"
      ]
    },
    {
      "cell_type": "code",
      "metadata": {
        "id": "Frps8NgCyXGP"
      },
      "source": [
        "def classifier(df):\n",
        "    if (df['性別'] == '1:男') and (df['婚姻狀況'] == '單身'):\n",
        "        return 1\n",
        "    if (df['性別'] == '1:男') and (df['婚姻狀況'] == '已婚'):\n",
        "        return 2\n",
        "    if (df['性別'] == '2:女') and (df['婚姻狀況'] == '單身'):\n",
        "        return 3\n",
        "    else: return 4"
      ],
      "execution_count": 7,
      "outputs": []
    },
    {
      "cell_type": "code",
      "metadata": {
        "id": "E33R4iyEVA_1"
      },
      "source": [
        "customer['cluster'] = customer.apply(classifier, axis=1)"
      ],
      "execution_count": 8,
      "outputs": []
    },
    {
      "cell_type": "code",
      "metadata": {
        "colab": {
          "base_uri": "https://localhost:8080/",
          "height": 415
        },
        "id": "HPutRR0-gTx5",
        "outputId": "b0d68e56-8a7c-4b1a-c693-6b256095fcac"
      },
      "source": [
        "customer"
      ],
      "execution_count": 9,
      "outputs": [
        {
          "output_type": "execute_result",
          "data": {
            "text/html": [
              "<div>\n",
              "<style scoped>\n",
              "    .dataframe tbody tr th:only-of-type {\n",
              "        vertical-align: middle;\n",
              "    }\n",
              "\n",
              "    .dataframe tbody tr th {\n",
              "        vertical-align: top;\n",
              "    }\n",
              "\n",
              "    .dataframe thead th {\n",
              "        text-align: right;\n",
              "    }\n",
              "</style>\n",
              "<table border=\"1\" class=\"dataframe\">\n",
              "  <thead>\n",
              "    <tr style=\"text-align: right;\">\n",
              "      <th></th>\n",
              "      <th>客戶ID</th>\n",
              "      <th>年齡</th>\n",
              "      <th>生日</th>\n",
              "      <th>居住地</th>\n",
              "      <th>教育程度</th>\n",
              "      <th>性別</th>\n",
              "      <th>婚姻狀況</th>\n",
              "      <th>職業</th>\n",
              "      <th>辦第一張信用卡的時間</th>\n",
              "      <th>cluster</th>\n",
              "    </tr>\n",
              "  </thead>\n",
              "  <tbody>\n",
              "    <tr>\n",
              "      <th>0</th>\n",
              "      <td>7293</td>\n",
              "      <td>57</td>\n",
              "      <td>1955-08-24</td>\n",
              "      <td>大台北地區</td>\n",
              "      <td>專科</td>\n",
              "      <td>1:男</td>\n",
              "      <td>已婚</td>\n",
              "      <td>公務員</td>\n",
              "      <td>2006-11-27</td>\n",
              "      <td>2</td>\n",
              "    </tr>\n",
              "    <tr>\n",
              "      <th>1</th>\n",
              "      <td>5963</td>\n",
              "      <td>29</td>\n",
              "      <td>1983-12-05</td>\n",
              "      <td>大台北地區</td>\n",
              "      <td>學士</td>\n",
              "      <td>1:男</td>\n",
              "      <td>單身</td>\n",
              "      <td>白領一般職員</td>\n",
              "      <td>2009-07-24</td>\n",
              "      <td>1</td>\n",
              "    </tr>\n",
              "    <tr>\n",
              "      <th>2</th>\n",
              "      <td>18700</td>\n",
              "      <td>27</td>\n",
              "      <td>1985-12-20</td>\n",
              "      <td>高屏地區</td>\n",
              "      <td>高中</td>\n",
              "      <td>1:男</td>\n",
              "      <td>單身</td>\n",
              "      <td>藍領(勞動工作或作業員)一般職員</td>\n",
              "      <td>2009-09-22</td>\n",
              "      <td>1</td>\n",
              "    </tr>\n",
              "    <tr>\n",
              "      <th>3</th>\n",
              "      <td>920</td>\n",
              "      <td>39</td>\n",
              "      <td>1973-05-29</td>\n",
              "      <td>大台北地區</td>\n",
              "      <td>學士</td>\n",
              "      <td>1:男</td>\n",
              "      <td>已婚</td>\n",
              "      <td>自營事業老闆</td>\n",
              "      <td>2010-03-05</td>\n",
              "      <td>2</td>\n",
              "    </tr>\n",
              "    <tr>\n",
              "      <th>4</th>\n",
              "      <td>4612</td>\n",
              "      <td>26</td>\n",
              "      <td>1986-01-06</td>\n",
              "      <td>嘉南地區</td>\n",
              "      <td>學士</td>\n",
              "      <td>1:男</td>\n",
              "      <td>單身</td>\n",
              "      <td>白領一般職員</td>\n",
              "      <td>2010-08-05</td>\n",
              "      <td>1</td>\n",
              "    </tr>\n",
              "    <tr>\n",
              "      <th>...</th>\n",
              "      <td>...</td>\n",
              "      <td>...</td>\n",
              "      <td>...</td>\n",
              "      <td>...</td>\n",
              "      <td>...</td>\n",
              "      <td>...</td>\n",
              "      <td>...</td>\n",
              "      <td>...</td>\n",
              "      <td>...</td>\n",
              "      <td>...</td>\n",
              "    </tr>\n",
              "    <tr>\n",
              "      <th>95</th>\n",
              "      <td>1611</td>\n",
              "      <td>64</td>\n",
              "      <td>1948-03-30</td>\n",
              "      <td>大台北地區</td>\n",
              "      <td>專科</td>\n",
              "      <td>2:女</td>\n",
              "      <td>已婚</td>\n",
              "      <td>白領主管</td>\n",
              "      <td>2003-09-17</td>\n",
              "      <td>4</td>\n",
              "    </tr>\n",
              "    <tr>\n",
              "      <th>96</th>\n",
              "      <td>11368</td>\n",
              "      <td>39</td>\n",
              "      <td>1973-02-06</td>\n",
              "      <td>台中地區</td>\n",
              "      <td>研究所以上</td>\n",
              "      <td>1:男</td>\n",
              "      <td>單身</td>\n",
              "      <td>白領一般職員</td>\n",
              "      <td>2001-11-26</td>\n",
              "      <td>1</td>\n",
              "    </tr>\n",
              "    <tr>\n",
              "      <th>97</th>\n",
              "      <td>867</td>\n",
              "      <td>47</td>\n",
              "      <td>1965-10-28</td>\n",
              "      <td>大台北地區</td>\n",
              "      <td>高中</td>\n",
              "      <td>1:男</td>\n",
              "      <td>已婚</td>\n",
              "      <td>白領主管</td>\n",
              "      <td>2002-10-11</td>\n",
              "      <td>2</td>\n",
              "    </tr>\n",
              "    <tr>\n",
              "      <th>98</th>\n",
              "      <td>17157</td>\n",
              "      <td>44</td>\n",
              "      <td>1968-02-16</td>\n",
              "      <td>高屏地區</td>\n",
              "      <td>專科</td>\n",
              "      <td>1:男</td>\n",
              "      <td>已婚</td>\n",
              "      <td>白領一般職員</td>\n",
              "      <td>2005-08-29</td>\n",
              "      <td>2</td>\n",
              "    </tr>\n",
              "    <tr>\n",
              "      <th>99</th>\n",
              "      <td>13687</td>\n",
              "      <td>46</td>\n",
              "      <td>1966-03-11</td>\n",
              "      <td>大台北地區</td>\n",
              "      <td>研究所以上</td>\n",
              "      <td>2:女</td>\n",
              "      <td>已婚</td>\n",
              "      <td>專業(技術)人員</td>\n",
              "      <td>2008-08-18</td>\n",
              "      <td>4</td>\n",
              "    </tr>\n",
              "  </tbody>\n",
              "</table>\n",
              "<p>100 rows × 10 columns</p>\n",
              "</div>"
            ],
            "text/plain": [
              "     客戶ID  年齡         生日    居住地  ... 婚姻狀況                職業 辦第一張信用卡的時間 cluster\n",
              "0    7293  57 1955-08-24  大台北地區  ...   已婚               公務員 2006-11-27       2\n",
              "1    5963  29 1983-12-05  大台北地區  ...   單身            白領一般職員 2009-07-24       1\n",
              "2   18700  27 1985-12-20   高屏地區  ...   單身  藍領(勞動工作或作業員)一般職員 2009-09-22       1\n",
              "3     920  39 1973-05-29  大台北地區  ...   已婚            自營事業老闆 2010-03-05       2\n",
              "4    4612  26 1986-01-06   嘉南地區  ...   單身            白領一般職員 2010-08-05       1\n",
              "..    ...  ..        ...    ...  ...  ...               ...        ...     ...\n",
              "95   1611  64 1948-03-30  大台北地區  ...   已婚              白領主管 2003-09-17       4\n",
              "96  11368  39 1973-02-06   台中地區  ...   單身            白領一般職員 2001-11-26       1\n",
              "97    867  47 1965-10-28  大台北地區  ...   已婚              白領主管 2002-10-11       2\n",
              "98  17157  44 1968-02-16   高屏地區  ...   已婚            白領一般職員 2005-08-29       2\n",
              "99  13687  46 1966-03-11  大台北地區  ...   已婚          專業(技術)人員 2008-08-18       4\n",
              "\n",
              "[100 rows x 10 columns]"
            ]
          },
          "metadata": {
            "tags": []
          },
          "execution_count": 9
        }
      ]
    },
    {
      "cell_type": "markdown",
      "metadata": {
        "id": "epGNq0c7h5ow"
      },
      "source": [
        "# **Individual Estimator**"
      ]
    },
    {
      "cell_type": "code",
      "metadata": {
        "id": "kxSgKHS-WTUx"
      },
      "source": [
        "IE = customer.drop_duplicates(subset=['客戶ID'], ignore_index=True)[['客戶ID']]"
      ],
      "execution_count": 10,
      "outputs": []
    },
    {
      "cell_type": "code",
      "metadata": {
        "id": "AkvcQLCphPyk"
      },
      "source": [
        "IE['mean_ie'] = IE['客戶ID'].map(creditlog.groupby(by=['客戶ID']).mean()['刷卡金額'])\n",
        "IE['var_ie'] = IE['客戶ID'].map(creditlog.groupby(by=['客戶ID']).var()['刷卡金額'])"
      ],
      "execution_count": 11,
      "outputs": []
    },
    {
      "cell_type": "markdown",
      "metadata": {
        "id": "z4sbu5TzisQA"
      },
      "source": [
        "# **Group Estimator**"
      ]
    },
    {
      "cell_type": "code",
      "metadata": {
        "id": "qfVM6RTwjPFZ"
      },
      "source": [
        "df = pd.merge(creditlog, customer, how='left', on='客戶ID')"
      ],
      "execution_count": 12,
      "outputs": []
    },
    {
      "cell_type": "code",
      "metadata": {
        "id": "HKDAI4FaWTwF"
      },
      "source": [
        "GE = customer.drop_duplicates(subset=['cluster'], ignore_index=True)[['cluster']]"
      ],
      "execution_count": 13,
      "outputs": []
    },
    {
      "cell_type": "code",
      "metadata": {
        "id": "vTZsvdKNjoj8"
      },
      "source": [
        "GE['mean_ge'] = GE['cluster'].map(df.groupby(by=['cluster']).mean()['刷卡金額'])\n",
        "GE['var_ge'] = GE['cluster'].map(df.groupby(by=['cluster']).var()['刷卡金額'])"
      ],
      "execution_count": 14,
      "outputs": []
    },
    {
      "cell_type": "markdown",
      "metadata": {
        "id": "4o8pMEBfi0S5"
      },
      "source": [
        "# **CRI**"
      ]
    },
    {
      "cell_type": "code",
      "metadata": {
        "id": "Y9QDjxsdbGJV"
      },
      "source": [
        "CRI = customer.drop_duplicates(subset=['客戶ID'], ignore_index=True)[['客戶ID','cluster']]"
      ],
      "execution_count": 31,
      "outputs": []
    },
    {
      "cell_type": "code",
      "metadata": {
        "id": "tAONr_3wm9z1"
      },
      "source": [
        "CRI['刷卡次數'] = CRI['客戶ID'].map(creditlog['客戶ID'].value_counts())"
      ],
      "execution_count": 32,
      "outputs": []
    },
    {
      "cell_type": "code",
      "metadata": {
        "id": "UZV8EOWAkTRp"
      },
      "source": [
        "CRI['mean_ie'] = CRI['客戶ID'].map(IE.groupby(by=['客戶ID']).mean()['mean_ie'])\n",
        "CRI['var_ie'] = CRI['客戶ID'].map(IE.groupby(by=['客戶ID']).mean()['var_ie'])\n",
        "\n",
        "CRI['mean_ge'] = CRI['cluster'].map(GE.groupby(by=['cluster']).mean()['mean_ge'])\n",
        "CRI['var_ge'] = CRI['cluster'].map(GE.groupby(by=['cluster']).mean()['var_ge'])"
      ],
      "execution_count": 33,
      "outputs": []
    },
    {
      "cell_type": "code",
      "metadata": {
        "id": "_bedRl8KkTt3"
      },
      "source": [
        "CRI['be'] = (CRI.mean_ie*CRI.var_ge+CRI.mean_ge*CRI.var_ie/CRI['刷卡次數'])/(CRI.var_ge+CRI.var_ie/CRI['刷卡次數'])"
      ],
      "execution_count": 40,
      "outputs": []
    },
    {
      "cell_type": "code",
      "metadata": {
        "id": "17nsX-YAlZja"
      },
      "source": [
        "CRI['CRI'] = (CRI.mean_ie - CRI.be) / (CRI.mean_ie - CRI.mean_ge) * 100"
      ],
      "execution_count": 41,
      "outputs": []
    },
    {
      "cell_type": "code",
      "metadata": {
        "colab": {
          "base_uri": "https://localhost:8080/",
          "height": 415
        },
        "id": "bZA8qt-tr__S",
        "outputId": "7d0df14e-2ea1-4c31-b1e2-83f08aca50a0"
      },
      "source": [
        "CRI.sort_values('客戶ID')"
      ],
      "execution_count": 42,
      "outputs": [
        {
          "output_type": "execute_result",
          "data": {
            "text/html": [
              "<div>\n",
              "<style scoped>\n",
              "    .dataframe tbody tr th:only-of-type {\n",
              "        vertical-align: middle;\n",
              "    }\n",
              "\n",
              "    .dataframe tbody tr th {\n",
              "        vertical-align: top;\n",
              "    }\n",
              "\n",
              "    .dataframe thead th {\n",
              "        text-align: right;\n",
              "    }\n",
              "</style>\n",
              "<table border=\"1\" class=\"dataframe\">\n",
              "  <thead>\n",
              "    <tr style=\"text-align: right;\">\n",
              "      <th></th>\n",
              "      <th>客戶ID</th>\n",
              "      <th>cluster</th>\n",
              "      <th>刷卡次數</th>\n",
              "      <th>mean_ie</th>\n",
              "      <th>var_ie</th>\n",
              "      <th>mean_ge</th>\n",
              "      <th>var_ge</th>\n",
              "      <th>be</th>\n",
              "      <th>CRI</th>\n",
              "    </tr>\n",
              "  </thead>\n",
              "  <tbody>\n",
              "    <tr>\n",
              "      <th>83</th>\n",
              "      <td>89</td>\n",
              "      <td>2</td>\n",
              "      <td>85</td>\n",
              "      <td>1772.717647</td>\n",
              "      <td>1.054061e+07</td>\n",
              "      <td>1656.062536</td>\n",
              "      <td>3.385888e+07</td>\n",
              "      <td>1772.291960</td>\n",
              "      <td>0.364911</td>\n",
              "    </tr>\n",
              "    <tr>\n",
              "      <th>73</th>\n",
              "      <td>106</td>\n",
              "      <td>2</td>\n",
              "      <td>75</td>\n",
              "      <td>1202.560000</td>\n",
              "      <td>6.690882e+06</td>\n",
              "      <td>1656.062536</td>\n",
              "      <td>3.385888e+07</td>\n",
              "      <td>1203.751754</td>\n",
              "      <td>0.262789</td>\n",
              "    </tr>\n",
              "    <tr>\n",
              "      <th>90</th>\n",
              "      <td>131</td>\n",
              "      <td>2</td>\n",
              "      <td>16</td>\n",
              "      <td>4347.375000</td>\n",
              "      <td>1.148968e+08</td>\n",
              "      <td>1656.062536</td>\n",
              "      <td>3.385888e+07</td>\n",
              "      <td>3876.456638</td>\n",
              "      <td>17.497722</td>\n",
              "    </tr>\n",
              "    <tr>\n",
              "      <th>80</th>\n",
              "      <td>179</td>\n",
              "      <td>2</td>\n",
              "      <td>4</td>\n",
              "      <td>2295.500000</td>\n",
              "      <td>2.542940e+06</td>\n",
              "      <td>1656.062536</td>\n",
              "      <td>3.385888e+07</td>\n",
              "      <td>2283.715182</td>\n",
              "      <td>1.842998</td>\n",
              "    </tr>\n",
              "    <tr>\n",
              "      <th>9</th>\n",
              "      <td>261</td>\n",
              "      <td>2</td>\n",
              "      <td>13</td>\n",
              "      <td>1524.230769</td>\n",
              "      <td>1.184193e+06</td>\n",
              "      <td>1656.062536</td>\n",
              "      <td>3.385888e+07</td>\n",
              "      <td>1524.584489</td>\n",
              "      <td>0.268312</td>\n",
              "    </tr>\n",
              "    <tr>\n",
              "      <th>...</th>\n",
              "      <td>...</td>\n",
              "      <td>...</td>\n",
              "      <td>...</td>\n",
              "      <td>...</td>\n",
              "      <td>...</td>\n",
              "      <td>...</td>\n",
              "      <td>...</td>\n",
              "      <td>...</td>\n",
              "      <td>...</td>\n",
              "    </tr>\n",
              "    <tr>\n",
              "      <th>24</th>\n",
              "      <td>19239</td>\n",
              "      <td>4</td>\n",
              "      <td>13</td>\n",
              "      <td>3127.230769</td>\n",
              "      <td>1.749050e+07</td>\n",
              "      <td>2688.464823</td>\n",
              "      <td>3.209252e+07</td>\n",
              "      <td>3109.576397</td>\n",
              "      <td>4.023642</td>\n",
              "    </tr>\n",
              "    <tr>\n",
              "      <th>72</th>\n",
              "      <td>19483</td>\n",
              "      <td>3</td>\n",
              "      <td>107</td>\n",
              "      <td>1735.224299</td>\n",
              "      <td>5.004884e+06</td>\n",
              "      <td>1426.744349</td>\n",
              "      <td>2.495288e+07</td>\n",
              "      <td>1734.647130</td>\n",
              "      <td>0.187101</td>\n",
              "    </tr>\n",
              "    <tr>\n",
              "      <th>50</th>\n",
              "      <td>19504</td>\n",
              "      <td>2</td>\n",
              "      <td>98</td>\n",
              "      <td>977.367347</td>\n",
              "      <td>1.478409e+06</td>\n",
              "      <td>1656.062536</td>\n",
              "      <td>3.385888e+07</td>\n",
              "      <td>977.669605</td>\n",
              "      <td>0.044535</td>\n",
              "    </tr>\n",
              "    <tr>\n",
              "      <th>91</th>\n",
              "      <td>19639</td>\n",
              "      <td>2</td>\n",
              "      <td>201</td>\n",
              "      <td>1626.716418</td>\n",
              "      <td>1.412979e+07</td>\n",
              "      <td>1656.062536</td>\n",
              "      <td>3.385888e+07</td>\n",
              "      <td>1626.777220</td>\n",
              "      <td>0.207189</td>\n",
              "    </tr>\n",
              "    <tr>\n",
              "      <th>94</th>\n",
              "      <td>19859</td>\n",
              "      <td>1</td>\n",
              "      <td>84</td>\n",
              "      <td>1981.785714</td>\n",
              "      <td>1.216039e+07</td>\n",
              "      <td>2076.706154</td>\n",
              "      <td>6.425497e+07</td>\n",
              "      <td>1981.999089</td>\n",
              "      <td>0.224794</td>\n",
              "    </tr>\n",
              "  </tbody>\n",
              "</table>\n",
              "<p>100 rows × 9 columns</p>\n",
              "</div>"
            ],
            "text/plain": [
              "     客戶ID  cluster  刷卡次數  ...        var_ge           be        CRI\n",
              "83     89        2    85  ...  3.385888e+07  1772.291960   0.364911\n",
              "73    106        2    75  ...  3.385888e+07  1203.751754   0.262789\n",
              "90    131        2    16  ...  3.385888e+07  3876.456638  17.497722\n",
              "80    179        2     4  ...  3.385888e+07  2283.715182   1.842998\n",
              "9     261        2    13  ...  3.385888e+07  1524.584489   0.268312\n",
              "..    ...      ...   ...  ...           ...          ...        ...\n",
              "24  19239        4    13  ...  3.209252e+07  3109.576397   4.023642\n",
              "72  19483        3   107  ...  2.495288e+07  1734.647130   0.187101\n",
              "50  19504        2    98  ...  3.385888e+07   977.669605   0.044535\n",
              "91  19639        2   201  ...  3.385888e+07  1626.777220   0.207189\n",
              "94  19859        1    84  ...  6.425497e+07  1981.999089   0.224794\n",
              "\n",
              "[100 rows x 9 columns]"
            ]
          },
          "metadata": {
            "tags": []
          },
          "execution_count": 42
        }
      ]
    }
  ]
}