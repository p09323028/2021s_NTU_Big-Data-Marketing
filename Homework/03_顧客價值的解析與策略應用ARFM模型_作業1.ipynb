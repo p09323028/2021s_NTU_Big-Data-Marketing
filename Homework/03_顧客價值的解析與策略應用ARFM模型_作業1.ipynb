{
  "nbformat": 4,
  "nbformat_minor": 0,
  "metadata": {
    "colab": {
      "name": "03_顧客價值的解析與策略應用ARFM模型_作業1.ipynb",
      "provenance": [],
      "collapsed_sections": [],
      "toc_visible": true,
      "authorship_tag": "ABX9TyOQKgrOsdIhU7D6+akw5c5u"
    },
    "kernelspec": {
      "name": "python3",
      "display_name": "Python 3"
    }
  },
  "cells": [
    {
      "cell_type": "markdown",
      "metadata": {
        "id": "WAW7hQi6HtuM"
      },
      "source": [
        "Author: Jinze Wu\n",
        "\n",
        "Student Number: p09323028"
      ]
    },
    {
      "cell_type": "code",
      "metadata": {
        "id": "GhMlNdEhPprt"
      },
      "source": [
        "import pandas as pd\n",
        "import datetime as dt"
      ],
      "execution_count": null,
      "outputs": []
    },
    {
      "cell_type": "markdown",
      "metadata": {
        "id": "h_mZM08MQk5C"
      },
      "source": [
        "# **Download data**\n",
        "Download data from google cloud"
      ]
    },
    {
      "cell_type": "code",
      "metadata": {
        "id": "mM3jAKnDP1h2"
      },
      "source": [
        "!gdown --id '1oTtu7K5NVLCp-RKUuyVtwShLnryIVrKc' --output creditcard.xlsx\n",
        "!ls"
      ],
      "execution_count": null,
      "outputs": []
    },
    {
      "cell_type": "markdown",
      "metadata": {
        "id": "HNZQnbixTLJ_"
      },
      "source": [
        "# **Sheet to DataFrame**"
      ]
    },
    {
      "cell_type": "code",
      "metadata": {
        "id": "HXQMI3IvQdvs"
      },
      "source": [
        "customer = pd.read_excel('creditcard.xlsx', sheet_name='客戶資料檔')\n",
        "creditcard = pd.read_excel('creditcard.xlsx', sheet_name='信用卡資料檔')\n",
        "creditlog = pd.read_excel('creditcard.xlsx', sheet_name='信用卡交易記錄檔')\n",
        "creditlog = creditlog.iloc[:,:8]"
      ],
      "execution_count": null,
      "outputs": []
    },
    {
      "cell_type": "code",
      "metadata": {
        "colab": {
          "base_uri": "https://localhost:8080/",
          "height": 204
        },
        "id": "xq2YYPBWRBKh",
        "outputId": "425ce049-3cba-4898-8068-0f880fd3a297"
      },
      "source": [
        "customer.head()"
      ],
      "execution_count": null,
      "outputs": [
        {
          "output_type": "execute_result",
          "data": {
            "text/html": [
              "<div>\n",
              "<style scoped>\n",
              "    .dataframe tbody tr th:only-of-type {\n",
              "        vertical-align: middle;\n",
              "    }\n",
              "\n",
              "    .dataframe tbody tr th {\n",
              "        vertical-align: top;\n",
              "    }\n",
              "\n",
              "    .dataframe thead th {\n",
              "        text-align: right;\n",
              "    }\n",
              "</style>\n",
              "<table border=\"1\" class=\"dataframe\">\n",
              "  <thead>\n",
              "    <tr style=\"text-align: right;\">\n",
              "      <th></th>\n",
              "      <th>客戶ID</th>\n",
              "      <th>年齡</th>\n",
              "      <th>生日</th>\n",
              "      <th>居住地</th>\n",
              "      <th>教育程度</th>\n",
              "      <th>性別</th>\n",
              "      <th>婚姻狀況</th>\n",
              "      <th>職業</th>\n",
              "      <th>辦第一張信用卡的時間</th>\n",
              "    </tr>\n",
              "  </thead>\n",
              "  <tbody>\n",
              "    <tr>\n",
              "      <th>0</th>\n",
              "      <td>7293</td>\n",
              "      <td>57</td>\n",
              "      <td>1955-08-24</td>\n",
              "      <td>大台北地區</td>\n",
              "      <td>專科</td>\n",
              "      <td>1:男</td>\n",
              "      <td>已婚</td>\n",
              "      <td>公務員</td>\n",
              "      <td>2006-11-27</td>\n",
              "    </tr>\n",
              "    <tr>\n",
              "      <th>1</th>\n",
              "      <td>5963</td>\n",
              "      <td>29</td>\n",
              "      <td>1983-12-05</td>\n",
              "      <td>大台北地區</td>\n",
              "      <td>學士</td>\n",
              "      <td>1:男</td>\n",
              "      <td>單身</td>\n",
              "      <td>白領一般職員</td>\n",
              "      <td>2009-07-24</td>\n",
              "    </tr>\n",
              "    <tr>\n",
              "      <th>2</th>\n",
              "      <td>18700</td>\n",
              "      <td>27</td>\n",
              "      <td>1985-12-20</td>\n",
              "      <td>高屏地區</td>\n",
              "      <td>高中</td>\n",
              "      <td>1:男</td>\n",
              "      <td>單身</td>\n",
              "      <td>藍領(勞動工作或作業員)一般職員</td>\n",
              "      <td>2009-09-22</td>\n",
              "    </tr>\n",
              "    <tr>\n",
              "      <th>3</th>\n",
              "      <td>920</td>\n",
              "      <td>39</td>\n",
              "      <td>1973-05-29</td>\n",
              "      <td>大台北地區</td>\n",
              "      <td>學士</td>\n",
              "      <td>1:男</td>\n",
              "      <td>已婚</td>\n",
              "      <td>自營事業老闆</td>\n",
              "      <td>2010-03-05</td>\n",
              "    </tr>\n",
              "    <tr>\n",
              "      <th>4</th>\n",
              "      <td>4612</td>\n",
              "      <td>26</td>\n",
              "      <td>1986-01-06</td>\n",
              "      <td>嘉南地區</td>\n",
              "      <td>學士</td>\n",
              "      <td>1:男</td>\n",
              "      <td>單身</td>\n",
              "      <td>白領一般職員</td>\n",
              "      <td>2010-08-05</td>\n",
              "    </tr>\n",
              "  </tbody>\n",
              "</table>\n",
              "</div>"
            ],
            "text/plain": [
              "    客戶ID  年齡         生日    居住地 教育程度   性別 婚姻狀況                職業 辦第一張信用卡的時間\n",
              "0   7293  57 1955-08-24  大台北地區   專科  1:男   已婚               公務員 2006-11-27\n",
              "1   5963  29 1983-12-05  大台北地區   學士  1:男   單身            白領一般職員 2009-07-24\n",
              "2  18700  27 1985-12-20   高屏地區   高中  1:男   單身  藍領(勞動工作或作業員)一般職員 2009-09-22\n",
              "3    920  39 1973-05-29  大台北地區   學士  1:男   已婚            自營事業老闆 2010-03-05\n",
              "4   4612  26 1986-01-06   嘉南地區   學士  1:男   單身            白領一般職員 2010-08-05"
            ]
          },
          "metadata": {
            "tags": []
          },
          "execution_count": 72
        }
      ]
    },
    {
      "cell_type": "code",
      "metadata": {
        "colab": {
          "base_uri": "https://localhost:8080/",
          "height": 204
        },
        "id": "gqB8PgLZREGh",
        "outputId": "d6c18363-c764-42dd-8d76-df45b62f63c6"
      },
      "source": [
        "creditcard.head()"
      ],
      "execution_count": null,
      "outputs": [
        {
          "output_type": "execute_result",
          "data": {
            "text/html": [
              "<div>\n",
              "<style scoped>\n",
              "    .dataframe tbody tr th:only-of-type {\n",
              "        vertical-align: middle;\n",
              "    }\n",
              "\n",
              "    .dataframe tbody tr th {\n",
              "        vertical-align: top;\n",
              "    }\n",
              "\n",
              "    .dataframe thead th {\n",
              "        text-align: right;\n",
              "    }\n",
              "</style>\n",
              "<table border=\"1\" class=\"dataframe\">\n",
              "  <thead>\n",
              "    <tr style=\"text-align: right;\">\n",
              "      <th></th>\n",
              "      <th>信用卡ID</th>\n",
              "      <th>客戶ID</th>\n",
              "      <th>信用卡開卡日</th>\n",
              "      <th>信用卡到期日</th>\n",
              "      <th>信用額度</th>\n",
              "      <th>卡等</th>\n",
              "    </tr>\n",
              "  </thead>\n",
              "  <tbody>\n",
              "    <tr>\n",
              "      <th>0</th>\n",
              "      <td>41</td>\n",
              "      <td>2027</td>\n",
              "      <td>2006-05-19</td>\n",
              "      <td>2015-08-31</td>\n",
              "      <td>500000</td>\n",
              "      <td>金卡</td>\n",
              "    </tr>\n",
              "    <tr>\n",
              "      <th>1</th>\n",
              "      <td>814</td>\n",
              "      <td>7437</td>\n",
              "      <td>2002-01-14</td>\n",
              "      <td>2016-01-31</td>\n",
              "      <td>200000</td>\n",
              "      <td>普卡</td>\n",
              "    </tr>\n",
              "    <tr>\n",
              "      <th>2</th>\n",
              "      <td>905</td>\n",
              "      <td>6475</td>\n",
              "      <td>2002-05-07</td>\n",
              "      <td>2016-05-31</td>\n",
              "      <td>50000</td>\n",
              "      <td>普卡</td>\n",
              "    </tr>\n",
              "    <tr>\n",
              "      <th>3</th>\n",
              "      <td>1142</td>\n",
              "      <td>18841</td>\n",
              "      <td>2001-07-23</td>\n",
              "      <td>2015-07-31</td>\n",
              "      <td>250000</td>\n",
              "      <td>金卡</td>\n",
              "    </tr>\n",
              "    <tr>\n",
              "      <th>4</th>\n",
              "      <td>1411</td>\n",
              "      <td>14127</td>\n",
              "      <td>2005-10-03</td>\n",
              "      <td>2016-06-30</td>\n",
              "      <td>270000</td>\n",
              "      <td>白金卡</td>\n",
              "    </tr>\n",
              "  </tbody>\n",
              "</table>\n",
              "</div>"
            ],
            "text/plain": [
              "   信用卡ID   客戶ID     信用卡開卡日     信用卡到期日    信用額度   卡等\n",
              "0     41   2027 2006-05-19 2015-08-31  500000   金卡\n",
              "1    814   7437 2002-01-14 2016-01-31  200000   普卡\n",
              "2    905   6475 2002-05-07 2016-05-31   50000   普卡\n",
              "3   1142  18841 2001-07-23 2015-07-31  250000   金卡\n",
              "4   1411  14127 2005-10-03 2016-06-30  270000  白金卡"
            ]
          },
          "metadata": {
            "tags": []
          },
          "execution_count": 73
        }
      ]
    },
    {
      "cell_type": "code",
      "metadata": {
        "colab": {
          "base_uri": "https://localhost:8080/",
          "height": 204
        },
        "id": "YusOHHd2Tt1P",
        "outputId": "85c3aeb1-4b1c-4efe-cc8b-861be798d23c"
      },
      "source": [
        "creditlog.head()"
      ],
      "execution_count": null,
      "outputs": [
        {
          "output_type": "execute_result",
          "data": {
            "text/html": [
              "<div>\n",
              "<style scoped>\n",
              "    .dataframe tbody tr th:only-of-type {\n",
              "        vertical-align: middle;\n",
              "    }\n",
              "\n",
              "    .dataframe tbody tr th {\n",
              "        vertical-align: top;\n",
              "    }\n",
              "\n",
              "    .dataframe thead th {\n",
              "        text-align: right;\n",
              "    }\n",
              "</style>\n",
              "<table border=\"1\" class=\"dataframe\">\n",
              "  <thead>\n",
              "    <tr style=\"text-align: right;\">\n",
              "      <th></th>\n",
              "      <th>交易序號</th>\n",
              "      <th>信用卡ID</th>\n",
              "      <th>客戶ID</th>\n",
              "      <th>刷卡日期</th>\n",
              "      <th>刷卡產品產業分類</th>\n",
              "      <th>刷卡類型</th>\n",
              "      <th>刷卡金額</th>\n",
              "      <th>刷卡地點</th>\n",
              "    </tr>\n",
              "  </thead>\n",
              "  <tbody>\n",
              "    <tr>\n",
              "      <th>0</th>\n",
              "      <td>8</td>\n",
              "      <td>6448</td>\n",
              "      <td>15195</td>\n",
              "      <td>2010-12-01</td>\n",
              "      <td>14_旅遊</td>\n",
              "      <td>一般消費</td>\n",
              "      <td>5200</td>\n",
              "      <td>國內</td>\n",
              "    </tr>\n",
              "    <tr>\n",
              "      <th>1</th>\n",
              "      <td>9</td>\n",
              "      <td>6826</td>\n",
              "      <td>13687</td>\n",
              "      <td>2010-12-01</td>\n",
              "      <td>12_量販超市</td>\n",
              "      <td>一般消費</td>\n",
              "      <td>250</td>\n",
              "      <td>國內</td>\n",
              "    </tr>\n",
              "    <tr>\n",
              "      <th>2</th>\n",
              "      <td>10</td>\n",
              "      <td>6826</td>\n",
              "      <td>13687</td>\n",
              "      <td>2010-12-01</td>\n",
              "      <td>12_量販超市</td>\n",
              "      <td>一般消費</td>\n",
              "      <td>1316</td>\n",
              "      <td>國內</td>\n",
              "    </tr>\n",
              "    <tr>\n",
              "      <th>3</th>\n",
              "      <td>11</td>\n",
              "      <td>7896</td>\n",
              "      <td>179</td>\n",
              "      <td>2010-12-01</td>\n",
              "      <td>10_藥妝</td>\n",
              "      <td>一般消費</td>\n",
              "      <td>218</td>\n",
              "      <td>國內</td>\n",
              "    </tr>\n",
              "    <tr>\n",
              "      <th>4</th>\n",
              "      <td>20</td>\n",
              "      <td>9387</td>\n",
              "      <td>16756</td>\n",
              "      <td>2010-12-01</td>\n",
              "      <td>11_3C居家電信</td>\n",
              "      <td>一般消費</td>\n",
              "      <td>2610</td>\n",
              "      <td>國內</td>\n",
              "    </tr>\n",
              "  </tbody>\n",
              "</table>\n",
              "</div>"
            ],
            "text/plain": [
              "   交易序號  信用卡ID   客戶ID       刷卡日期   刷卡產品產業分類  刷卡類型  刷卡金額 刷卡地點\n",
              "0     8   6448  15195 2010-12-01      14_旅遊  一般消費  5200   國內\n",
              "1     9   6826  13687 2010-12-01    12_量販超市  一般消費   250   國內\n",
              "2    10   6826  13687 2010-12-01    12_量販超市  一般消費  1316   國內\n",
              "3    11   7896    179 2010-12-01      10_藥妝  一般消費   218   國內\n",
              "4    20   9387  16756 2010-12-01  11_3C居家電信  一般消費  2610   國內"
            ]
          },
          "metadata": {
            "tags": []
          },
          "execution_count": 74
        }
      ]
    },
    {
      "cell_type": "markdown",
      "metadata": {
        "id": "FXzsBUGTTui9"
      },
      "source": [
        "# **Create RFM Table**"
      ]
    },
    {
      "cell_type": "code",
      "metadata": {
        "id": "YXhBUxfCCeAp"
      },
      "source": [
        "now = dt.datetime(2012,12,1)\n",
        "Dates = pd.to_datetime(creditlog['刷卡日期'])\n",
        "creditlog['刷卡日期'] = Dates"
      ],
      "execution_count": null,
      "outputs": []
    },
    {
      "cell_type": "code",
      "metadata": {
        "id": "TOB6Ts_gDVe2"
      },
      "source": [
        "rfmTable = creditlog.groupby('客戶ID').agg({'刷卡日期': lambda x: (now - x.max()).days, # Recency\n",
        "                       '客戶ID': lambda x: len(x),      # Frequency\n",
        "                       '刷卡金額': lambda x: x.mean()}) # Monetary Value"
      ],
      "execution_count": null,
      "outputs": []
    },
    {
      "cell_type": "code",
      "metadata": {
        "colab": {
          "base_uri": "https://localhost:8080/",
          "height": 235
        },
        "id": "kFR93joGEh5i",
        "outputId": "aa2fc296-ddb1-4a8b-fa92-6115742363a6"
      },
      "source": [
        "rfmTable.rename(columns={'刷卡日期': 'Recency',\n",
        "             '客戶ID': 'Frequency',\n",
        "             '刷卡金額': 'MV'}, inplace=True)\n",
        "rfmTable.head()"
      ],
      "execution_count": null,
      "outputs": [
        {
          "output_type": "execute_result",
          "data": {
            "text/html": [
              "<div>\n",
              "<style scoped>\n",
              "    .dataframe tbody tr th:only-of-type {\n",
              "        vertical-align: middle;\n",
              "    }\n",
              "\n",
              "    .dataframe tbody tr th {\n",
              "        vertical-align: top;\n",
              "    }\n",
              "\n",
              "    .dataframe thead th {\n",
              "        text-align: right;\n",
              "    }\n",
              "</style>\n",
              "<table border=\"1\" class=\"dataframe\">\n",
              "  <thead>\n",
              "    <tr style=\"text-align: right;\">\n",
              "      <th></th>\n",
              "      <th>Recency</th>\n",
              "      <th>Frequency</th>\n",
              "      <th>MV</th>\n",
              "    </tr>\n",
              "    <tr>\n",
              "      <th>客戶ID</th>\n",
              "      <th></th>\n",
              "      <th></th>\n",
              "      <th></th>\n",
              "    </tr>\n",
              "  </thead>\n",
              "  <tbody>\n",
              "    <tr>\n",
              "      <th>89</th>\n",
              "      <td>19</td>\n",
              "      <td>85</td>\n",
              "      <td>1772.717647</td>\n",
              "    </tr>\n",
              "    <tr>\n",
              "      <th>106</th>\n",
              "      <td>8</td>\n",
              "      <td>75</td>\n",
              "      <td>1202.560000</td>\n",
              "    </tr>\n",
              "    <tr>\n",
              "      <th>131</th>\n",
              "      <td>401</td>\n",
              "      <td>16</td>\n",
              "      <td>4347.375000</td>\n",
              "    </tr>\n",
              "    <tr>\n",
              "      <th>179</th>\n",
              "      <td>290</td>\n",
              "      <td>4</td>\n",
              "      <td>2295.500000</td>\n",
              "    </tr>\n",
              "    <tr>\n",
              "      <th>261</th>\n",
              "      <td>354</td>\n",
              "      <td>13</td>\n",
              "      <td>1524.230769</td>\n",
              "    </tr>\n",
              "  </tbody>\n",
              "</table>\n",
              "</div>"
            ],
            "text/plain": [
              "      Recency  Frequency           MV\n",
              "客戶ID                                 \n",
              "89         19         85  1772.717647\n",
              "106         8         75  1202.560000\n",
              "131       401         16  4347.375000\n",
              "179       290          4  2295.500000\n",
              "261       354         13  1524.230769"
            ]
          },
          "metadata": {
            "tags": []
          },
          "execution_count": 77
        }
      ]
    },
    {
      "cell_type": "code",
      "metadata": {
        "colab": {
          "base_uri": "https://localhost:8080/",
          "height": 419
        },
        "id": "IEhIABs_EQm1",
        "outputId": "c9ba2d61-f9ee-4015-9c7a-7455a93a032d"
      },
      "source": [
        "creditlog[creditlog['客戶ID'] == 106]  # check result"
      ],
      "execution_count": null,
      "outputs": [
        {
          "output_type": "execute_result",
          "data": {
            "text/html": [
              "<div>\n",
              "<style scoped>\n",
              "    .dataframe tbody tr th:only-of-type {\n",
              "        vertical-align: middle;\n",
              "    }\n",
              "\n",
              "    .dataframe tbody tr th {\n",
              "        vertical-align: top;\n",
              "    }\n",
              "\n",
              "    .dataframe thead th {\n",
              "        text-align: right;\n",
              "    }\n",
              "</style>\n",
              "<table border=\"1\" class=\"dataframe\">\n",
              "  <thead>\n",
              "    <tr style=\"text-align: right;\">\n",
              "      <th></th>\n",
              "      <th>交易序號</th>\n",
              "      <th>信用卡ID</th>\n",
              "      <th>客戶ID</th>\n",
              "      <th>刷卡日期</th>\n",
              "      <th>刷卡產品產業分類</th>\n",
              "      <th>刷卡類型</th>\n",
              "      <th>刷卡金額</th>\n",
              "      <th>刷卡地點</th>\n",
              "    </tr>\n",
              "  </thead>\n",
              "  <tbody>\n",
              "    <tr>\n",
              "      <th>107</th>\n",
              "      <td>413</td>\n",
              "      <td>10745</td>\n",
              "      <td>106</td>\n",
              "      <td>2010-12-10</td>\n",
              "      <td>13_交通(含加值)</td>\n",
              "      <td>一般消費</td>\n",
              "      <td>500</td>\n",
              "      <td>國內</td>\n",
              "    </tr>\n",
              "    <tr>\n",
              "      <th>265</th>\n",
              "      <td>1021</td>\n",
              "      <td>10745</td>\n",
              "      <td>106</td>\n",
              "      <td>2010-12-24</td>\n",
              "      <td>13_交通(含加值)</td>\n",
              "      <td>一般消費</td>\n",
              "      <td>500</td>\n",
              "      <td>國內</td>\n",
              "    </tr>\n",
              "    <tr>\n",
              "      <th>497</th>\n",
              "      <td>1951</td>\n",
              "      <td>10745</td>\n",
              "      <td>106</td>\n",
              "      <td>2011-01-14</td>\n",
              "      <td>13_交通(含加值)</td>\n",
              "      <td>一般消費</td>\n",
              "      <td>500</td>\n",
              "      <td>國內</td>\n",
              "    </tr>\n",
              "    <tr>\n",
              "      <th>652</th>\n",
              "      <td>2606</td>\n",
              "      <td>10745</td>\n",
              "      <td>106</td>\n",
              "      <td>2011-01-28</td>\n",
              "      <td>10_藥妝</td>\n",
              "      <td>一般消費</td>\n",
              "      <td>310</td>\n",
              "      <td>國內</td>\n",
              "    </tr>\n",
              "    <tr>\n",
              "      <th>653</th>\n",
              "      <td>2607</td>\n",
              "      <td>10745</td>\n",
              "      <td>106</td>\n",
              "      <td>2011-01-28</td>\n",
              "      <td>13_交通(含加值)</td>\n",
              "      <td>一般消費</td>\n",
              "      <td>500</td>\n",
              "      <td>國內</td>\n",
              "    </tr>\n",
              "    <tr>\n",
              "      <th>...</th>\n",
              "      <td>...</td>\n",
              "      <td>...</td>\n",
              "      <td>...</td>\n",
              "      <td>...</td>\n",
              "      <td>...</td>\n",
              "      <td>...</td>\n",
              "      <td>...</td>\n",
              "      <td>...</td>\n",
              "    </tr>\n",
              "    <tr>\n",
              "      <th>7407</th>\n",
              "      <td>29254</td>\n",
              "      <td>10745</td>\n",
              "      <td>106</td>\n",
              "      <td>2012-10-31</td>\n",
              "      <td>10_藥妝</td>\n",
              "      <td>一般消費</td>\n",
              "      <td>290</td>\n",
              "      <td>國內</td>\n",
              "    </tr>\n",
              "    <tr>\n",
              "      <th>7466</th>\n",
              "      <td>29487</td>\n",
              "      <td>10745</td>\n",
              "      <td>106</td>\n",
              "      <td>2012-11-06</td>\n",
              "      <td>12_量販超市</td>\n",
              "      <td>一般消費</td>\n",
              "      <td>509</td>\n",
              "      <td>國內</td>\n",
              "    </tr>\n",
              "    <tr>\n",
              "      <th>7573</th>\n",
              "      <td>29911</td>\n",
              "      <td>10745</td>\n",
              "      <td>106</td>\n",
              "      <td>2012-11-16</td>\n",
              "      <td>13_交通(含加值)</td>\n",
              "      <td>一般消費</td>\n",
              "      <td>1232</td>\n",
              "      <td>國內</td>\n",
              "    </tr>\n",
              "    <tr>\n",
              "      <th>7595</th>\n",
              "      <td>29963</td>\n",
              "      <td>10745</td>\n",
              "      <td>106</td>\n",
              "      <td>2012-11-19</td>\n",
              "      <td>13_交通(含加值)</td>\n",
              "      <td>一般消費</td>\n",
              "      <td>1738</td>\n",
              "      <td>國內</td>\n",
              "    </tr>\n",
              "    <tr>\n",
              "      <th>7663</th>\n",
              "      <td>30202</td>\n",
              "      <td>10745</td>\n",
              "      <td>106</td>\n",
              "      <td>2012-11-23</td>\n",
              "      <td>13_交通(含加值)</td>\n",
              "      <td>一般消費</td>\n",
              "      <td>500</td>\n",
              "      <td>國內</td>\n",
              "    </tr>\n",
              "  </tbody>\n",
              "</table>\n",
              "<p>75 rows × 8 columns</p>\n",
              "</div>"
            ],
            "text/plain": [
              "       交易序號  信用卡ID  客戶ID       刷卡日期    刷卡產品產業分類  刷卡類型  刷卡金額 刷卡地點\n",
              "107     413  10745   106 2010-12-10  13_交通(含加值)  一般消費   500   國內\n",
              "265    1021  10745   106 2010-12-24  13_交通(含加值)  一般消費   500   國內\n",
              "497    1951  10745   106 2011-01-14  13_交通(含加值)  一般消費   500   國內\n",
              "652    2606  10745   106 2011-01-28       10_藥妝  一般消費   310   國內\n",
              "653    2607  10745   106 2011-01-28  13_交通(含加值)  一般消費   500   國內\n",
              "...     ...    ...   ...        ...         ...   ...   ...  ...\n",
              "7407  29254  10745   106 2012-10-31       10_藥妝  一般消費   290   國內\n",
              "7466  29487  10745   106 2012-11-06     12_量販超市  一般消費   509   國內\n",
              "7573  29911  10745   106 2012-11-16  13_交通(含加值)  一般消費  1232   國內\n",
              "7595  29963  10745   106 2012-11-19  13_交通(含加值)  一般消費  1738   國內\n",
              "7663  30202  10745   106 2012-11-23  13_交通(含加值)  一般消費   500   國內\n",
              "\n",
              "[75 rows x 8 columns]"
            ]
          },
          "metadata": {
            "tags": []
          },
          "execution_count": 78
        }
      ]
    },
    {
      "cell_type": "markdown",
      "metadata": {
        "id": "wpAmkywSGGAK"
      },
      "source": [
        "# **Gerneral RFM**"
      ]
    },
    {
      "cell_type": "markdown",
      "metadata": {
        "id": "rsBVYBZ0OJ5A"
      },
      "source": [
        "## **Determine Quantiles**"
      ]
    },
    {
      "cell_type": "code",
      "metadata": {
        "colab": {
          "base_uri": "https://localhost:8080/",
          "height": 173
        },
        "id": "GcTt6SJ8IuG7",
        "outputId": "e9217eff-b9a2-41b6-a6b8-9fc8eca2f958"
      },
      "source": [
        "quantiles = rfmTable.quantile(q=[0.2, 0.4, 0.6, 0.8])\n",
        "quantiles"
      ],
      "execution_count": null,
      "outputs": [
        {
          "output_type": "execute_result",
          "data": {
            "text/html": [
              "<div>\n",
              "<style scoped>\n",
              "    .dataframe tbody tr th:only-of-type {\n",
              "        vertical-align: middle;\n",
              "    }\n",
              "\n",
              "    .dataframe tbody tr th {\n",
              "        vertical-align: top;\n",
              "    }\n",
              "\n",
              "    .dataframe thead th {\n",
              "        text-align: right;\n",
              "    }\n",
              "</style>\n",
              "<table border=\"1\" class=\"dataframe\">\n",
              "  <thead>\n",
              "    <tr style=\"text-align: right;\">\n",
              "      <th></th>\n",
              "      <th>Recency</th>\n",
              "      <th>Frequency</th>\n",
              "      <th>MV</th>\n",
              "    </tr>\n",
              "  </thead>\n",
              "  <tbody>\n",
              "    <tr>\n",
              "      <th>0.2</th>\n",
              "      <td>3.0</td>\n",
              "      <td>11.8</td>\n",
              "      <td>963.386994</td>\n",
              "    </tr>\n",
              "    <tr>\n",
              "      <th>0.4</th>\n",
              "      <td>5.0</td>\n",
              "      <td>25.2</td>\n",
              "      <td>1453.219444</td>\n",
              "    </tr>\n",
              "    <tr>\n",
              "      <th>0.6</th>\n",
              "      <td>22.4</td>\n",
              "      <td>62.2</td>\n",
              "      <td>2247.493333</td>\n",
              "    </tr>\n",
              "    <tr>\n",
              "      <th>0.8</th>\n",
              "      <td>113.8</td>\n",
              "      <td>98.4</td>\n",
              "      <td>3545.042594</td>\n",
              "    </tr>\n",
              "  </tbody>\n",
              "</table>\n",
              "</div>"
            ],
            "text/plain": [
              "     Recency  Frequency           MV\n",
              "0.2      3.0       11.8   963.386994\n",
              "0.4      5.0       25.2  1453.219444\n",
              "0.6     22.4       62.2  2247.493333\n",
              "0.8    113.8       98.4  3545.042594"
            ]
          },
          "metadata": {
            "tags": []
          },
          "execution_count": 80
        }
      ]
    },
    {
      "cell_type": "markdown",
      "metadata": {
        "id": "6V_9qoTiI678"
      },
      "source": [
        "## **Define Score Function**"
      ]
    },
    {
      "cell_type": "code",
      "metadata": {
        "id": "XERqob1EJSVd"
      },
      "source": [
        "def RClass(x, p, d):\n",
        "    if x <= d[p][0.2]:\n",
        "        return 5\n",
        "    elif x <= d[p][0.4]:\n",
        "        return 4\n",
        "    elif x <= d[p][0.6]: \n",
        "        return 3\n",
        "    elif x <= d[p][0.8]: \n",
        "        return 2\n",
        "    else:\n",
        "        return 1\n",
        "\n",
        "def FMClass(x,p,d):\n",
        "    if x <= d[p][0.2]:\n",
        "        return 1\n",
        "    elif x <= d[p][0.4]:\n",
        "        return 2\n",
        "    elif x <= d[p][0.6]: \n",
        "        return 3\n",
        "    elif x <= d[p][0.8]: \n",
        "        return 4\n",
        "    else:\n",
        "        return 5"
      ],
      "execution_count": null,
      "outputs": []
    },
    {
      "cell_type": "markdown",
      "metadata": {
        "id": "prq0jp4VKupx"
      },
      "source": [
        "\n",
        "## **Compute RFM**"
      ]
    },
    {
      "cell_type": "code",
      "metadata": {
        "id": "s5S_n1_oJ_NV"
      },
      "source": [
        "rfmTable['RI'] = rfmTable['Recency'].apply(RClass, args=('Recency',quantiles,))\n",
        "rfmTable['FI'] = rfmTable['Frequency'].apply(FMClass, args=('Frequency',quantiles,))\n",
        "rfmTable['MI'] = rfmTable['MV'].apply(FMClass, args=('MV',quantiles,))\n",
        "rfmTable['Score'] = rfmTable['RI'] + rfmTable['FI'] + rfmTable['MI']\n",
        "rfmTable['RFMclass'] = rfmTable['RI'].map(str) + rfmTable['FI'].map(str) + rfmTable['MI'].map(str)"
      ],
      "execution_count": null,
      "outputs": []
    },
    {
      "cell_type": "code",
      "metadata": {
        "colab": {
          "base_uri": "https://localhost:8080/",
          "height": 235
        },
        "id": "Q2QTbkmeKNQf",
        "outputId": "d82e04f3-a48f-4dab-9a9d-f39067acd8fa"
      },
      "source": [
        "rfmTable.head()"
      ],
      "execution_count": null,
      "outputs": [
        {
          "output_type": "execute_result",
          "data": {
            "text/html": [
              "<div>\n",
              "<style scoped>\n",
              "    .dataframe tbody tr th:only-of-type {\n",
              "        vertical-align: middle;\n",
              "    }\n",
              "\n",
              "    .dataframe tbody tr th {\n",
              "        vertical-align: top;\n",
              "    }\n",
              "\n",
              "    .dataframe thead th {\n",
              "        text-align: right;\n",
              "    }\n",
              "</style>\n",
              "<table border=\"1\" class=\"dataframe\">\n",
              "  <thead>\n",
              "    <tr style=\"text-align: right;\">\n",
              "      <th></th>\n",
              "      <th>Recency</th>\n",
              "      <th>Frequency</th>\n",
              "      <th>MV</th>\n",
              "      <th>RI</th>\n",
              "      <th>FI</th>\n",
              "      <th>MI</th>\n",
              "      <th>Score</th>\n",
              "      <th>RFMclass</th>\n",
              "    </tr>\n",
              "    <tr>\n",
              "      <th>客戶ID</th>\n",
              "      <th></th>\n",
              "      <th></th>\n",
              "      <th></th>\n",
              "      <th></th>\n",
              "      <th></th>\n",
              "      <th></th>\n",
              "      <th></th>\n",
              "      <th></th>\n",
              "    </tr>\n",
              "  </thead>\n",
              "  <tbody>\n",
              "    <tr>\n",
              "      <th>89</th>\n",
              "      <td>19</td>\n",
              "      <td>85</td>\n",
              "      <td>1772.717647</td>\n",
              "      <td>3</td>\n",
              "      <td>4</td>\n",
              "      <td>3</td>\n",
              "      <td>10</td>\n",
              "      <td>343</td>\n",
              "    </tr>\n",
              "    <tr>\n",
              "      <th>106</th>\n",
              "      <td>8</td>\n",
              "      <td>75</td>\n",
              "      <td>1202.560000</td>\n",
              "      <td>3</td>\n",
              "      <td>4</td>\n",
              "      <td>2</td>\n",
              "      <td>9</td>\n",
              "      <td>342</td>\n",
              "    </tr>\n",
              "    <tr>\n",
              "      <th>131</th>\n",
              "      <td>401</td>\n",
              "      <td>16</td>\n",
              "      <td>4347.375000</td>\n",
              "      <td>1</td>\n",
              "      <td>2</td>\n",
              "      <td>5</td>\n",
              "      <td>8</td>\n",
              "      <td>125</td>\n",
              "    </tr>\n",
              "    <tr>\n",
              "      <th>179</th>\n",
              "      <td>290</td>\n",
              "      <td>4</td>\n",
              "      <td>2295.500000</td>\n",
              "      <td>1</td>\n",
              "      <td>1</td>\n",
              "      <td>4</td>\n",
              "      <td>6</td>\n",
              "      <td>114</td>\n",
              "    </tr>\n",
              "    <tr>\n",
              "      <th>261</th>\n",
              "      <td>354</td>\n",
              "      <td>13</td>\n",
              "      <td>1524.230769</td>\n",
              "      <td>1</td>\n",
              "      <td>2</td>\n",
              "      <td>3</td>\n",
              "      <td>6</td>\n",
              "      <td>123</td>\n",
              "    </tr>\n",
              "  </tbody>\n",
              "</table>\n",
              "</div>"
            ],
            "text/plain": [
              "      Recency  Frequency           MV  RI  FI  MI  Score RFMclass\n",
              "客戶ID                                                             \n",
              "89         19         85  1772.717647   3   4   3     10      343\n",
              "106         8         75  1202.560000   3   4   2      9      342\n",
              "131       401         16  4347.375000   1   2   5      8      125\n",
              "179       290          4  2295.500000   1   1   4      6      114\n",
              "261       354         13  1524.230769   1   2   3      6      123"
            ]
          },
          "metadata": {
            "tags": []
          },
          "execution_count": 83
        }
      ]
    },
    {
      "cell_type": "markdown",
      "metadata": {
        "id": "K4q82AF8KpL4"
      },
      "source": [
        "# **Bob Stone RFM**"
      ]
    },
    {
      "cell_type": "markdown",
      "metadata": {
        "id": "C55hIpgrOWxb"
      },
      "source": [
        "## **Define Bob Stone Score Function**"
      ]
    },
    {
      "cell_type": "code",
      "metadata": {
        "id": "FZ7n9H7sObLV"
      },
      "source": [
        "def BS_RClass(x):\n",
        "    if x <= 90:\n",
        "        return 24\n",
        "    elif x <= 180:\n",
        "        return 12\n",
        "    elif x <= 270: \n",
        "        return 6\n",
        "    elif x <= 360: \n",
        "        return 3\n",
        "    else:\n",
        "        return 0\n",
        "\n",
        "def BS_MClass(x):\n",
        "    Mscore = x / 30 * 0.1\n",
        "    return 9 if Mscore >= 9 else Mscore"
      ],
      "execution_count": null,
      "outputs": []
    },
    {
      "cell_type": "markdown",
      "metadata": {
        "id": "k-4KTVi9RjZQ"
      },
      "source": [
        "## **Compute Bob Stone RFM**"
      ]
    },
    {
      "cell_type": "code",
      "metadata": {
        "id": "29Ru5Pc4PJ_G"
      },
      "source": [
        "rfmTable['BS_RI'] = rfmTable['Recency'].apply(BS_RClass)\n",
        "rfmTable['BS_FI'] = rfmTable['Frequency'].apply(lambda x: 4*x)\n",
        "rfmTable['BS_MI'] = rfmTable['MV'].apply(BS_MClass)\n",
        "rfmTable['BS_Score'] = rfmTable['BS_RI'] + rfmTable['BS_FI'] + rfmTable['BS_MI']"
      ],
      "execution_count": null,
      "outputs": []
    },
    {
      "cell_type": "markdown",
      "metadata": {
        "id": "oKMvN_v7Sxhk"
      },
      "source": [
        "# **Result Table**"
      ]
    },
    {
      "cell_type": "code",
      "metadata": {
        "colab": {
          "base_uri": "https://localhost:8080/"
        },
        "id": "mGgk1o7WPT1I",
        "outputId": "04d44d5c-7972-45d8-b0c0-b33f05e0fe74"
      },
      "source": [
        "rfmTable.shape"
      ],
      "execution_count": null,
      "outputs": [
        {
          "output_type": "execute_result",
          "data": {
            "text/plain": [
              "(100, 12)"
            ]
          },
          "metadata": {
            "tags": []
          },
          "execution_count": 105
        }
      ]
    },
    {
      "cell_type": "code",
      "metadata": {
        "colab": {
          "base_uri": "https://localhost:8080/",
          "height": 450
        },
        "id": "mHDbIcnSPZzY",
        "outputId": "046eac8b-4f54-4c9d-82b6-3c7cc686ffde"
      },
      "source": [
        "rfmTable"
      ],
      "execution_count": null,
      "outputs": [
        {
          "output_type": "execute_result",
          "data": {
            "text/html": [
              "<div>\n",
              "<style scoped>\n",
              "    .dataframe tbody tr th:only-of-type {\n",
              "        vertical-align: middle;\n",
              "    }\n",
              "\n",
              "    .dataframe tbody tr th {\n",
              "        vertical-align: top;\n",
              "    }\n",
              "\n",
              "    .dataframe thead th {\n",
              "        text-align: right;\n",
              "    }\n",
              "</style>\n",
              "<table border=\"1\" class=\"dataframe\">\n",
              "  <thead>\n",
              "    <tr style=\"text-align: right;\">\n",
              "      <th></th>\n",
              "      <th>Recency</th>\n",
              "      <th>Frequency</th>\n",
              "      <th>MV</th>\n",
              "      <th>RI</th>\n",
              "      <th>FI</th>\n",
              "      <th>MI</th>\n",
              "      <th>Score</th>\n",
              "      <th>RFMclass</th>\n",
              "      <th>BS_RI</th>\n",
              "      <th>BS_FI</th>\n",
              "      <th>BS_MI</th>\n",
              "      <th>BS_Score</th>\n",
              "    </tr>\n",
              "    <tr>\n",
              "      <th>客戶ID</th>\n",
              "      <th></th>\n",
              "      <th></th>\n",
              "      <th></th>\n",
              "      <th></th>\n",
              "      <th></th>\n",
              "      <th></th>\n",
              "      <th></th>\n",
              "      <th></th>\n",
              "      <th></th>\n",
              "      <th></th>\n",
              "      <th></th>\n",
              "      <th></th>\n",
              "    </tr>\n",
              "  </thead>\n",
              "  <tbody>\n",
              "    <tr>\n",
              "      <th>89</th>\n",
              "      <td>19</td>\n",
              "      <td>85</td>\n",
              "      <td>1772.717647</td>\n",
              "      <td>3</td>\n",
              "      <td>4</td>\n",
              "      <td>3</td>\n",
              "      <td>10</td>\n",
              "      <td>343</td>\n",
              "      <td>24</td>\n",
              "      <td>340</td>\n",
              "      <td>5.909059</td>\n",
              "      <td>369.909059</td>\n",
              "    </tr>\n",
              "    <tr>\n",
              "      <th>106</th>\n",
              "      <td>8</td>\n",
              "      <td>75</td>\n",
              "      <td>1202.560000</td>\n",
              "      <td>3</td>\n",
              "      <td>4</td>\n",
              "      <td>2</td>\n",
              "      <td>9</td>\n",
              "      <td>342</td>\n",
              "      <td>24</td>\n",
              "      <td>300</td>\n",
              "      <td>4.008533</td>\n",
              "      <td>328.008533</td>\n",
              "    </tr>\n",
              "    <tr>\n",
              "      <th>131</th>\n",
              "      <td>401</td>\n",
              "      <td>16</td>\n",
              "      <td>4347.375000</td>\n",
              "      <td>1</td>\n",
              "      <td>2</td>\n",
              "      <td>5</td>\n",
              "      <td>8</td>\n",
              "      <td>125</td>\n",
              "      <td>0</td>\n",
              "      <td>64</td>\n",
              "      <td>9.000000</td>\n",
              "      <td>73.000000</td>\n",
              "    </tr>\n",
              "    <tr>\n",
              "      <th>179</th>\n",
              "      <td>290</td>\n",
              "      <td>4</td>\n",
              "      <td>2295.500000</td>\n",
              "      <td>1</td>\n",
              "      <td>1</td>\n",
              "      <td>4</td>\n",
              "      <td>6</td>\n",
              "      <td>114</td>\n",
              "      <td>3</td>\n",
              "      <td>16</td>\n",
              "      <td>7.651667</td>\n",
              "      <td>26.651667</td>\n",
              "    </tr>\n",
              "    <tr>\n",
              "      <th>261</th>\n",
              "      <td>354</td>\n",
              "      <td>13</td>\n",
              "      <td>1524.230769</td>\n",
              "      <td>1</td>\n",
              "      <td>2</td>\n",
              "      <td>3</td>\n",
              "      <td>6</td>\n",
              "      <td>123</td>\n",
              "      <td>3</td>\n",
              "      <td>52</td>\n",
              "      <td>5.080769</td>\n",
              "      <td>60.080769</td>\n",
              "    </tr>\n",
              "    <tr>\n",
              "      <th>...</th>\n",
              "      <td>...</td>\n",
              "      <td>...</td>\n",
              "      <td>...</td>\n",
              "      <td>...</td>\n",
              "      <td>...</td>\n",
              "      <td>...</td>\n",
              "      <td>...</td>\n",
              "      <td>...</td>\n",
              "      <td>...</td>\n",
              "      <td>...</td>\n",
              "      <td>...</td>\n",
              "      <td>...</td>\n",
              "    </tr>\n",
              "    <tr>\n",
              "      <th>19239</th>\n",
              "      <td>54</td>\n",
              "      <td>13</td>\n",
              "      <td>3127.230769</td>\n",
              "      <td>2</td>\n",
              "      <td>2</td>\n",
              "      <td>4</td>\n",
              "      <td>8</td>\n",
              "      <td>224</td>\n",
              "      <td>24</td>\n",
              "      <td>52</td>\n",
              "      <td>9.000000</td>\n",
              "      <td>85.000000</td>\n",
              "    </tr>\n",
              "    <tr>\n",
              "      <th>19483</th>\n",
              "      <td>1</td>\n",
              "      <td>107</td>\n",
              "      <td>1735.224299</td>\n",
              "      <td>5</td>\n",
              "      <td>5</td>\n",
              "      <td>3</td>\n",
              "      <td>13</td>\n",
              "      <td>553</td>\n",
              "      <td>24</td>\n",
              "      <td>428</td>\n",
              "      <td>5.784081</td>\n",
              "      <td>457.784081</td>\n",
              "    </tr>\n",
              "    <tr>\n",
              "      <th>19504</th>\n",
              "      <td>5</td>\n",
              "      <td>98</td>\n",
              "      <td>977.367347</td>\n",
              "      <td>4</td>\n",
              "      <td>4</td>\n",
              "      <td>2</td>\n",
              "      <td>10</td>\n",
              "      <td>442</td>\n",
              "      <td>24</td>\n",
              "      <td>392</td>\n",
              "      <td>3.257891</td>\n",
              "      <td>419.257891</td>\n",
              "    </tr>\n",
              "    <tr>\n",
              "      <th>19639</th>\n",
              "      <td>5</td>\n",
              "      <td>201</td>\n",
              "      <td>1626.716418</td>\n",
              "      <td>4</td>\n",
              "      <td>5</td>\n",
              "      <td>3</td>\n",
              "      <td>12</td>\n",
              "      <td>453</td>\n",
              "      <td>24</td>\n",
              "      <td>804</td>\n",
              "      <td>5.422388</td>\n",
              "      <td>833.422388</td>\n",
              "    </tr>\n",
              "    <tr>\n",
              "      <th>19859</th>\n",
              "      <td>3</td>\n",
              "      <td>84</td>\n",
              "      <td>1981.785714</td>\n",
              "      <td>5</td>\n",
              "      <td>4</td>\n",
              "      <td>3</td>\n",
              "      <td>12</td>\n",
              "      <td>543</td>\n",
              "      <td>24</td>\n",
              "      <td>336</td>\n",
              "      <td>6.605952</td>\n",
              "      <td>366.605952</td>\n",
              "    </tr>\n",
              "  </tbody>\n",
              "</table>\n",
              "<p>100 rows × 12 columns</p>\n",
              "</div>"
            ],
            "text/plain": [
              "       Recency  Frequency           MV  RI  ...  BS_RI  BS_FI     BS_MI    BS_Score\n",
              "客戶ID                                        ...                                    \n",
              "89          19         85  1772.717647   3  ...     24    340  5.909059  369.909059\n",
              "106          8         75  1202.560000   3  ...     24    300  4.008533  328.008533\n",
              "131        401         16  4347.375000   1  ...      0     64  9.000000   73.000000\n",
              "179        290          4  2295.500000   1  ...      3     16  7.651667   26.651667\n",
              "261        354         13  1524.230769   1  ...      3     52  5.080769   60.080769\n",
              "...        ...        ...          ...  ..  ...    ...    ...       ...         ...\n",
              "19239       54         13  3127.230769   2  ...     24     52  9.000000   85.000000\n",
              "19483        1        107  1735.224299   5  ...     24    428  5.784081  457.784081\n",
              "19504        5         98   977.367347   4  ...     24    392  3.257891  419.257891\n",
              "19639        5        201  1626.716418   4  ...     24    804  5.422388  833.422388\n",
              "19859        3         84  1981.785714   5  ...     24    336  6.605952  366.605952\n",
              "\n",
              "[100 rows x 12 columns]"
            ]
          },
          "metadata": {
            "tags": []
          },
          "execution_count": 106
        }
      ]
    }
  ]
}